{
 "cells": [
  {
   "cell_type": "markdown",
   "id": "8a37f4cc-76d9-441a-8005-8f20e9ed532a",
   "metadata": {},
   "source": [
    "# MATH 210 Introduction to Mathematical Computing\n",
    "\n",
    "**January 12, 2024**\n",
    "\n",
    "* Numeric Types: integer, float, complex\n",
    "* Arithmetic Operations\n",
    "* Examples: Roots and Taylor Series"
   ]
  },
  {
   "cell_type": "markdown",
   "id": "6d86b32d-6840-469e-a775-c368714f29d9",
   "metadata": {},
   "source": [
    "## Numeric Types and Arithmetic Operations\n",
    "\n",
    "There are 3 main numeric types: integers, floats, complex numbers.\n",
    "\n",
    "The usual arithmetic operations: `+`, `-`, `*`, `/`, `**`.\n",
    "\n",
    "Integers are whole numbers such as 1 and -5. Add integers:"
   ]
  },
  {
   "cell_type": "code",
   "execution_count": 1,
   "id": "956ebd07-6234-4a22-8c60-1b3f14d83bbd",
   "metadata": {},
   "outputs": [
    {
     "data": {
      "text/plain": [
       "2024"
      ]
     },
     "execution_count": 1,
     "metadata": {},
     "output_type": "execute_result"
    }
   ],
   "source": [
    "2005 + 19"
   ]
  },
  {
   "cell_type": "code",
   "execution_count": 2,
   "id": "cb6f552e-7d61-4aa8-a079-2d338b0c633a",
   "metadata": {},
   "outputs": [
    {
     "data": {
      "text/plain": [
       "26"
      ]
     },
     "execution_count": 2,
     "metadata": {},
     "output_type": "execute_result"
    }
   ],
   "source": [
    "2024 - 1998"
   ]
  },
  {
   "cell_type": "code",
   "execution_count": 3,
   "id": "2c6f6206-201e-4fcc-873d-07e84c6c84b2",
   "metadata": {},
   "outputs": [
    {
     "data": {
      "text/plain": [
       "120"
      ]
     },
     "execution_count": 3,
     "metadata": {},
     "output_type": "execute_result"
    }
   ],
   "source": [
    "1*2*3*4*5"
   ]
  },
  {
   "cell_type": "code",
   "execution_count": 4,
   "id": "322fa066-dd4b-4635-a75c-8f66742387d9",
   "metadata": {},
   "outputs": [
    {
     "data": {
      "text/plain": [
       "4"
      ]
     },
     "execution_count": 4,
     "metadata": {},
     "output_type": "execute_result"
    }
   ],
   "source": [
    "2**2"
   ]
  },
  {
   "cell_type": "code",
   "execution_count": 5,
   "id": "a68ab4dd-46b4-4c72-ada5-d80f152f1c27",
   "metadata": {},
   "outputs": [
    {
     "data": {
      "text/plain": [
       "int"
      ]
     },
     "execution_count": 5,
     "metadata": {},
     "output_type": "execute_result"
    }
   ],
   "source": [
    "type(42)"
   ]
  },
  {
   "cell_type": "code",
   "execution_count": 6,
   "id": "e3f5a2e8-339d-495d-9eab-f4831373457e",
   "metadata": {},
   "outputs": [
    {
     "data": {
      "text/plain": [
       "4.0"
      ]
     },
     "execution_count": 6,
     "metadata": {},
     "output_type": "execute_result"
    }
   ],
   "source": [
    "20/5"
   ]
  },
  {
   "cell_type": "code",
   "execution_count": 7,
   "id": "446ad2b3-c331-488f-a16b-578b37210c18",
   "metadata": {},
   "outputs": [
    {
     "data": {
      "text/plain": [
       "float"
      ]
     },
     "execution_count": 7,
     "metadata": {},
     "output_type": "execute_result"
    }
   ],
   "source": [
    "type(4.0)"
   ]
  },
  {
   "cell_type": "markdown",
   "id": "df8a7a99-0b7e-4a48-a97d-8bcdacca34e9",
   "metadata": {},
   "source": [
    "A floating point number (aka float) is a real number in decimal form. Note that division of integers always returns a float."
   ]
  },
  {
   "cell_type": "code",
   "execution_count": 8,
   "id": "d63785ad-bfc9-4411-87ba-a1acdad7a301",
   "metadata": {},
   "outputs": [
    {
     "data": {
      "text/plain": [
       "4.0"
      ]
     },
     "execution_count": 8,
     "metadata": {},
     "output_type": "execute_result"
    }
   ],
   "source": [
    "12/3"
   ]
  },
  {
   "cell_type": "code",
   "execution_count": 9,
   "id": "cb92f860-14b3-495d-b96a-68a1dd65232f",
   "metadata": {},
   "outputs": [
    {
     "data": {
      "text/plain": [
       "2.4"
      ]
     },
     "execution_count": 9,
     "metadata": {},
     "output_type": "execute_result"
    }
   ],
   "source": [
    "12/5"
   ]
  },
  {
   "cell_type": "code",
   "execution_count": 10,
   "id": "67275aae-f868-4c5d-bbc7-124352affd3a",
   "metadata": {},
   "outputs": [
    {
     "data": {
      "text/plain": [
       "1.4142135623730951"
      ]
     },
     "execution_count": 10,
     "metadata": {},
     "output_type": "execute_result"
    }
   ],
   "source": [
    "2**(0.5)"
   ]
  },
  {
   "cell_type": "code",
   "execution_count": 11,
   "id": "ba6a3aa0-12f8-4a2b-97bd-97fc181000c4",
   "metadata": {},
   "outputs": [
    {
     "data": {
      "text/plain": [
       "0.7071067811865476"
      ]
     },
     "execution_count": 11,
     "metadata": {},
     "output_type": "execute_result"
    }
   ],
   "source": [
    "0.5**0.5"
   ]
  },
  {
   "cell_type": "code",
   "execution_count": 12,
   "id": "fd5b1233-55d7-4229-a910-4a89eefdfb64",
   "metadata": {},
   "outputs": [
    {
     "data": {
      "text/plain": [
       "0.30000000000000004"
      ]
     },
     "execution_count": 12,
     "metadata": {},
     "output_type": "execute_result"
    }
   ],
   "source": [
    "0.1 + 0.2"
   ]
  },
  {
   "cell_type": "markdown",
   "id": "4eb178dd-84e8-4851-9100-fb2a299e5f0f",
   "metadata": {},
   "source": [
    "Use scientific notation for floats."
   ]
  },
  {
   "cell_type": "code",
   "execution_count": 13,
   "id": "dfbcb6b7-44eb-4989-905b-c569ebca48f3",
   "metadata": {},
   "outputs": [
    {
     "data": {
      "text/plain": [
       "0.001"
      ]
     },
     "execution_count": 13,
     "metadata": {},
     "output_type": "execute_result"
    }
   ],
   "source": [
    "1e-3"
   ]
  },
  {
   "cell_type": "code",
   "execution_count": 14,
   "id": "f0145c85-5c3e-4dbe-bfea-66f80052f0e7",
   "metadata": {},
   "outputs": [
    {
     "data": {
      "text/plain": [
       "float"
      ]
     },
     "execution_count": 14,
     "metadata": {},
     "output_type": "execute_result"
    }
   ],
   "source": [
    "type(0.01)"
   ]
  },
  {
   "cell_type": "code",
   "execution_count": 15,
   "id": "22cfda91-a5d4-445d-a880-b40ab5c4f2b5",
   "metadata": {},
   "outputs": [
    {
     "data": {
      "text/plain": [
       "3.1415926"
      ]
     },
     "execution_count": 15,
     "metadata": {},
     "output_type": "execute_result"
    }
   ],
   "source": [
    "3.1415926"
   ]
  },
  {
   "cell_type": "markdown",
   "id": "93b48f9d-1cd6-4e0e-a516-86efcd8782f0",
   "metadata": {},
   "source": [
    "The complex number $\\sqrt{-1}$ is denoted by `1j` in Python."
   ]
  },
  {
   "cell_type": "code",
   "execution_count": 16,
   "id": "c421150a-564c-4df6-9fb7-b2b079a7622a",
   "metadata": {},
   "outputs": [
    {
     "data": {
      "text/plain": [
       "(1+1j)"
      ]
     },
     "execution_count": 16,
     "metadata": {},
     "output_type": "execute_result"
    }
   ],
   "source": [
    "1+1j"
   ]
  },
  {
   "cell_type": "code",
   "execution_count": 17,
   "id": "6f936981-327b-4ba5-a1c1-9f25eccc1449",
   "metadata": {},
   "outputs": [
    {
     "data": {
      "text/plain": [
       "complex"
      ]
     },
     "execution_count": 17,
     "metadata": {},
     "output_type": "execute_result"
    }
   ],
   "source": [
    "type(1+1j)"
   ]
  },
  {
   "cell_type": "code",
   "execution_count": 18,
   "id": "3295aa95-5fdf-4bd7-91fc-55f41a13eb6e",
   "metadata": {},
   "outputs": [
    {
     "data": {
      "text/plain": [
       "(6.123233995736766e-17+1j)"
      ]
     },
     "execution_count": 18,
     "metadata": {},
     "output_type": "execute_result"
    }
   ],
   "source": [
    "(-1)**0.5"
   ]
  },
  {
   "cell_type": "markdown",
   "id": "2f654896-e0df-4100-b91b-d1ae4af35beb",
   "metadata": {},
   "source": [
    "What is this?! The number `6.123233995736766e-17` is $6.123233995736766 \\times 10^{-17} \\approx 0$ and so we interpret it as 0. Therefore `(-1)**0.5` is `1j`."
   ]
  },
  {
   "cell_type": "markdown",
   "id": "d8d17fda-5d92-4b53-836d-d7d098d23df3",
   "metadata": {},
   "source": [
    "If `x` is an integer and `y` is a float then what is the type of `x*y`?"
   ]
  },
  {
   "cell_type": "code",
   "execution_count": 19,
   "id": "6d02a2d2-a873-4093-9c04-e40deb60d853",
   "metadata": {},
   "outputs": [
    {
     "data": {
      "text/plain": [
       "6.28318"
      ]
     },
     "execution_count": 19,
     "metadata": {},
     "output_type": "execute_result"
    }
   ],
   "source": [
    "2*3.14159"
   ]
  },
  {
   "cell_type": "code",
   "execution_count": 20,
   "id": "f6a03ecb-c4dd-4eb6-916a-d25de5b7052b",
   "metadata": {},
   "outputs": [
    {
     "data": {
      "text/plain": [
       "float"
      ]
     },
     "execution_count": 20,
     "metadata": {},
     "output_type": "execute_result"
    }
   ],
   "source": [
    "type(2*3.14159)"
   ]
  },
  {
   "cell_type": "markdown",
   "id": "f8980fc0-6471-4411-bd04-e34722df6fff",
   "metadata": {},
   "source": [
    "If `x` and `y` are integers then what is the type of `x**y`?"
   ]
  },
  {
   "cell_type": "code",
   "execution_count": 21,
   "id": "29aaf7e2-c262-4315-80be-4972b789d955",
   "metadata": {},
   "outputs": [
    {
     "data": {
      "text/plain": [
       "32"
      ]
     },
     "execution_count": 21,
     "metadata": {},
     "output_type": "execute_result"
    }
   ],
   "source": [
    "2**5"
   ]
  },
  {
   "cell_type": "code",
   "execution_count": 22,
   "id": "24047e65-93b1-4e6d-b136-a61af9031c05",
   "metadata": {},
   "outputs": [
    {
     "data": {
      "text/plain": [
       "-8"
      ]
     },
     "execution_count": 22,
     "metadata": {},
     "output_type": "execute_result"
    }
   ],
   "source": [
    "(-2)**3"
   ]
  },
  {
   "cell_type": "code",
   "execution_count": 23,
   "id": "a579c26b-56c9-4aff-b6b4-e903b5d9e4ef",
   "metadata": {},
   "outputs": [
    {
     "data": {
      "text/plain": [
       "0.3333333333333333"
      ]
     },
     "execution_count": 23,
     "metadata": {},
     "output_type": "execute_result"
    }
   ],
   "source": [
    "3**(-1)"
   ]
  },
  {
   "cell_type": "markdown",
   "id": "409ceb98-2f5a-4e9c-83b8-5193fca967c2",
   "metadata": {},
   "source": [
    "If `y` positive or 0 then `x**y` is an integer. If `y` negative then `x**y` is a float. "
   ]
  },
  {
   "cell_type": "markdown",
   "id": "c3db4a1b-022d-4677-8830-63a7857b39fb",
   "metadata": {},
   "source": [
    "## Examples\n",
    "\n",
    "### Quadratic Formula\n",
    "\n",
    "The roots of $ax^2 + bx + c$ are given by the quadratic formula:\n",
    "\n",
    "$$\n",
    "\\frac{-b \\pm \\sqrt{b^2 - 4ac}}{2a}\n",
    "$$\n",
    "\n",
    "For example, the roots of $x^2 - x - 1$ are:"
   ]
  },
  {
   "cell_type": "code",
   "execution_count": 24,
   "id": "c464e885-c5a2-4a70-960c-d7ff78468d51",
   "metadata": {},
   "outputs": [
    {
     "data": {
      "text/plain": [
       "1.618033988749895"
      ]
     },
     "execution_count": 24,
     "metadata": {},
     "output_type": "execute_result"
    }
   ],
   "source": [
    "(1 + ((-1)**2 - 4*1*(-1))**0.5)/(2*1)"
   ]
  },
  {
   "cell_type": "code",
   "execution_count": 25,
   "id": "51f1a021-dcf1-4f09-b9d0-120f871064da",
   "metadata": {},
   "outputs": [
    {
     "data": {
      "text/plain": [
       "-0.6180339887498949"
      ]
     },
     "execution_count": 25,
     "metadata": {},
     "output_type": "execute_result"
    }
   ],
   "source": [
    "(1 - ((-1)**2 - 4*1*(-1))**0.5)/(2*1)"
   ]
  },
  {
   "cell_type": "markdown",
   "id": "189025e7-3cbd-41f2-8e88-d8357866f7e1",
   "metadata": {},
   "source": [
    "Note that we use parentheses to group arithmetic operations together. We can't use `[ ]` or `{ }`."
   ]
  },
  {
   "cell_type": "code",
   "execution_count": 26,
   "id": "d17a271a-63fb-454b-9094-703f4b407481",
   "metadata": {},
   "outputs": [
    {
     "ename": "TypeError",
     "evalue": "unsupported operand type(s) for /: 'list' and 'int'",
     "output_type": "error",
     "traceback": [
      "\u001b[0;31m---------------------------------------------------------------------------\u001b[0m",
      "\u001b[0;31mTypeError\u001b[0m                                 Traceback (most recent call last)",
      "Cell \u001b[0;32mIn[26], line 1\u001b[0m\n\u001b[0;32m----> 1\u001b[0m \u001b[43m[\u001b[49m\u001b[38;5;241;43m1\u001b[39;49m\u001b[43m \u001b[49m\u001b[38;5;241;43m+\u001b[39;49m\u001b[43m \u001b[49m\u001b[38;5;241;43m5\u001b[39;49m\u001b[38;5;241;43m*\u001b[39;49m\u001b[38;5;241;43m*\u001b[39;49m\u001b[38;5;241;43m0.5\u001b[39;49m\u001b[43m]\u001b[49m\u001b[38;5;241;43m/\u001b[39;49m\u001b[38;5;241;43m2\u001b[39;49m\n",
      "\u001b[0;31mTypeError\u001b[0m: unsupported operand type(s) for /: 'list' and 'int'"
     ]
    }
   ],
   "source": [
    "[1 + 5**0.5]/2"
   ]
  },
  {
   "cell_type": "code",
   "execution_count": 27,
   "id": "f8a047b9-1054-493b-bfa8-2f904acf0c73",
   "metadata": {},
   "outputs": [
    {
     "ename": "TypeError",
     "evalue": "unsupported operand type(s) for /: 'set' and 'int'",
     "output_type": "error",
     "traceback": [
      "\u001b[0;31m---------------------------------------------------------------------------\u001b[0m",
      "\u001b[0;31mTypeError\u001b[0m                                 Traceback (most recent call last)",
      "Cell \u001b[0;32mIn[27], line 1\u001b[0m\n\u001b[0;32m----> 1\u001b[0m \u001b[43m{\u001b[49m\u001b[38;5;241;43m1\u001b[39;49m\u001b[43m \u001b[49m\u001b[38;5;241;43m+\u001b[39;49m\u001b[43m \u001b[49m\u001b[38;5;241;43m5\u001b[39;49m\u001b[43m}\u001b[49m\u001b[38;5;241;43m/\u001b[39;49m\u001b[38;5;241;43m2\u001b[39;49m\n",
      "\u001b[0;31mTypeError\u001b[0m: unsupported operand type(s) for /: 'set' and 'int'"
     ]
    }
   ],
   "source": [
    "{1 + 5}/2"
   ]
  },
  {
   "cell_type": "markdown",
   "id": "da90be2e-d704-4e2c-b6ef-612262e7250b",
   "metadata": {},
   "source": [
    "### Taylor Series\n",
    "\n",
    "The Taylor series of $f(x)$ centered at $x=a$ is\n",
    "\n",
    "$$\n",
    "f(x) = \\sum_{k=0}^{\\infty} \\frac{f^{(k)}(a)}{k!} (x - a)^k\n",
    "$$\n",
    "\n",
    "Taylor series of $e^x$ centered at $a=0$ is:\n",
    "\n",
    "$$\n",
    "e^x = \\sum_{k=0}^{\\infty} \\frac{1}{k!} (x - 0)^k = \\sum_{k=0}^{\\infty} \\frac{x^k}{k!}\n",
    "$$\n",
    "\n",
    "Approximate $e$ by $x=1$ and summing up to $N=5$:\n",
    "\n",
    "$$\n",
    "e \\approx \\sum_{k=0}^{N} \\frac{1}{k!}\n",
    "$$"
   ]
  },
  {
   "cell_type": "code",
   "execution_count": 28,
   "id": "7bc44293-f9be-44b3-857b-533f76a8e33e",
   "metadata": {},
   "outputs": [
    {
     "data": {
      "text/plain": [
       "2.7166666666666663"
      ]
     },
     "execution_count": 28,
     "metadata": {},
     "output_type": "execute_result"
    }
   ],
   "source": [
    "1 + 1/1 + 1/(1*2) + 1/(1*2*3) + 1/(1*2*3*4) + 1/(1*2*3*4*5)"
   ]
  },
  {
   "cell_type": "markdown",
   "id": "5e87ebe3-2544-4396-9428-d27a953ef1c8",
   "metadata": {},
   "source": [
    "Approximate $1/e$ by $x=-1$ and summing up to $N=5$:\n",
    "\n",
    "$$\n",
    "e^{-1} \\approx \\sum_{k=0}^{N} \\frac{(-1)^k}{k!}\n",
    "$$"
   ]
  },
  {
   "cell_type": "code",
   "execution_count": 29,
   "id": "4729b6ff-a546-455a-a0e2-d91c9045ad97",
   "metadata": {},
   "outputs": [
    {
     "data": {
      "text/plain": [
       "0.3666666666666667"
      ]
     },
     "execution_count": 29,
     "metadata": {},
     "output_type": "execute_result"
    }
   ],
   "source": [
    "1 - 1/1 + 1/(1*2) - 1/(1*2*3) + 1/(1*2*3*4) - 1/(1*2*3*4*5)"
   ]
  },
  {
   "cell_type": "markdown",
   "id": "d5993d26-6046-459a-8925-72ed202882ce",
   "metadata": {},
   "source": [
    "## Variables\n",
    "\n",
    "Use variable `x` so that we can change the value without editing the whole formula."
   ]
  },
  {
   "cell_type": "code",
   "execution_count": 30,
   "id": "f9dc6fe7-7c28-4108-851f-486ab027bf96",
   "metadata": {},
   "outputs": [
    {
     "data": {
      "text/plain": [
       "2.7166666666666663"
      ]
     },
     "execution_count": 30,
     "metadata": {},
     "output_type": "execute_result"
    }
   ],
   "source": [
    "x = 1\n",
    "x**0 + x**1/1 + x**2/(1*2) + x**3/(1*2*3) + x**4/(1*2*3*4) + x**5/(1*2*3*4*5)"
   ]
  }
 ],
 "metadata": {
  "kernelspec": {
   "display_name": "Python 3 (ipykernel)",
   "language": "python",
   "name": "python3"
  },
  "language_info": {
   "codemirror_mode": {
    "name": "ipython",
    "version": 3
   },
   "file_extension": ".py",
   "mimetype": "text/x-python",
   "name": "python",
   "nbconvert_exporter": "python",
   "pygments_lexer": "ipython3",
   "version": "3.11.6"
  }
 },
 "nbformat": 4,
 "nbformat_minor": 5
}
