{
 "cells": [
  {
   "cell_type": "markdown",
   "id": "f770f973-fd75-42b3-918c-18fa85303161",
   "metadata": {},
   "source": [
    "# MATH 210 Introduction to Mathematical Computing\n",
    "\n",
    "**February 9, 2024**"
   ]
  },
  {
   "cell_type": "markdown",
   "id": "e4cb2282-cc9a-408e-a6c7-136febf3b45a",
   "metadata": {},
   "source": [
    "## Python Packages\n",
    "\n",
    "A Python package is a collection of files containing Python code. There are packages for everything! Machine learning, creating websites, cryptography, deep learning, ...\n",
    "\n",
    "We are going use 3 main mathematical computing packages: NumPy, SciPy and Matplotlib."
   ]
  },
  {
   "cell_type": "markdown",
   "id": "6069f21e-7d36-4160-a132-8fe1a529464d",
   "metadata": {},
   "source": [
    "Check out the documentation: [NumPy](https://numpy.org), [SciPy](https://scipy.org) and [Matplotlib](https://matplotlib.org)."
   ]
  },
  {
   "cell_type": "markdown",
   "id": "e86ad177-113a-4f3d-a7a3-765ca8e08bf3",
   "metadata": {},
   "source": [
    "Use the `import` keyword to import a package."
   ]
  },
  {
   "cell_type": "code",
   "execution_count": 1,
   "id": "25e8afde-02e5-4f3a-aec7-fba110dfd2e4",
   "metadata": {
    "tags": []
   },
   "outputs": [],
   "source": [
    "import numpy as np"
   ]
  },
  {
   "cell_type": "markdown",
   "id": "5d6705ce-88fb-41bf-b705-c4aee4c29c2a",
   "metadata": {},
   "source": [
    "The keyword `as` allows us to use the alias `np`."
   ]
  },
  {
   "cell_type": "markdown",
   "id": "6ec7b2af-8cba-42f4-89e8-adb68c8ebd7b",
   "metadata": {},
   "source": [
    "Use the dot syntax to access functions and objects in the NumPy package."
   ]
  },
  {
   "cell_type": "markdown",
   "id": "4ae93904-accc-4e48-b6bc-24a1beb698c8",
   "metadata": {},
   "source": [
    "For example, we have the function `np.linspace(a,b,N)` which generates $N$ equally spaced values from $a$ to $b$."
   ]
  },
  {
   "cell_type": "code",
   "execution_count": 2,
   "id": "e5361367-f6be-4f68-908c-1057560075c6",
   "metadata": {
    "tags": []
   },
   "outputs": [
    {
     "data": {
      "text/plain": [
       "array([0. , 0.1, 0.2, 0.3, 0.4, 0.5, 0.6, 0.7, 0.8, 0.9, 1. ])"
      ]
     },
     "execution_count": 2,
     "metadata": {},
     "output_type": "execute_result"
    }
   ],
   "source": [
    "np.linspace(0,1,11)"
   ]
  },
  {
   "cell_type": "markdown",
   "id": "1b9882f2-9604-4387-a94f-847870eb6f78",
   "metadata": {},
   "source": [
    "NumPy performs floating point arithmetic more accurately than pure Python. Compare:"
   ]
  },
  {
   "cell_type": "code",
   "execution_count": 3,
   "id": "82f9e300-bfc0-4fc3-b9b4-92bfdf237eb1",
   "metadata": {
    "tags": []
   },
   "outputs": [
    {
     "data": {
      "text/plain": [
       "[0.0,\n",
       " 0.1,\n",
       " 0.2,\n",
       " 0.30000000000000004,\n",
       " 0.4,\n",
       " 0.5,\n",
       " 0.6000000000000001,\n",
       " 0.7000000000000001,\n",
       " 0.8,\n",
       " 0.9,\n",
       " 1.0]"
      ]
     },
     "execution_count": 3,
     "metadata": {},
     "output_type": "execute_result"
    }
   ],
   "source": [
    "[0.1*k for k in range(11)]"
   ]
  },
  {
   "cell_type": "markdown",
   "id": "7e7600b9-bb93-4591-b3ca-82e6b1d62ead",
   "metadata": {},
   "source": [
    "The function `np.linspace` returns a NumPy array."
   ]
  },
  {
   "cell_type": "code",
   "execution_count": 4,
   "id": "89d33a9b-fd4c-4f45-9d64-d21fb2962ef0",
   "metadata": {
    "tags": []
   },
   "outputs": [],
   "source": [
    "x = np.linspace(0,1,5)"
   ]
  },
  {
   "cell_type": "code",
   "execution_count": 5,
   "id": "b6900ec9-3472-4d32-8a78-a51c2bdf1a1b",
   "metadata": {
    "tags": []
   },
   "outputs": [
    {
     "name": "stdout",
     "output_type": "stream",
     "text": [
      "[0.   0.25 0.5  0.75 1.  ]\n"
     ]
    }
   ],
   "source": [
    "print(x)"
   ]
  },
  {
   "cell_type": "code",
   "execution_count": 6,
   "id": "de3072dc-7d3d-4a57-88a4-044ed95fdfe1",
   "metadata": {
    "tags": []
   },
   "outputs": [
    {
     "data": {
      "text/plain": [
       "numpy.ndarray"
      ]
     },
     "execution_count": 6,
     "metadata": {},
     "output_type": "execute_result"
    }
   ],
   "source": [
    "type(x)"
   ]
  },
  {
   "cell_type": "markdown",
   "id": "82943150-419b-438a-a622-e834ea814f89",
   "metadata": {},
   "source": [
    "NumPy arrays are like vectors and matrices and we can add them and do operations on them."
   ]
  },
  {
   "cell_type": "markdown",
   "id": "e72605d5-a9d1-4046-9d4c-960607c871e6",
   "metadata": {},
   "source": [
    "We also have all the usual math functions: `np.sin`, `np.cos`, `np.exp`, `np.log`, ..."
   ]
  },
  {
   "cell_type": "code",
   "execution_count": 7,
   "id": "275840f6-41d1-4e86-aa94-15284180fa7b",
   "metadata": {
    "tags": []
   },
   "outputs": [
    {
     "data": {
      "text/plain": [
       "0.8414709848078965"
      ]
     },
     "execution_count": 7,
     "metadata": {},
     "output_type": "execute_result"
    }
   ],
   "source": [
    "np.sin(1)"
   ]
  },
  {
   "cell_type": "code",
   "execution_count": 8,
   "id": "f4505004-e6bd-4f75-8b85-9d44541f0cb8",
   "metadata": {
    "tags": []
   },
   "outputs": [
    {
     "data": {
      "text/plain": [
       "2.718281828459045"
      ]
     },
     "execution_count": 8,
     "metadata": {},
     "output_type": "execute_result"
    }
   ],
   "source": [
    "np.exp(1)"
   ]
  },
  {
   "cell_type": "code",
   "execution_count": 9,
   "id": "89595d24-7c2c-4019-8d9d-118c1e17b31a",
   "metadata": {
    "tags": []
   },
   "outputs": [
    {
     "data": {
      "text/plain": [
       "0.6931471805599453"
      ]
     },
     "execution_count": 9,
     "metadata": {},
     "output_type": "execute_result"
    }
   ],
   "source": [
    "np.log(2)"
   ]
  },
  {
   "cell_type": "markdown",
   "id": "30e2a985-b140-4c0d-8611-e39daecd9158",
   "metadata": {},
   "source": [
    "We plot graphs using NumPy arrays with the package Matplotlib."
   ]
  },
  {
   "cell_type": "code",
   "execution_count": 10,
   "id": "46e2b41a-4fe2-4711-80c4-9cd16a115b69",
   "metadata": {
    "tags": []
   },
   "outputs": [],
   "source": [
    "import matplotlib.pyplot as plt"
   ]
  },
  {
   "cell_type": "code",
   "execution_count": 11,
   "id": "82b9935b-3c73-4268-a681-e11ddd5d1ea6",
   "metadata": {
    "tags": []
   },
   "outputs": [
    {
     "data": {
      "image/png": "[encoded data removed]",
      "text/plain": [
       "<Figure size 640x480 with 1 Axes>"
      ]
     },
     "metadata": {},
     "output_type": "display_data"
    }
   ],
   "source": [
    "x = np.linspace(0,2,20)\n",
    "y = np.exp(-x)\n",
    "plt.plot(x,y,'.-')\n",
    "plt.show()"
   ]
  },
  {
   "cell_type": "code",
   "execution_count": 12,
   "id": "00c5046c-5d74-4719-a803-733889383065",
   "metadata": {
    "tags": []
   },
   "outputs": [
    {
     "data": {
      "image/png": "[encoded data removed]",
      "text/plain": [
       "<Figure size 640x480 with 1 Axes>"
      ]
     },
     "metadata": {},
     "output_type": "display_data"
    }
   ],
   "source": [
    "x = np.linspace(0,2,50)\n",
    "y = 1/(1 + np.exp(-x**2))\n",
    "plt.plot(x,y)\n",
    "plt.show()"
   ]
  },
  {
   "cell_type": "code",
   "execution_count": 13,
   "id": "a1789265-560f-4b21-80f6-7483e957636f",
   "metadata": {
    "tags": []
   },
   "outputs": [
    {
     "data": {
      "text/plain": [
       "numpy.ndarray"
      ]
     },
     "execution_count": 13,
     "metadata": {},
     "output_type": "execute_result"
    }
   ],
   "source": [
    "type(y)"
   ]
  },
  {
   "cell_type": "markdown",
   "id": "b67ab85b-f0e4-4131-8dc3-0aa9beb29f37",
   "metadata": {},
   "source": [
    "## Vectorization"
   ]
  },
  {
   "cell_type": "code",
   "execution_count": 26,
   "id": "5dfa3c69-e06c-4698-ad1a-e0dfe3344cb7",
   "metadata": {
    "tags": []
   },
   "outputs": [
    {
     "name": "stdout",
     "output_type": "stream",
     "text": [
      "[0.   0.25 0.5  0.75 1.  ]\n"
     ]
    }
   ],
   "source": [
    "x = np.linspace(0,1,5)\n",
    "print(x)"
   ]
  },
  {
   "cell_type": "code",
   "execution_count": 27,
   "id": "a821b3d4-1425-4778-8513-4c65bb036f58",
   "metadata": {
    "tags": []
   },
   "outputs": [
    {
     "name": "stdout",
     "output_type": "stream",
     "text": [
      "[0.     0.0625 0.25   0.5625 1.    ]\n"
     ]
    }
   ],
   "source": [
    "print(x**2)"
   ]
  },
  {
   "cell_type": "markdown",
   "id": "1ef0b6b1-b3e2-410e-9676-b66698d4e689",
   "metadata": {},
   "source": [
    "Vectorization means applying a function or operation to each entry in a vector. For example, $\\mathbf{x} = (x_0,x_1,\\dots,x_{n-1})$ then\n",
    "\n",
    "$$\n",
    "\\mathbf{x}^2 = \\left( x_0^2,x_1^2,\\dots,x_{n-1}^2 \\right)\n",
    "$$"
   ]
  },
  {
   "cell_type": "markdown",
   "id": "3b22e575-3814-487a-9519-445dedd16ff0",
   "metadata": {},
   "source": [
    "So let's write each of the operations in the example above:"
   ]
  },
  {
   "cell_type": "markdown",
   "id": "002dff19-f232-4867-9962-1a0b27604ac4",
   "metadata": {},
   "source": [
    "$$\n",
    "e^{-\\mathbf{x}^2} = \\left( e^{-x_0^2},e^{-x_1^2},\\dots,e^{-x_{n-1}^2} \\right)\n",
    "$$"
   ]
  },
  {
   "cell_type": "markdown",
   "id": "9286580a-450f-4a77-ba1d-54448bd9ec5e",
   "metadata": {},
   "source": [
    "$$\n",
    "1 + e^{-\\mathbf{x}^2} = \\left( 1 + e^{-x_0^2} , 1 + e^{-x_1^2} , \\dots , 1 + e^{-x_{n-1}^2} \\right)\n",
    "$$"
   ]
  },
  {
   "cell_type": "markdown",
   "id": "ba2e68c1-e428-40c8-beae-ad008669f542",
   "metadata": {},
   "source": [
    "$$\n",
    "\\frac{1}{1 + e^{-\\mathbf{x}^2}} = \\left( \\frac{1}{1 + e^{-x_0^2}} , \\frac{1}{1 + e^{-x_1^2}} , \\dots , \\frac{1}{1 + e^{-x_{n-1}^2}} \\right)\n",
    "$$"
   ]
  },
  {
   "cell_type": "markdown",
   "id": "cce30f71-5a7d-4759-9d24-64cc84f35337",
   "metadata": {},
   "source": [
    "If $\\mathbf{y} = 1/(1 + e^{-\\mathbf{x}^2})$ then the $k$th entry of $\\mathbf{y}$ is\n",
    "\n",
    "$$\n",
    "y_k = \\frac{1}{1 + e^{-x_k^2}}\n",
    "$$"
   ]
  },
  {
   "cell_type": "markdown",
   "id": "c7d9dd6f-e9bb-4ede-9183-97d67fb2f36c",
   "metadata": {},
   "source": [
    "Try another example: $\\mathbf{y} = \\mathbf{x}^2 \\cos(\\pi \\mathbf{x})$ for $\\mathbf{x} = [0.0,0.25,0.5,0.75,1.0]$."
   ]
  },
  {
   "cell_type": "code",
   "execution_count": 15,
   "id": "3a6c1793-f2c0-460b-bdaf-07709449036f",
   "metadata": {
    "tags": []
   },
   "outputs": [],
   "source": [
    "x = np.linspace(0,1,5)\n",
    "y = x**2*np.cos(np.pi*x)"
   ]
  },
  {
   "cell_type": "code",
   "execution_count": 16,
   "id": "6d46f2ea-7f91-4d51-90a6-290ffdf2f24e",
   "metadata": {
    "tags": []
   },
   "outputs": [
    {
     "data": {
      "text/plain": [
       "0.0"
      ]
     },
     "execution_count": 16,
     "metadata": {},
     "output_type": "execute_result"
    }
   ],
   "source": [
    "y[0]"
   ]
  },
  {
   "cell_type": "code",
   "execution_count": 17,
   "id": "d461a57e-b395-471c-9dc6-c9021620c2f1",
   "metadata": {
    "tags": []
   },
   "outputs": [
    {
     "data": {
      "text/plain": [
       "-1.0"
      ]
     },
     "execution_count": 17,
     "metadata": {},
     "output_type": "execute_result"
    }
   ],
   "source": [
    "y[-1]"
   ]
  },
  {
   "cell_type": "markdown",
   "id": "bc6522c9-37ef-4861-8d0e-f10a8a85297b",
   "metadata": {},
   "source": [
    "Now try 101 equally spaced points."
   ]
  },
  {
   "cell_type": "code",
   "execution_count": 21,
   "id": "3ae4772a-b411-4e73-9651-e31169df1b41",
   "metadata": {
    "tags": []
   },
   "outputs": [],
   "source": [
    "x = np.linspace(0,1,101)\n",
    "y = x**2*np.cos(np.pi*x)"
   ]
  },
  {
   "cell_type": "code",
   "execution_count": 22,
   "id": "f389dc79-59d3-4dbd-aa62-ea5a20511c82",
   "metadata": {
    "tags": []
   },
   "outputs": [
    {
     "data": {
      "text/plain": [
       "0.5"
      ]
     },
     "execution_count": 22,
     "metadata": {},
     "output_type": "execute_result"
    }
   ],
   "source": [
    "x[50]"
   ]
  },
  {
   "cell_type": "markdown",
   "id": "15efbdf1-2e7e-4822-b286-ee00cad448ab",
   "metadata": {},
   "source": [
    "$y_{50}$ corresponds to $(1/2)^2 \\cos(\\pi /2) = 0$."
   ]
  },
  {
   "cell_type": "code",
   "execution_count": 26,
   "id": "77f3d631-62e8-4ff9-9a7c-755b5b204ee3",
   "metadata": {
    "tags": []
   },
   "outputs": [
    {
     "data": {
      "text/plain": [
       "1.5308084989341915e-17"
      ]
     },
     "execution_count": 26,
     "metadata": {},
     "output_type": "execute_result"
    }
   ],
   "source": [
    "y[50]"
   ]
  },
  {
   "cell_type": "code",
   "execution_count": 24,
   "id": "1602a743-a71a-478d-9c71-d7b1b2bcf6e7",
   "metadata": {
    "tags": []
   },
   "outputs": [
    {
     "data": {
      "text/plain": [
       "0.04419417382415922"
      ]
     },
     "execution_count": 24,
     "metadata": {},
     "output_type": "execute_result"
    }
   ],
   "source": [
    "y[25]"
   ]
  },
  {
   "cell_type": "markdown",
   "id": "5a0d5608-bcc9-461f-b277-13fd7fc33511",
   "metadata": {},
   "source": [
    "$y_{25}$ corresponds to $(1/4)^2 \\cos(\\pi /4) = \\frac{1}{16 \\sqrt{2}}$."
   ]
  },
  {
   "cell_type": "code",
   "execution_count": 27,
   "id": "95d4fa6f-2c56-4f50-af8e-da3a30edea0e",
   "metadata": {
    "tags": []
   },
   "outputs": [
    {
     "data": {
      "text/plain": [
       "0.044194173824159216"
      ]
     },
     "execution_count": 27,
     "metadata": {},
     "output_type": "execute_result"
    }
   ],
   "source": [
    "1/2**0.5/4**2"
   ]
  },
  {
   "cell_type": "markdown",
   "id": "70890890-bb85-48f4-a55c-34efc9a342f8",
   "metadata": {},
   "source": [
    "Plot $y(t) = e^{-t/10} \\cos(5t)$ on $[0,10]$."
   ]
  },
  {
   "cell_type": "code",
   "execution_count": 28,
   "id": "540cdda8-3605-4a7c-916c-ea5291f0eb43",
   "metadata": {
    "tags": []
   },
   "outputs": [
    {
     "data": {
      "image/png": "[encoded data removed]",
      "text/plain": [
       "<Figure size 640x480 with 1 Axes>"
      ]
     },
     "metadata": {},
     "output_type": "display_data"
    }
   ],
   "source": [
    "t = np.linspace(0,50,1000)\n",
    "y = np.exp(-t/10)*np.cos(5*t)\n",
    "plt.plot(t,y)\n",
    "plt.show()"
   ]
  }
 ],
 "metadata": {
  "kernelspec": {
   "display_name": "Python 3 (ipykernel)",
   "language": "python",
   "name": "python3"
  },
  "language_info": {
   "codemirror_mode": {
    "name": "ipython",
    "version": 3
   },
   "file_extension": ".py",
   "mimetype": "text/x-python",
   "name": "python",
   "nbconvert_exporter": "python",
   "pygments_lexer": "ipython3",
   "version": "3.10.12"
  }
 },
 "nbformat": 4,
 "nbformat_minor": 5
}
