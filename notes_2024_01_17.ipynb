{
 "cells": [
  {
   "cell_type": "markdown",
   "id": "708f3bed-d39e-43c2-b781-fc62019887ef",
   "metadata": {},
   "source": [
    "# MATH 210 Introduction to Mathematical Computing\n",
    "\n",
    "**January 17, 2024**\n",
    "\n",
    "* Indexing\n",
    "* List comprehensions\n",
    "* Examples"
   ]
  },
  {
   "cell_type": "markdown",
   "id": "60ee027a-9c8a-43d7-bb5c-ec53febc3185",
   "metadata": {},
   "source": [
    "## Indexing and Slicing\n",
    "\n",
    "We access entries in a sequence by indexing syntax `listname[i]`."
   ]
  },
  {
   "cell_type": "code",
   "execution_count": 1,
   "id": "7e1ee9ca-b2dd-4a19-a190-a1ce4654bb62",
   "metadata": {},
   "outputs": [],
   "source": [
    "squares = [0,1,4,9,16,25,36,49,64,81]"
   ]
  },
  {
   "cell_type": "code",
   "execution_count": 2,
   "id": "cf437af2-70e3-43c3-979e-aa2dc329d2a6",
   "metadata": {},
   "outputs": [
    {
     "name": "stdout",
     "output_type": "stream",
     "text": [
      "[0, 1, 4, 9, 16, 25, 36, 49, 64, 81]\n"
     ]
    }
   ],
   "source": [
    "print(squares)"
   ]
  },
  {
   "cell_type": "code",
   "execution_count": 3,
   "id": "e8a91f22-9d7b-4d14-b681-7d96ab584dd5",
   "metadata": {},
   "outputs": [
    {
     "data": {
      "text/plain": [
       "list"
      ]
     },
     "execution_count": 3,
     "metadata": {},
     "output_type": "execute_result"
    }
   ],
   "source": [
    "type(squares)"
   ]
  },
  {
   "cell_type": "code",
   "execution_count": 4,
   "id": "93cb93b2-ff69-43c6-bb99-decd4e7a6745",
   "metadata": {},
   "outputs": [
    {
     "data": {
      "text/plain": [
       "0"
      ]
     },
     "execution_count": 4,
     "metadata": {},
     "output_type": "execute_result"
    }
   ],
   "source": [
    "squares[0]"
   ]
  },
  {
   "cell_type": "code",
   "execution_count": 5,
   "id": "012d38aa-2621-4707-af0b-df1486a1f2f1",
   "metadata": {},
   "outputs": [
    {
     "data": {
      "text/plain": [
       "9"
      ]
     },
     "execution_count": 5,
     "metadata": {},
     "output_type": "execute_result"
    }
   ],
   "source": [
    "squares[3]"
   ]
  },
  {
   "cell_type": "markdown",
   "id": "8b29fdd2-1d57-4842-a733-29be733fa9ce",
   "metadata": {},
   "source": [
    "Use negative indices to count from the end of the sequence."
   ]
  },
  {
   "cell_type": "code",
   "execution_count": 6,
   "id": "7cb4730c-bad3-44f0-bd5c-fcc8be0e196c",
   "metadata": {},
   "outputs": [
    {
     "data": {
      "text/plain": [
       "81"
      ]
     },
     "execution_count": 6,
     "metadata": {},
     "output_type": "execute_result"
    }
   ],
   "source": [
    "squares[-1]"
   ]
  },
  {
   "cell_type": "markdown",
   "id": "9a3ee8c5-9ccb-4367-b0ff-7a04566ebf52",
   "metadata": {},
   "source": [
    "We can select a subsequence by using the slicing syntax `listname[a:b]`. This selects entries from index `a` to (not including) `b`."
   ]
  },
  {
   "cell_type": "code",
   "execution_count": 7,
   "id": "ba66c6f4-1023-4f03-998e-9879cc9b1d37",
   "metadata": {},
   "outputs": [
    {
     "data": {
      "text/plain": [
       "[1, 4, 9]"
      ]
     },
     "execution_count": 7,
     "metadata": {},
     "output_type": "execute_result"
    }
   ],
   "source": [
    "squares[1:4]"
   ]
  },
  {
   "cell_type": "code",
   "execution_count": 8,
   "id": "d9251cb2-9f89-41a0-9338-92a35c0e9c86",
   "metadata": {},
   "outputs": [
    {
     "data": {
      "text/plain": [
       "[0, 1, 4]"
      ]
     },
     "execution_count": 8,
     "metadata": {},
     "output_type": "execute_result"
    }
   ],
   "source": [
    "squares[:3]"
   ]
  },
  {
   "cell_type": "code",
   "execution_count": 9,
   "id": "3458ace8-2faf-4c2d-99fd-5855c7a57b02",
   "metadata": {},
   "outputs": [
    {
     "data": {
      "text/plain": [
       "[16, 25, 36, 49, 64, 81]"
      ]
     },
     "execution_count": 9,
     "metadata": {},
     "output_type": "execute_result"
    }
   ],
   "source": [
    "squares[4:]"
   ]
  },
  {
   "cell_type": "markdown",
   "id": "498ec7ad-e69f-45e9-92aa-9e6289eeffab",
   "metadata": {},
   "source": [
    "## List comprehensions\n",
    "\n",
    "Creating a list by typing the entries manually is not efficient. There is a beautiful construction in Python called a list comprehension. The basic structure is:\n",
    "\n",
    "```\n",
    "listname = [ expression for item in sequence ]\n",
    "```\n",
    "\n",
    "where:\n",
    "\n",
    "* `listname` is the variable name assigned to the list constructed\n",
    "* `expression` is any Python expression involving the variable `item`\n",
    "* `item` is a variable which takes each value in sequence\n",
    "* `sequence` is any list, tuple, range, ..."
   ]
  },
  {
   "cell_type": "code",
   "execution_count": 10,
   "id": "87a89e0b-4f51-44ee-8f48-deaeee27289f",
   "metadata": {},
   "outputs": [],
   "source": [
    "squares = [n**2 for n in [0,1,2,3,4,5,6,7,8,9]]"
   ]
  },
  {
   "cell_type": "code",
   "execution_count": 11,
   "id": "a72df778-7154-43c7-948e-3ba82d645d41",
   "metadata": {},
   "outputs": [
    {
     "data": {
      "text/plain": [
       "[0, 1, 4, 9, 16, 25, 36, 49, 64, 81]"
      ]
     },
     "execution_count": 11,
     "metadata": {},
     "output_type": "execute_result"
    }
   ],
   "source": [
    "squares"
   ]
  },
  {
   "cell_type": "code",
   "execution_count": 12,
   "id": "3423c54c-c12e-406a-96ae-4acae710fde8",
   "metadata": {},
   "outputs": [],
   "source": [
    "squares = [n**2 for n in range(0,10)]"
   ]
  },
  {
   "cell_type": "code",
   "execution_count": 13,
   "id": "b5c770f7-75cd-4492-acc7-eebcde7d8fab",
   "metadata": {},
   "outputs": [
    {
     "data": {
      "text/plain": [
       "[0, 1, 4, 9, 16, 25, 36, 49, 64, 81]"
      ]
     },
     "execution_count": 13,
     "metadata": {},
     "output_type": "execute_result"
    }
   ],
   "source": [
    "squares"
   ]
  },
  {
   "cell_type": "markdown",
   "id": "cb7f33af-1e74-476f-be92-5506394c0cc7",
   "metadata": {},
   "source": [
    "How would we create the list `[0.0,0.1,0.2,0.3,...,1.0]`?"
   ]
  },
  {
   "cell_type": "code",
   "execution_count": 14,
   "id": "cf8b3a09-ba89-4a14-89ea-5e9e3847d846",
   "metadata": {},
   "outputs": [
    {
     "name": "stdout",
     "output_type": "stream",
     "text": [
      "[0.0, 0.1, 0.2, 0.3, 0.4, 0.5, 0.6, 0.7, 0.8, 0.9, 1.0]\n"
     ]
    }
   ],
   "source": [
    "xvalues = [n/10 for n in range(0,11)]\n",
    "print(xvalues)"
   ]
  },
  {
   "cell_type": "code",
   "execution_count": 15,
   "id": "022e1daf-4401-4799-b0c2-8fa788779803",
   "metadata": {},
   "outputs": [
    {
     "ename": "TypeError",
     "evalue": "'float' object cannot be interpreted as an integer",
     "output_type": "error",
     "traceback": [
      "\u001b[0;31m---------------------------------------------------------------------------\u001b[0m",
      "\u001b[0;31mTypeError\u001b[0m                                 Traceback (most recent call last)",
      "Cell \u001b[0;32mIn[15], line 1\u001b[0m\n\u001b[0;32m----> 1\u001b[0m \u001b[38;5;28;43mrange\u001b[39;49m\u001b[43m(\u001b[49m\u001b[38;5;241;43m0\u001b[39;49m\u001b[43m,\u001b[49m\u001b[38;5;241;43m1.1\u001b[39;49m\u001b[43m,\u001b[49m\u001b[38;5;241;43m0.1\u001b[39;49m\u001b[43m)\u001b[49m\n",
      "\u001b[0;31mTypeError\u001b[0m: 'float' object cannot be interpreted as an integer"
     ]
    }
   ],
   "source": [
    "range(0,1.1,0.1)"
   ]
  },
  {
   "cell_type": "code",
   "execution_count": 16,
   "id": "a4541e52-29b4-473a-8a10-be9a37c5e4a2",
   "metadata": {},
   "outputs": [
    {
     "data": {
      "text/plain": [
       "\u001b[0;31mInit signature:\u001b[0m \u001b[0mrange\u001b[0m\u001b[0;34m(\u001b[0m\u001b[0mself\u001b[0m\u001b[0;34m,\u001b[0m \u001b[0;34m/\u001b[0m\u001b[0;34m,\u001b[0m \u001b[0;34m*\u001b[0m\u001b[0margs\u001b[0m\u001b[0;34m,\u001b[0m \u001b[0;34m**\u001b[0m\u001b[0mkwargs\u001b[0m\u001b[0;34m)\u001b[0m\u001b[0;34m\u001b[0m\u001b[0;34m\u001b[0m\u001b[0m\n",
       "\u001b[0;31mDocstring:\u001b[0m     \n",
       "range(stop) -> range object\n",
       "range(start, stop[, step]) -> range object\n",
       "\n",
       "Return an object that produces a sequence of integers from start (inclusive)\n",
       "to stop (exclusive) by step.  range(i, j) produces i, i+1, i+2, ..., j-1.\n",
       "start defaults to 0, and stop is omitted!  range(4) produces 0, 1, 2, 3.\n",
       "These are exactly the valid indices for a list of 4 elements.\n",
       "When step is given, it specifies the increment (or decrement).\n",
       "\u001b[0;31mType:\u001b[0m           type\n",
       "\u001b[0;31mSubclasses:\u001b[0m     "
      ]
     },
     "metadata": {},
     "output_type": "display_data"
    }
   ],
   "source": [
    "range?"
   ]
  },
  {
   "cell_type": "markdown",
   "id": "a0a61eb0-6cd8-40e0-a1f1-0f02247d9642",
   "metadata": {},
   "source": [
    "## Examples\n",
    "\n",
    "### Geometric Series\n",
    "\n",
    "Compute values of the geometric series\n",
    "\n",
    "$$\n",
    "\\sum_{k=0}^N x^k\n",
    "$$\n",
    "\n",
    "and compare to the exact value $\\frac{1 - x^{N+1}}{1-x}$, $x\\ne 1$. Note that the series converges to $\\frac{1}{1-x}$ as $N \\to \\infty$ when $|x| < 1$."
   ]
  },
  {
   "cell_type": "code",
   "execution_count": 17,
   "id": "ce9e391f-37e9-4bd7-9291-5980953523d5",
   "metadata": {},
   "outputs": [
    {
     "name": "stdout",
     "output_type": "stream",
     "text": [
      "[1, -2, 4, -8, 16, -32]\n",
      "-21\n",
      "-21.0\n"
     ]
    }
   ],
   "source": [
    "x = -2\n",
    "N = 5\n",
    "terms = [x**k for k in range(0,N+1)]\n",
    "print(terms)\n",
    "series = sum(terms)\n",
    "print(series)\n",
    "formula = (1 - x**(N+1))/(1 - x)\n",
    "print(formula)"
   ]
  },
  {
   "cell_type": "code",
   "execution_count": 20,
   "id": "25790de9-f260-4f39-8a0c-dd178a1e000a",
   "metadata": {},
   "outputs": [
    {
     "name": "stdout",
     "output_type": "stream",
     "text": [
      "2.0\n",
      "2.0\n"
     ]
    }
   ],
   "source": [
    "x = 0.5\n",
    "N = 100\n",
    "terms = [x**k for k in range(0,N+1)]\n",
    "series = sum(terms)\n",
    "print(series)\n",
    "formula = (1 - x**(N+1))/(1 - x)\n",
    "print(formula)"
   ]
  },
  {
   "cell_type": "markdown",
   "id": "7a7dd454-3773-4b76-8742-84df442c80e2",
   "metadata": {},
   "source": [
    "### Taylor Series\n",
    "\n",
    "The Taylor series for $\\log(1 + x)$ is\n",
    "\n",
    "$$\n",
    "\\log(1 + x) = \\sum_{n=1}^\\infty \\frac{(-1)^{n+1} x^n}{n} \\ , \\ \\ |x| < 1\n",
    "$$\n",
    "\n",
    "Recall, $\\log$ is the natural logarithm. Approximate $\\log(1/2)$ using partial sum up to $N=1000$."
   ]
  },
  {
   "cell_type": "code",
   "execution_count": 21,
   "id": "4a7285e3-596b-4bed-b008-1f795107c450",
   "metadata": {},
   "outputs": [
    {
     "name": "stdout",
     "output_type": "stream",
     "text": [
      "-0.6931471805599451\n"
     ]
    }
   ],
   "source": [
    "x = -1/2\n",
    "N = 1000\n",
    "terms = [(-1)**(n+1)*x**n/n for n in range(1,N+1)]\n",
    "series = sum(terms)\n",
    "print(series)"
   ]
  },
  {
   "cell_type": "markdown",
   "id": "1c0caaf2-8446-44f8-b174-68a6e7503f62",
   "metadata": {},
   "source": [
    "### Riemann Zeta Function\n",
    "\n",
    "The Riemann zeta function is\n",
    "\n",
    "$$\n",
    "\\zeta(s) = \\sum_{n=1}^{\\infty} \\frac{1}{n^s}\n",
    "$$\n",
    "\n",
    "Approximate $\\zeta(2)$. The exact value is $\\pi^2/6$. How big does $N$ need to be for the partial sum to match the exact value up to 5 decimal places?"
   ]
  },
  {
   "cell_type": "code",
   "execution_count": 50,
   "id": "18ae87aa-b938-442a-95f0-4c365a0250f7",
   "metadata": {},
   "outputs": [
    {
     "name": "stdout",
     "output_type": "stream",
     "text": [
      "1.6448340718480652\n"
     ]
    }
   ],
   "source": [
    "N = 10000\n",
    "s = 2\n",
    "terms = [1/n**s for n in range(1,N+1)]\n",
    "series = sum(terms)\n",
    "print(series)"
   ]
  },
  {
   "cell_type": "code",
   "execution_count": 51,
   "id": "bbd34f13-4675-4379-a402-b6b3568a9d05",
   "metadata": {},
   "outputs": [
    {
     "data": {
      "text/plain": [
       "1.6449340667541952"
      ]
     },
     "execution_count": 51,
     "metadata": {},
     "output_type": "execute_result"
    }
   ],
   "source": [
    "pi = 3.1415926535\n",
    "pi**2/6"
   ]
  },
  {
   "cell_type": "code",
   "execution_count": 52,
   "id": "42edd7b7-883e-433e-b796-52a1487c88a4",
   "metadata": {},
   "outputs": [
    {
     "data": {
      "text/plain": [
       "9.999490612999651e-05"
      ]
     },
     "execution_count": 52,
     "metadata": {},
     "output_type": "execute_result"
    }
   ],
   "source": [
    "pi**2/6 - series"
   ]
  },
  {
   "cell_type": "code",
   "execution_count": 53,
   "id": "d992d813-6599-4b34-8cbd-79708e030c47",
   "metadata": {},
   "outputs": [
    {
     "data": {
      "text/plain": [
       "1.6448340718480652"
      ]
     },
     "execution_count": 53,
     "metadata": {},
     "output_type": "execute_result"
    }
   ],
   "source": [
    "series"
   ]
  }
 ],
 "metadata": {
  "kernelspec": {
   "display_name": "Python 3 (ipykernel)",
   "language": "python",
   "name": "python3"
  },
  "language_info": {
   "codemirror_mode": {
    "name": "ipython",
    "version": 3
   },
   "file_extension": ".py",
   "mimetype": "text/x-python",
   "name": "python",
   "nbconvert_exporter": "python",
   "pygments_lexer": "ipython3",
   "version": "3.11.6"
  }
 },
 "nbformat": 4,
 "nbformat_minor": 5
}
