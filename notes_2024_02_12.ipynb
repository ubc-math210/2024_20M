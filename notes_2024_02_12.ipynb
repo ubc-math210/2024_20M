{
 "cells": [
  {
   "cell_type": "markdown",
   "id": "d9786d90-4b0a-4381-b97a-328947611df4",
   "metadata": {},
   "source": [
    "# MATH 210 Introduction to Mathematical Computing\n",
    "\n",
    "**February 12, 2024**"
   ]
  },
  {
   "cell_type": "code",
   "execution_count": 1,
   "id": "9cfc4222-d50b-4e8a-ad97-0a19c5d35556",
   "metadata": {},
   "outputs": [],
   "source": [
    "import numpy as np"
   ]
  },
  {
   "cell_type": "markdown",
   "id": "c2b08988-9ddd-47d0-b60b-e10834de193a",
   "metadata": {},
   "source": [
    "## NumPy Arrays\n",
    "\n",
    "A NumPy array is like a vector or matrix. We can create an array using the NumPy function `np.array`."
   ]
  },
  {
   "cell_type": "code",
   "execution_count": 2,
   "id": "8f047280-6d3b-48a7-aa14-08fcff4faeca",
   "metadata": {},
   "outputs": [],
   "source": [
    "v = np.array([1.,2.,3.])"
   ]
  },
  {
   "cell_type": "code",
   "execution_count": 3,
   "id": "fe8f075a-4591-46b2-bb7c-6e7d00455cdf",
   "metadata": {},
   "outputs": [
    {
     "data": {
      "text/plain": [
       "array([1., 2., 3.])"
      ]
     },
     "execution_count": 3,
     "metadata": {},
     "output_type": "execute_result"
    }
   ],
   "source": [
    "v"
   ]
  },
  {
   "cell_type": "markdown",
   "id": "66fef918-2717-4a79-b2c0-08272fb0fe3a",
   "metadata": {},
   "source": [
    "Note that we enter values as floats with decimal `1.` since NumPy arrays have a defined type for their entries and most of our computations in this class with be with floating point numbers."
   ]
  },
  {
   "cell_type": "code",
   "execution_count": 4,
   "id": "3bd6da36-c5f3-4bde-9423-78ea1f5f91ee",
   "metadata": {},
   "outputs": [
    {
     "data": {
      "text/plain": [
       "dtype('float64')"
      ]
     },
     "execution_count": 4,
     "metadata": {},
     "output_type": "execute_result"
    }
   ],
   "source": [
    "v.dtype"
   ]
  },
  {
   "cell_type": "markdown",
   "id": "0ec8f71f-2056-4430-8663-55ff7f3548f5",
   "metadata": {},
   "source": [
    "In general, a Python object is a bundle of data (called attributes) and functionality (called methods). A NumPy array is an object where the data are the entries but also we have data including datatype, dimension, size, and shape. And we have functionality such as `.sum`."
   ]
  },
  {
   "cell_type": "markdown",
   "id": "41447a65-11b8-42f6-89c3-c04f0b91684b",
   "metadata": {},
   "source": [
    "The vector `v` defined above is a 1-dimensiona array. It's like a list. It's not a row vector (a matrix with 1 row) or column vector (martix with 1 column). Access the number of dimensions with attribute `.ndim`."
   ]
  },
  {
   "cell_type": "code",
   "execution_count": 5,
   "id": "2eb1d4f8-ec79-4290-be54-17e9dcf982f2",
   "metadata": {},
   "outputs": [
    {
     "data": {
      "text/plain": [
       "1"
      ]
     },
     "execution_count": 5,
     "metadata": {},
     "output_type": "execute_result"
    }
   ],
   "source": [
    "v.ndim"
   ]
  },
  {
   "cell_type": "code",
   "execution_count": 6,
   "id": "bc7b6203-8910-44bb-ace7-ee2b0ed63cb3",
   "metadata": {},
   "outputs": [
    {
     "data": {
      "text/plain": [
       "2.0"
      ]
     },
     "execution_count": 6,
     "metadata": {},
     "output_type": "execute_result"
    }
   ],
   "source": [
    "v[1]"
   ]
  },
  {
   "cell_type": "code",
   "execution_count": 7,
   "id": "8a089e0c-25fb-4647-9c75-1a611d126048",
   "metadata": {},
   "outputs": [
    {
     "data": {
      "text/plain": [
       "6.0"
      ]
     },
     "execution_count": 7,
     "metadata": {},
     "output_type": "execute_result"
    }
   ],
   "source": [
    "v.sum()"
   ]
  },
  {
   "cell_type": "code",
   "execution_count": 8,
   "id": "4f4bd322-16d2-4c9a-bc4c-53cc03e74516",
   "metadata": {},
   "outputs": [
    {
     "data": {
      "text/plain": [
       "6.0"
      ]
     },
     "execution_count": 8,
     "metadata": {},
     "output_type": "execute_result"
    }
   ],
   "source": [
    "np.sum(v)"
   ]
  },
  {
   "cell_type": "markdown",
   "id": "7d9768ea-4eb0-4d01-abe4-6619ab638e1f",
   "metadata": {},
   "source": [
    "A matrix is a 2D array. Use the function `np.array` to create a matrix."
   ]
  },
  {
   "cell_type": "code",
   "execution_count": 9,
   "id": "e63b1050-4358-4b33-9c2c-170e428e9ad6",
   "metadata": {},
   "outputs": [
    {
     "data": {
      "text/plain": [
       "array([[1., 2., 3.],\n",
       "       [4., 5., 6.],\n",
       "       [7., 8., 9.]])"
      ]
     },
     "execution_count": 9,
     "metadata": {},
     "output_type": "execute_result"
    }
   ],
   "source": [
    "A = np.array([[1.,2.,3.],[4.,5.,6.],[7.,8.,9.]])\n",
    "A"
   ]
  },
  {
   "cell_type": "code",
   "execution_count": 10,
   "id": "a8e8c63a-661f-4a6f-9a9d-a590557368a5",
   "metadata": {},
   "outputs": [
    {
     "data": {
      "text/plain": [
       "array([[1., 2., 3.],\n",
       "       [4., 5., 6.],\n",
       "       [7., 8., 9.]])"
      ]
     },
     "execution_count": 10,
     "metadata": {},
     "output_type": "execute_result"
    }
   ],
   "source": [
    "N = 3\n",
    "A = np.arange(1,N**2+1).reshape((N,N)).astype(np.float64)\n",
    "A"
   ]
  },
  {
   "cell_type": "code",
   "execution_count": 11,
   "id": "e62dd15f-1d37-4192-b123-1626054c1313",
   "metadata": {},
   "outputs": [
    {
     "data": {
      "text/plain": [
       "2"
      ]
     },
     "execution_count": 11,
     "metadata": {},
     "output_type": "execute_result"
    }
   ],
   "source": [
    "A.ndim"
   ]
  },
  {
   "cell_type": "code",
   "execution_count": 12,
   "id": "35a688e7-4eee-43e6-98d9-483d26cf11db",
   "metadata": {},
   "outputs": [
    {
     "data": {
      "text/plain": [
       "(3, 3)"
      ]
     },
     "execution_count": 12,
     "metadata": {},
     "output_type": "execute_result"
    }
   ],
   "source": [
    "A.shape"
   ]
  },
  {
   "cell_type": "code",
   "execution_count": 13,
   "id": "8a9cf907-b15b-43e5-877c-680a63aac5ec",
   "metadata": {},
   "outputs": [
    {
     "data": {
      "text/plain": [
       "9"
      ]
     },
     "execution_count": 13,
     "metadata": {},
     "output_type": "execute_result"
    }
   ],
   "source": [
    "A.size"
   ]
  },
  {
   "cell_type": "code",
   "execution_count": 14,
   "id": "6d50b18e-e2d4-4147-b041-a9c99acc6063",
   "metadata": {},
   "outputs": [
    {
     "data": {
      "text/plain": [
       "dtype('float64')"
      ]
     },
     "execution_count": 14,
     "metadata": {},
     "output_type": "execute_result"
    }
   ],
   "source": [
    "A.dtype"
   ]
  },
  {
   "cell_type": "code",
   "execution_count": 15,
   "id": "440a5d2a-b2df-41b4-ae8d-25c00972ffb1",
   "metadata": {},
   "outputs": [
    {
     "data": {
      "text/plain": [
       "array([[1., 4., 7.],\n",
       "       [2., 5., 8.],\n",
       "       [3., 6., 9.]])"
      ]
     },
     "execution_count": 15,
     "metadata": {},
     "output_type": "execute_result"
    }
   ],
   "source": [
    "A.T"
   ]
  },
  {
   "cell_type": "code",
   "execution_count": 16,
   "id": "cde85b4c-104e-4abb-9780-1e1e63b1a66b",
   "metadata": {},
   "outputs": [
    {
     "data": {
      "text/plain": [
       "array([[1., 4., 7.],\n",
       "       [2., 5., 8.],\n",
       "       [3., 6., 9.]])"
      ]
     },
     "execution_count": 16,
     "metadata": {},
     "output_type": "execute_result"
    }
   ],
   "source": [
    "np.transpose(A)"
   ]
  },
  {
   "cell_type": "code",
   "execution_count": 17,
   "id": "29341ea8-fe3d-4b55-ba6c-5ef767b90afc",
   "metadata": {},
   "outputs": [
    {
     "data": {
      "text/plain": [
       "45.0"
      ]
     },
     "execution_count": 17,
     "metadata": {},
     "output_type": "execute_result"
    }
   ],
   "source": [
    "A.sum()"
   ]
  },
  {
   "cell_type": "markdown",
   "id": "efccaa9a-560c-4853-9f26-b5199d81e937",
   "metadata": {},
   "source": [
    "## Creating Arrays"
   ]
  },
  {
   "cell_type": "markdown",
   "id": "6c7e96bb-7bfd-45cb-8e95-18e5ae3144b5",
   "metadata": {},
   "source": [
    "The function `np.linspace(a,b,N)` creates the NumPy array of $N$ equally spaced (floating point) numbers from $a$ to $b$."
   ]
  },
  {
   "cell_type": "code",
   "execution_count": 18,
   "id": "57954ec7-6730-409d-9903-d86124e45079",
   "metadata": {},
   "outputs": [
    {
     "data": {
      "text/plain": [
       "array([0.  , 0.25, 0.5 , 0.75, 1.  ])"
      ]
     },
     "execution_count": 18,
     "metadata": {},
     "output_type": "execute_result"
    }
   ],
   "source": [
    "a = 0\n",
    "b = 1\n",
    "N = 5\n",
    "x = np.linspace(a,b,N)\n",
    "x"
   ]
  },
  {
   "cell_type": "markdown",
   "id": "a3d58ee9-1b7e-43a4-a2a1-3cb49b7a2109",
   "metadata": {},
   "source": [
    "The function `np.arange(a,b,h)` creates the list of numbers from $a$ to $b$ (exclusive) incremented by $h$."
   ]
  },
  {
   "cell_type": "code",
   "execution_count": 19,
   "id": "222620dc-52b2-4055-862d-f351b84e349a",
   "metadata": {},
   "outputs": [
    {
     "data": {
      "text/plain": [
       "array([0, 1, 2, 3, 4, 5, 6, 7, 8, 9])"
      ]
     },
     "execution_count": 19,
     "metadata": {},
     "output_type": "execute_result"
    }
   ],
   "source": [
    "np.arange(0,10)"
   ]
  },
  {
   "cell_type": "code",
   "execution_count": 20,
   "id": "647d6fcd-4022-41a6-abba-d95215cf374b",
   "metadata": {},
   "outputs": [
    {
     "data": {
      "text/plain": [
       "array([0. , 0.1, 0.2, 0.3, 0.4, 0.5, 0.6, 0.7, 0.8, 0.9])"
      ]
     },
     "execution_count": 20,
     "metadata": {},
     "output_type": "execute_result"
    }
   ],
   "source": [
    "np.arange(0,1,0.1)"
   ]
  },
  {
   "cell_type": "markdown",
   "id": "2555c7c4-1f56-4aaf-950b-f3084cedfa94",
   "metadata": {},
   "source": [
    "It's helpful to use `np.linspace` when we want to create a vector of values from `a` to `b` inclusively. And sometimes it's helpful to use `np.arange` when we want to specify the step size. But they are related. The function `np.linspace(a,b,N)` returns the list of number from `a` to `b` (inclusive) with step size:\n",
    "\n",
    "$$\n",
    "h = \\frac{b - a}{N-1}\n",
    "$$"
   ]
  },
  {
   "cell_type": "markdown",
   "id": "719d1c20-dc20-44c3-8345-84747718c990",
   "metadata": {},
   "source": [
    "Create a vector/matrix of zeros:"
   ]
  },
  {
   "cell_type": "code",
   "execution_count": 21,
   "id": "b1353f45-0711-4b7b-a159-24f9b7a77de2",
   "metadata": {},
   "outputs": [
    {
     "data": {
      "text/plain": [
       "array([0., 0., 0.])"
      ]
     },
     "execution_count": 21,
     "metadata": {},
     "output_type": "execute_result"
    }
   ],
   "source": [
    "z = np.zeros(3)\n",
    "z"
   ]
  },
  {
   "cell_type": "code",
   "execution_count": 22,
   "id": "40994562-e18e-4d53-bbac-b1b6030e4186",
   "metadata": {},
   "outputs": [
    {
     "data": {
      "text/plain": [
       "dtype('float64')"
      ]
     },
     "execution_count": 22,
     "metadata": {},
     "output_type": "execute_result"
    }
   ],
   "source": [
    "z.dtype"
   ]
  },
  {
   "cell_type": "code",
   "execution_count": 23,
   "id": "d2c2e2e3-c477-4675-90e3-3a37f3acb0fc",
   "metadata": {},
   "outputs": [
    {
     "data": {
      "text/plain": [
       "array([[0., 0., 0., 0.],\n",
       "       [0., 0., 0., 0.],\n",
       "       [0., 0., 0., 0.]])"
      ]
     },
     "execution_count": 23,
     "metadata": {},
     "output_type": "execute_result"
    }
   ],
   "source": [
    "np.zeros((3,4))"
   ]
  },
  {
   "cell_type": "markdown",
   "id": "3fb11152-9dea-42d4-85d6-217cdc85df90",
   "metadata": {},
   "source": [
    "Create a vector/matrix of ones:"
   ]
  },
  {
   "cell_type": "code",
   "execution_count": 24,
   "id": "2c4557ec-5bbc-4210-8ab4-3f6f8648edec",
   "metadata": {},
   "outputs": [
    {
     "data": {
      "text/plain": [
       "array([1., 1., 1., 1., 1.])"
      ]
     },
     "execution_count": 24,
     "metadata": {},
     "output_type": "execute_result"
    }
   ],
   "source": [
    "o = np.ones(5)\n",
    "o"
   ]
  },
  {
   "cell_type": "code",
   "execution_count": 25,
   "id": "e30c86b8-8665-4e23-8b8f-6a584acbc8ae",
   "metadata": {},
   "outputs": [
    {
     "data": {
      "text/plain": [
       "dtype('float64')"
      ]
     },
     "execution_count": 25,
     "metadata": {},
     "output_type": "execute_result"
    }
   ],
   "source": [
    "o.dtype"
   ]
  },
  {
   "cell_type": "code",
   "execution_count": 26,
   "id": "a96ccaab-931a-4a89-bdda-960685e9390a",
   "metadata": {},
   "outputs": [
    {
     "data": {
      "text/plain": [
       "array([[1., 1.],\n",
       "       [1., 1.],\n",
       "       [1., 1.]])"
      ]
     },
     "execution_count": 26,
     "metadata": {},
     "output_type": "execute_result"
    }
   ],
   "source": [
    "np.ones((3,2))"
   ]
  },
  {
   "cell_type": "markdown",
   "id": "17fc6aec-f7d6-4dbb-8a83-debe63a5fdda",
   "metadata": {},
   "source": [
    "Create the identiy matrix $I$:"
   ]
  },
  {
   "cell_type": "code",
   "execution_count": 27,
   "id": "5a74af7a-ae73-4ea1-a76b-877d492d748a",
   "metadata": {},
   "outputs": [
    {
     "data": {
      "text/plain": [
       "array([[1., 0., 0., 0.],\n",
       "       [0., 1., 0., 0.],\n",
       "       [0., 0., 1., 0.],\n",
       "       [0., 0., 0., 1.]])"
      ]
     },
     "execution_count": 27,
     "metadata": {},
     "output_type": "execute_result"
    }
   ],
   "source": [
    "I = np.eye(4)\n",
    "I"
   ]
  },
  {
   "cell_type": "markdown",
   "id": "23d642bd-bd09-4cdf-8c30-dde46ad29a5e",
   "metadata": {},
   "source": [
    "Create a diagonal matrix from a vector:"
   ]
  },
  {
   "cell_type": "code",
   "execution_count": 28,
   "id": "25d72dc8-10fe-44c4-8bdb-a228edb64c7d",
   "metadata": {},
   "outputs": [
    {
     "data": {
      "text/plain": [
       "array([[1., 0., 0., 0., 0., 0., 0., 0., 0.],\n",
       "       [0., 2., 0., 0., 0., 0., 0., 0., 0.],\n",
       "       [0., 0., 3., 0., 0., 0., 0., 0., 0.],\n",
       "       [0., 0., 0., 4., 0., 0., 0., 0., 0.],\n",
       "       [0., 0., 0., 0., 5., 0., 0., 0., 0.],\n",
       "       [0., 0., 0., 0., 0., 6., 0., 0., 0.],\n",
       "       [0., 0., 0., 0., 0., 0., 7., 0., 0.],\n",
       "       [0., 0., 0., 0., 0., 0., 0., 8., 0.],\n",
       "       [0., 0., 0., 0., 0., 0., 0., 0., 9.]])"
      ]
     },
     "execution_count": 28,
     "metadata": {},
     "output_type": "execute_result"
    }
   ],
   "source": [
    "D = np.diag(np.arange(1,10)).astype(float)\n",
    "D"
   ]
  },
  {
   "cell_type": "code",
   "execution_count": 29,
   "id": "a682ea74-2047-4446-8472-e72b46a0d8ea",
   "metadata": {},
   "outputs": [
    {
     "data": {
      "text/plain": [
       "dtype('float64')"
      ]
     },
     "execution_count": 29,
     "metadata": {},
     "output_type": "execute_result"
    }
   ],
   "source": [
    "D.dtype"
   ]
  },
  {
   "cell_type": "code",
   "execution_count": 30,
   "id": "01c6302a-0cdb-4337-b4ac-6f41a1a5cf82",
   "metadata": {},
   "outputs": [
    {
     "data": {
      "text/plain": [
       "array([[-2.,  1.,  0.,  0.,  0.],\n",
       "       [ 1., -2.,  1.,  0.,  0.],\n",
       "       [ 0.,  1., -2.,  1.,  0.],\n",
       "       [ 0.,  0.,  1., -2.,  1.],\n",
       "       [ 0.,  0.,  0.,  1., -2.]])"
      ]
     },
     "execution_count": 30,
     "metadata": {},
     "output_type": "execute_result"
    }
   ],
   "source": [
    "N = 5\n",
    "A = -2*np.eye(N) + np.diag(np.ones(N-1),1) + np.diag(np.ones(N-1),-1)\n",
    "A"
   ]
  },
  {
   "cell_type": "markdown",
   "id": "0b2be7da-be11-4b9a-9d6f-d56b6ead9580",
   "metadata": {},
   "source": [
    "## Indexing and Slicing\n",
    "\n",
    "Access entries in a NumPy array using index notation just like Python lists."
   ]
  },
  {
   "cell_type": "code",
   "execution_count": 31,
   "id": "2f2f03e1-1cd7-4428-b863-7b8e0c7da194",
   "metadata": {},
   "outputs": [
    {
     "data": {
      "text/plain": [
       "array([[ 1.,  2.,  3.,  4.,  5.],\n",
       "       [ 6.,  7.,  8.,  9., 10.],\n",
       "       [11., 12., 13., 14., 15.],\n",
       "       [16., 17., 18., 19., 20.],\n",
       "       [21., 22., 23., 24., 25.]])"
      ]
     },
     "execution_count": 31,
     "metadata": {},
     "output_type": "execute_result"
    }
   ],
   "source": [
    "n = 5\n",
    "A = np.arange(1,n**2+1).reshape((n,n)).astype(float)\n",
    "A"
   ]
  },
  {
   "cell_type": "code",
   "execution_count": 32,
   "id": "632f7781-fca3-4d45-a3ff-f15c3d4bafc2",
   "metadata": {},
   "outputs": [
    {
     "data": {
      "text/plain": [
       "9.0"
      ]
     },
     "execution_count": 32,
     "metadata": {},
     "output_type": "execute_result"
    }
   ],
   "source": [
    "A[1,3]"
   ]
  },
  {
   "cell_type": "code",
   "execution_count": 33,
   "id": "9e39a757-44e3-4b76-ace3-b0beb9ec16dc",
   "metadata": {},
   "outputs": [
    {
     "data": {
      "text/plain": [
       "numpy.float64"
      ]
     },
     "execution_count": 33,
     "metadata": {},
     "output_type": "execute_result"
    }
   ],
   "source": [
    "type(A[4,2])"
   ]
  },
  {
   "cell_type": "markdown",
   "id": "4086b414-9bb1-4a28-9b72-beff99281524",
   "metadata": {},
   "source": [
    "Access a row/column using colon `:`."
   ]
  },
  {
   "cell_type": "code",
   "execution_count": 34,
   "id": "872e9527-3ae8-4215-9c4f-0e7895a3cee1",
   "metadata": {},
   "outputs": [
    {
     "data": {
      "text/plain": [
       "array([1., 2., 3., 4., 5.])"
      ]
     },
     "execution_count": 34,
     "metadata": {},
     "output_type": "execute_result"
    }
   ],
   "source": [
    "A[0,:]"
   ]
  },
  {
   "cell_type": "code",
   "execution_count": 35,
   "id": "c96a8c63-73a7-45e4-9219-cc76a9975207",
   "metadata": {},
   "outputs": [
    {
     "data": {
      "text/plain": [
       "array([ 2.,  7., 12., 17., 22.])"
      ]
     },
     "execution_count": 35,
     "metadata": {},
     "output_type": "execute_result"
    }
   ],
   "source": [
    "A[:,1]"
   ]
  }
 ],
 "metadata": {
  "kernelspec": {
   "display_name": "Python 3 (ipykernel)",
   "language": "python",
   "name": "python3"
  },
  "language_info": {
   "codemirror_mode": {
    "name": "ipython",
    "version": 3
   },
   "file_extension": ".py",
   "mimetype": "text/x-python",
   "name": "python",
   "nbconvert_exporter": "python",
   "pygments_lexer": "ipython3",
   "version": "3.11.6"
  }
 },
 "nbformat": 4,
 "nbformat_minor": 5
}
