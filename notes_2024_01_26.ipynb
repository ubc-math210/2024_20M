{
 "cells": [
  {
   "cell_type": "markdown",
   "id": "0607773e-d8c7-4e79-b3e7-23a11aebb4b2",
   "metadata": {},
   "source": [
    "# MATH 210 Introduction to Mathematical Computing\n",
    "\n",
    "**January 26, 2024**\n",
    "\n",
    "* `for` loops\n",
    "* Factorial\n",
    "* Exponential Taylor series\n",
    "* Recursive sequences"
   ]
  },
  {
   "cell_type": "markdown",
   "id": "aab7d8c6-077d-4be8-b521-6c74e56595c4",
   "metadata": {},
   "source": [
    "## `for` loops\n",
    "\n",
    "A `for` loop executes a block of code repeatedly while updating a variable for each run through the block. The construction is:\n",
    "\n",
    "```python\n",
    "for item in sequence:\n",
    "    # Python code with variable item\n",
    "    # Python coee with variable item\n",
    "```"
   ]
  },
  {
   "cell_type": "markdown",
   "id": "436a3a8c-bb08-4c48-bea4-c1e23c81cf4f",
   "metadata": {},
   "source": [
    "Note:\n",
    "\n",
    "* `for` keyword starts the for loop\n",
    "* `item` is variable which takes each value in `sequence` one at a time\n",
    "* `sequence` is any sequence of values\n",
    "* `for` statement ends in a colon `:`\n",
    "* block of code for the loop is indented 4 spaces"
   ]
  },
  {
   "cell_type": "code",
   "execution_count": 1,
   "id": "9d572910-15ac-4451-a8e5-3b341fb8610b",
   "metadata": {},
   "outputs": [
    {
     "name": "stdout",
     "output_type": "stream",
     "text": [
      "1\n",
      "4\n",
      "9\n",
      "16\n",
      "25\n",
      "Done!\n"
     ]
    }
   ],
   "source": [
    "for n in range(1,6):\n",
    "    value = n**2\n",
    "    print(value)\n",
    "\n",
    "print('Done!')"
   ]
  },
  {
   "cell_type": "markdown",
   "id": "49a9a70d-7808-46c6-8d1e-4f87fe18d6df",
   "metadata": {},
   "source": [
    "## Factorial\n",
    "\n",
    "Write a function called `factorial` which takes input parameter `n` and returns $n! = n(n-1)\\dots (2)(1)$."
   ]
  },
  {
   "cell_type": "code",
   "execution_count": 2,
   "id": "4f958d8e-bfd3-4b1d-8976-2d4816371513",
   "metadata": {},
   "outputs": [],
   "source": [
    "def factorial(n):\n",
    "    value = 1\n",
    "    for k in range(1,n+1):\n",
    "        value = value*k\n",
    "    return value"
   ]
  },
  {
   "cell_type": "code",
   "execution_count": 3,
   "id": "8bec62e8-a768-4c19-9430-1bb090fc493b",
   "metadata": {},
   "outputs": [
    {
     "data": {
      "text/plain": [
       "1"
      ]
     },
     "execution_count": 3,
     "metadata": {},
     "output_type": "execute_result"
    }
   ],
   "source": [
    "factorial(1) # Should return 1"
   ]
  },
  {
   "cell_type": "code",
   "execution_count": 4,
   "id": "f5e2341f-126b-4f84-b756-1dd585ace50d",
   "metadata": {},
   "outputs": [
    {
     "data": {
      "text/plain": [
       "120"
      ]
     },
     "execution_count": 4,
     "metadata": {},
     "output_type": "execute_result"
    }
   ],
   "source": [
    "factorial(5) # Should return 120"
   ]
  },
  {
   "cell_type": "code",
   "execution_count": 5,
   "id": "adf32e82-9c08-4784-80ec-eebd7965285c",
   "metadata": {},
   "outputs": [
    {
     "data": {
      "text/plain": [
       "1"
      ]
     },
     "execution_count": 5,
     "metadata": {},
     "output_type": "execute_result"
    }
   ],
   "source": [
    "factorial(0) # Should return 1"
   ]
  },
  {
   "cell_type": "code",
   "execution_count": 6,
   "id": "5b975206-6b4d-4d77-8669-9e35c20bcafc",
   "metadata": {},
   "outputs": [
    {
     "data": {
      "text/plain": [
       "5040"
      ]
     },
     "execution_count": 6,
     "metadata": {},
     "output_type": "execute_result"
    }
   ],
   "source": [
    "factorial(7) # Should return 5040"
   ]
  },
  {
   "cell_type": "markdown",
   "id": "65e81796-5196-4a56-a270-2a3392f8378d",
   "metadata": {},
   "source": [
    "## Exponential Taylor Series\n",
    "\n",
    "Write a function called `exp` which takes input parameters `x` and `N` and return the partial Taylor series\n",
    "\n",
    "$$\n",
    "\\sum_{k=0}^N \\frac{x^k}{k!}\n",
    "$$"
   ]
  },
  {
   "cell_type": "code",
   "execution_count": 7,
   "id": "d0e9db93-2ca5-4af9-ab81-b7dcecaebe8e",
   "metadata": {},
   "outputs": [],
   "source": [
    "def exp(x,N):\n",
    "    terms = [x**k/factorial(k) for k in range(N+1)]\n",
    "    series = sum(terms)\n",
    "    return series"
   ]
  },
  {
   "cell_type": "code",
   "execution_count": 8,
   "id": "2c148ec0-ef52-4281-9313-8e35ebff5084",
   "metadata": {},
   "outputs": [
    {
     "data": {
      "text/plain": [
       "1.0"
      ]
     },
     "execution_count": 8,
     "metadata": {},
     "output_type": "execute_result"
    }
   ],
   "source": [
    "exp(0,5) # Should return 1.0"
   ]
  },
  {
   "cell_type": "code",
   "execution_count": 9,
   "id": "49239521-9e53-40e3-b046-2a9a62d2418c",
   "metadata": {},
   "outputs": [
    {
     "data": {
      "text/plain": [
       "2.5"
      ]
     },
     "execution_count": 9,
     "metadata": {},
     "output_type": "execute_result"
    }
   ],
   "source": [
    "exp(1,2) # Should return 1 + 1 + 1/2 = 2.5"
   ]
  },
  {
   "cell_type": "code",
   "execution_count": 10,
   "id": "5f188b94-6e3b-48b3-a4a7-8a2f765be551",
   "metadata": {},
   "outputs": [
    {
     "data": {
      "text/plain": [
       "0.33333333333333337"
      ]
     },
     "execution_count": 10,
     "metadata": {},
     "output_type": "execute_result"
    }
   ],
   "source": [
    "exp(-1,3) # Should return 1 - 1 + 1/2 - 1/6 = 0.33333"
   ]
  },
  {
   "cell_type": "code",
   "execution_count": 13,
   "id": "20cd94cf-6092-49e6-a65a-de074c8cf0ce",
   "metadata": {},
   "outputs": [
    {
     "data": {
      "text/plain": [
       "3.287949416633158e-65"
      ]
     },
     "execution_count": 13,
     "metadata": {},
     "output_type": "execute_result"
    }
   ],
   "source": [
    "1/factorial(50)"
   ]
  },
  {
   "cell_type": "code",
   "execution_count": 14,
   "id": "3bd8a829-52c9-43a6-9ec1-9f00608fe0ff",
   "metadata": {},
   "outputs": [
    {
     "data": {
      "text/plain": [
       "2.7182818284590455"
      ]
     },
     "execution_count": 14,
     "metadata": {},
     "output_type": "execute_result"
    }
   ],
   "source": [
    "exp(1,18)"
   ]
  },
  {
   "cell_type": "markdown",
   "id": "c7a4c5ec-ac9a-46d1-b4bb-27a90788d679",
   "metadata": {},
   "source": [
    "## Recursive Sequences\n",
    "\n",
    "A recursive sequence is a sequence $\\{ x_n \\}_{n=0}^{\\infty}$ such that the entry at index $n$ depends on previous entries. For example:\n",
    "\n",
    "$$\n",
    "x_0 = 1 \\ , \\ \\ x_{n+1} = \\sqrt{2 + x_n}\n",
    "$$"
   ]
  },
  {
   "cell_type": "markdown",
   "id": "e655b062-3ea1-420b-9811-dd48b5dcd02a",
   "metadata": {},
   "source": [
    "Write a function called `a_seq` which takes input parameters `a` and `N` and return the values of the sequence $x_0 = a$, $x_{n+1} = \\sqrt{2 + x_n}$ as a Python list of numbers up to (and including) $x_N$.\n",
    "\n",
    "Use the initialize and update construction. In particular, initialize the list as a list of zeros of length $N+1$ as in:"
   ]
  },
  {
   "cell_type": "code",
   "execution_count": 15,
   "id": "4713adc3-da54-4ab5-8272-91c08f6af2c4",
   "metadata": {},
   "outputs": [
    {
     "name": "stdout",
     "output_type": "stream",
     "text": [
      "[0, 0, 0, 0]\n"
     ]
    }
   ],
   "source": [
    "N = 3\n",
    "output = [0 for n in range(N+1)]\n",
    "print(output)"
   ]
  },
  {
   "cell_type": "code",
   "execution_count": 16,
   "id": "df9671a8-0e8f-4186-af02-473bd7899e14",
   "metadata": {},
   "outputs": [],
   "source": [
    "def a_seq(a,N):\n",
    "    seq = [0 for n in range(N+1)]\n",
    "    seq[0] = a\n",
    "    for n in range(N):\n",
    "        seq[n+1] = (2 + seq[n])**0.5\n",
    "    return seq"
   ]
  },
  {
   "cell_type": "code",
   "execution_count": 17,
   "id": "93c86c20-671f-4747-a4c4-cd4e911b1964",
   "metadata": {},
   "outputs": [
    {
     "data": {
      "text/plain": [
       "[1, 1.7320508075688772]"
      ]
     },
     "execution_count": 17,
     "metadata": {},
     "output_type": "execute_result"
    }
   ],
   "source": [
    "a_seq(1,1) # Should return [1,3**0.5]"
   ]
  },
  {
   "cell_type": "code",
   "execution_count": 18,
   "id": "2036f39f-0c17-429e-b3c2-2a141b1688e5",
   "metadata": {},
   "outputs": [
    {
     "data": {
      "text/plain": [
       "[1, 1.7320508075688772, 1.9318516525781366]"
      ]
     },
     "execution_count": 18,
     "metadata": {},
     "output_type": "execute_result"
    }
   ],
   "source": [
    "a_seq(1,2) # Should return [1,3**0.5,(2 + 3**0.5)**0.5] = [1,1.73,1.93]"
   ]
  },
  {
   "cell_type": "markdown",
   "id": "546616e7-e68e-445d-a4aa-85dac0e0f633",
   "metadata": {},
   "source": [
    "Try different values of $a$ and $N$. Determine the limit $\\lim_{n \\to \\infty} x_n$."
   ]
  },
  {
   "cell_type": "code",
   "execution_count": 25,
   "id": "912d9beb-5cc9-40dc-8100-5cf463717f08",
   "metadata": {},
   "outputs": [
    {
     "data": {
      "text/plain": [
       "[100,\n",
       " 10.099504938362077,\n",
       " 3.4784342653501557,\n",
       " 2.340605533905736,\n",
       " 2.0834119933190687,\n",
       " 2.0207454053687885,\n",
       " 2.0051796441637815,\n",
       " 2.0012944921134874,\n",
       " 2.0003235968496416,\n",
       " 2.000080897576306,\n",
       " 2.000020224291821]"
      ]
     },
     "execution_count": 25,
     "metadata": {},
     "output_type": "execute_result"
    }
   ],
   "source": [
    "a_seq(100,10)"
   ]
  },
  {
   "cell_type": "markdown",
   "id": "2db693e0-0633-491b-b107-56fa3e5e8aae",
   "metadata": {},
   "source": [
    "It seems like $\\lim_{n \\to \\infty} x_n = 2$ for any $a \\geq -2$. Can we prove it?"
   ]
  }
 ],
 "metadata": {
  "kernelspec": {
   "display_name": "Python 3 (ipykernel)",
   "language": "python",
   "name": "python3"
  },
  "language_info": {
   "codemirror_mode": {
    "name": "ipython",
    "version": 3
   },
   "file_extension": ".py",
   "mimetype": "text/x-python",
   "name": "python",
   "nbconvert_exporter": "python",
   "pygments_lexer": "ipython3",
   "version": "3.11.6"
  }
 },
 "nbformat": 4,
 "nbformat_minor": 5
}
