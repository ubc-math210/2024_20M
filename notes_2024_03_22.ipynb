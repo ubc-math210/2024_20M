{
 "cells": [
  {
   "cell_type": "markdown",
   "id": "a219922b-d0e1-4435-aaf5-38b6de4a6bf7",
   "metadata": {},
   "source": [
    "# MATH 210 Introduction to Mathematical Computing\n",
    "\n",
    "**March 22, 2024**"
   ]
  },
  {
   "cell_type": "markdown",
   "id": "22fc4f4f-6be2-445a-a8f6-e8fc86ac3f8c",
   "metadata": {},
   "source": [
    "## Linear Algebra with NumPy and SciPy"
   ]
  },
  {
   "cell_type": "markdown",
   "id": "08746fcc-cfad-4d41-9e7f-523bc25a591b",
   "metadata": {},
   "source": [
    "There are a few different linear algebra packages in Python. We are going to use `scipy.linalg`."
   ]
  },
  {
   "cell_type": "code",
   "execution_count": 1,
   "id": "871265f6-4e04-41d4-9308-9b08c9c2f57d",
   "metadata": {
    "tags": []
   },
   "outputs": [],
   "source": [
    "import numpy as np\n",
    "import matplotlib.pyplot as plt\n",
    "import scipy.linalg as la"
   ]
  },
  {
   "cell_type": "markdown",
   "id": "7e7b9b3a-7afa-4c23-ba75-863dcbdce569",
   "metadata": {},
   "source": [
    "## Create Matrices with NumPy"
   ]
  },
  {
   "cell_type": "markdown",
   "id": "a5f7b227-8ddd-466a-81c7-04902f82a01a",
   "metadata": {},
   "source": [
    "Create a matrix by entering values manually. The function `np.array` takes a list of lists of numbers and returns a 2D NumPy array."
   ]
  },
  {
   "cell_type": "code",
   "execution_count": 2,
   "id": "461cfd17-b42a-4cb3-87b1-c5a4529eef70",
   "metadata": {
    "tags": []
   },
   "outputs": [],
   "source": [
    "A = np.array([[1.,1.],[-1.,1.]])"
   ]
  },
  {
   "cell_type": "code",
   "execution_count": 3,
   "id": "22ea6811-79b8-43ef-af01-0da07c7b8bde",
   "metadata": {
    "tags": []
   },
   "outputs": [
    {
     "data": {
      "text/plain": [
       "numpy.ndarray"
      ]
     },
     "execution_count": 3,
     "metadata": {},
     "output_type": "execute_result"
    }
   ],
   "source": [
    "type(A)"
   ]
  },
  {
   "cell_type": "code",
   "execution_count": 4,
   "id": "2f8c4c95-631c-4af3-a220-34e1018bb989",
   "metadata": {
    "tags": []
   },
   "outputs": [
    {
     "data": {
      "text/plain": [
       "dtype('float64')"
      ]
     },
     "execution_count": 4,
     "metadata": {},
     "output_type": "execute_result"
    }
   ],
   "source": [
    "A.dtype"
   ]
  },
  {
   "cell_type": "markdown",
   "id": "b92fcf00-e595-43c5-b996-eb5347a2c153",
   "metadata": {},
   "source": [
    "When we enter values, we should use floats (ie. `1.`) so that our matrices have float entries."
   ]
  },
  {
   "cell_type": "code",
   "execution_count": 5,
   "id": "3d3200f7-5b24-4295-9c94-6bbdd27b27eb",
   "metadata": {
    "tags": []
   },
   "outputs": [
    {
     "data": {
      "text/plain": [
       "2"
      ]
     },
     "execution_count": 5,
     "metadata": {},
     "output_type": "execute_result"
    }
   ],
   "source": [
    "A.ndim"
   ]
  },
  {
   "cell_type": "code",
   "execution_count": 6,
   "id": "f713befc-502c-40f8-aae7-7f39a949d2c1",
   "metadata": {
    "tags": []
   },
   "outputs": [
    {
     "data": {
      "text/plain": [
       "(2, 2)"
      ]
     },
     "execution_count": 6,
     "metadata": {},
     "output_type": "execute_result"
    }
   ],
   "source": [
    "A.shape"
   ]
  },
  {
   "cell_type": "code",
   "execution_count": 7,
   "id": "d9759d47-0f96-4b8d-a699-ec2b1591b389",
   "metadata": {
    "tags": []
   },
   "outputs": [
    {
     "data": {
      "text/plain": [
       "-1.0"
      ]
     },
     "execution_count": 7,
     "metadata": {},
     "output_type": "execute_result"
    }
   ],
   "source": [
    "A[1,0]"
   ]
  },
  {
   "cell_type": "markdown",
   "id": "934be46f-8877-4e01-a2a0-e3afca6bd6c8",
   "metadata": {},
   "source": [
    "Create a 1D NumPy array:"
   ]
  },
  {
   "cell_type": "code",
   "execution_count": 8,
   "id": "cb8c4d1a-93ba-4dfc-b964-346380f5a0c6",
   "metadata": {
    "tags": []
   },
   "outputs": [
    {
     "data": {
      "text/plain": [
       "array([ 2., -1.])"
      ]
     },
     "execution_count": 8,
     "metadata": {},
     "output_type": "execute_result"
    }
   ],
   "source": [
    "v = np.array([2.,-1.])\n",
    "v"
   ]
  },
  {
   "cell_type": "code",
   "execution_count": 9,
   "id": "f188ad0b-4bb0-425e-97f0-4b092b8493e0",
   "metadata": {
    "tags": []
   },
   "outputs": [
    {
     "data": {
      "text/plain": [
       "1"
      ]
     },
     "execution_count": 9,
     "metadata": {},
     "output_type": "execute_result"
    }
   ],
   "source": [
    "v.ndim"
   ]
  },
  {
   "cell_type": "code",
   "execution_count": 10,
   "id": "ac07fbcf-0e55-4748-a85d-c2172d003ace",
   "metadata": {
    "tags": []
   },
   "outputs": [
    {
     "data": {
      "text/plain": [
       "(2,)"
      ]
     },
     "execution_count": 10,
     "metadata": {},
     "output_type": "execute_result"
    }
   ],
   "source": [
    "v.shape"
   ]
  },
  {
   "cell_type": "code",
   "execution_count": 11,
   "id": "583983b2-a9c8-4aec-8133-c333e6f1e39f",
   "metadata": {
    "tags": []
   },
   "outputs": [
    {
     "data": {
      "text/plain": [
       "-1.0"
      ]
     },
     "execution_count": 11,
     "metadata": {},
     "output_type": "execute_result"
    }
   ],
   "source": [
    "v[1]"
   ]
  },
  {
   "cell_type": "code",
   "execution_count": 12,
   "id": "912a944f-95cd-4b39-8b1f-c3f0319dd0a0",
   "metadata": {
    "tags": []
   },
   "outputs": [
    {
     "data": {
      "text/plain": [
       "array([[ 2.],\n",
       "       [-1.]])"
      ]
     },
     "execution_count": 12,
     "metadata": {},
     "output_type": "execute_result"
    }
   ],
   "source": [
    "w = np.array([[2.],[-1.]])\n",
    "w"
   ]
  },
  {
   "cell_type": "code",
   "execution_count": 13,
   "id": "7d3822fd-bf03-4320-a711-e20bc89cae40",
   "metadata": {
    "tags": []
   },
   "outputs": [
    {
     "data": {
      "text/plain": [
       "2"
      ]
     },
     "execution_count": 13,
     "metadata": {},
     "output_type": "execute_result"
    }
   ],
   "source": [
    "w.ndim"
   ]
  },
  {
   "cell_type": "code",
   "execution_count": 14,
   "id": "c6b46238-8b2e-449f-899a-cea07014832e",
   "metadata": {
    "tags": []
   },
   "outputs": [
    {
     "data": {
      "text/plain": [
       "(2, 1)"
      ]
     },
     "execution_count": 14,
     "metadata": {},
     "output_type": "execute_result"
    }
   ],
   "source": [
    "w.shape"
   ]
  },
  {
   "cell_type": "markdown",
   "id": "387e6950-bf71-4438-8d96-9495555187d1",
   "metadata": {},
   "source": [
    "Create a 2D NumPy array of size $(1,2)$:"
   ]
  },
  {
   "cell_type": "code",
   "execution_count": 15,
   "id": "4c85bbeb-44eb-48b9-b6e2-d71eab29eb0f",
   "metadata": {
    "tags": []
   },
   "outputs": [
    {
     "data": {
      "text/plain": [
       "array([[ 2., -1.]])"
      ]
     },
     "execution_count": 15,
     "metadata": {},
     "output_type": "execute_result"
    }
   ],
   "source": [
    "u = np.array([[2.,-1.]])\n",
    "u"
   ]
  },
  {
   "cell_type": "code",
   "execution_count": 16,
   "id": "38ae8919-e52e-4f00-9311-c7a9e3e85ecd",
   "metadata": {
    "tags": []
   },
   "outputs": [
    {
     "data": {
      "text/plain": [
       "(1, 2)"
      ]
     },
     "execution_count": 16,
     "metadata": {},
     "output_type": "execute_result"
    }
   ],
   "source": [
    "u.shape"
   ]
  },
  {
   "cell_type": "markdown",
   "id": "724002b9-d580-487f-9d9b-7477b715fb46",
   "metadata": {},
   "source": [
    "Notice that if we select a row/column from a 2D NumPy array, we get a 1D NumPy array:"
   ]
  },
  {
   "cell_type": "code",
   "execution_count": 17,
   "id": "efa48522-8ee4-4f01-bb1f-30c9281c9b6e",
   "metadata": {
    "tags": []
   },
   "outputs": [
    {
     "data": {
      "text/plain": [
       "array([[ 1.,  1.],\n",
       "       [-1.,  1.]])"
      ]
     },
     "execution_count": 17,
     "metadata": {},
     "output_type": "execute_result"
    }
   ],
   "source": [
    "A"
   ]
  },
  {
   "cell_type": "code",
   "execution_count": 18,
   "id": "bf797309-b1be-4b2a-9bcc-2c359b157061",
   "metadata": {
    "tags": []
   },
   "outputs": [
    {
     "data": {
      "text/plain": [
       "array([ 1., -1.])"
      ]
     },
     "execution_count": 18,
     "metadata": {},
     "output_type": "execute_result"
    }
   ],
   "source": [
    "A[:,0]"
   ]
  },
  {
   "cell_type": "markdown",
   "id": "d9f18d79-58df-49ea-896a-05611da0395d",
   "metadata": {},
   "source": [
    "Use NumPy functions to create larger matrices:"
   ]
  },
  {
   "cell_type": "code",
   "execution_count": 19,
   "id": "47e018ae-b2bc-4cfe-8cdc-f371530e6d91",
   "metadata": {
    "tags": []
   },
   "outputs": [
    {
     "data": {
      "text/plain": [
       "array([1., 1., 1., 1., 1.])"
      ]
     },
     "execution_count": 19,
     "metadata": {},
     "output_type": "execute_result"
    }
   ],
   "source": [
    "np.ones(5)"
   ]
  },
  {
   "cell_type": "code",
   "execution_count": 20,
   "id": "a1a6d5ca-4102-4119-ba4d-2a2471b8babc",
   "metadata": {
    "tags": []
   },
   "outputs": [
    {
     "data": {
      "text/plain": [
       "array([[1., 1.],\n",
       "       [1., 1.],\n",
       "       [1., 1.]])"
      ]
     },
     "execution_count": 20,
     "metadata": {},
     "output_type": "execute_result"
    }
   ],
   "source": [
    "np.ones((3,2))"
   ]
  },
  {
   "cell_type": "code",
   "execution_count": 21,
   "id": "87eb53c3-b3b3-486b-8075-14e3563b917b",
   "metadata": {
    "tags": []
   },
   "outputs": [
    {
     "data": {
      "text/plain": [
       "array([[0., 0., 0.],\n",
       "       [0., 0., 0.],\n",
       "       [0., 0., 0.],\n",
       "       [0., 0., 0.]])"
      ]
     },
     "execution_count": 21,
     "metadata": {},
     "output_type": "execute_result"
    }
   ],
   "source": [
    "np.zeros((4,3))"
   ]
  },
  {
   "cell_type": "code",
   "execution_count": 22,
   "id": "e3c39e74-ae8b-4966-9b0d-3830775f5615",
   "metadata": {
    "tags": []
   },
   "outputs": [
    {
     "data": {
      "text/plain": [
       "array([[1., 0., 0.],\n",
       "       [0., 1., 0.],\n",
       "       [0., 0., 1.]])"
      ]
     },
     "execution_count": 22,
     "metadata": {},
     "output_type": "execute_result"
    }
   ],
   "source": [
    "np.eye(3)"
   ]
  },
  {
   "cell_type": "markdown",
   "id": "beb4b78a-da39-433b-a34c-3843a4aec9bc",
   "metadata": {},
   "source": [
    "The function `np.diag` creates a diagonal matrix from a vector:"
   ]
  },
  {
   "cell_type": "code",
   "execution_count": 23,
   "id": "a35ff433-042f-456e-bf7a-c397c682c663",
   "metadata": {
    "tags": []
   },
   "outputs": [
    {
     "data": {
      "text/plain": [
       "array([[1., 0., 0.],\n",
       "       [0., 2., 0.],\n",
       "       [0., 0., 3.]])"
      ]
     },
     "execution_count": 23,
     "metadata": {},
     "output_type": "execute_result"
    }
   ],
   "source": [
    "D = np.diag(np.array([1.,2.,3.]))\n",
    "D"
   ]
  },
  {
   "cell_type": "markdown",
   "id": "761a83e4-339b-45bb-8fbf-f7ee6c01fb13",
   "metadata": {},
   "source": [
    "## Matrix Multiplication\n",
    "\n",
    "The symbol `@` does matrix multiplication:"
   ]
  },
  {
   "cell_type": "code",
   "execution_count": 24,
   "id": "578c8d82-4399-4af1-9675-19fb3dbcccb0",
   "metadata": {
    "tags": []
   },
   "outputs": [
    {
     "data": {
      "text/plain": [
       "array([[ 1.,  2.],\n",
       "       [ 2., -4.]])"
      ]
     },
     "execution_count": 24,
     "metadata": {},
     "output_type": "execute_result"
    }
   ],
   "source": [
    "A = np.array([[1.,2.],[2.,-4]])\n",
    "A"
   ]
  },
  {
   "cell_type": "code",
   "execution_count": 25,
   "id": "7a3fdc8f-07c1-41cd-aff5-d03bd4d40821",
   "metadata": {
    "tags": []
   },
   "outputs": [
    {
     "data": {
      "text/plain": [
       "array([[ 5.],\n",
       "       [-3.]])"
      ]
     },
     "execution_count": 25,
     "metadata": {},
     "output_type": "execute_result"
    }
   ],
   "source": [
    "v = np.array([[5.],[-3.]])\n",
    "v"
   ]
  },
  {
   "cell_type": "code",
   "execution_count": 26,
   "id": "daa7e23a-0eeb-4813-9329-f7030c3c911d",
   "metadata": {
    "tags": []
   },
   "outputs": [
    {
     "data": {
      "text/plain": [
       "array([[-1.],\n",
       "       [22.]])"
      ]
     },
     "execution_count": 26,
     "metadata": {},
     "output_type": "execute_result"
    }
   ],
   "source": [
    "A@v"
   ]
  },
  {
   "cell_type": "code",
   "execution_count": 27,
   "id": "e77a81b0-f77e-481a-876e-a9df0da7ef06",
   "metadata": {
    "tags": []
   },
   "outputs": [
    {
     "data": {
      "text/plain": [
       "array([ 5., -3.])"
      ]
     },
     "execution_count": 27,
     "metadata": {},
     "output_type": "execute_result"
    }
   ],
   "source": [
    "w = np.array([5.,-3.])\n",
    "w"
   ]
  },
  {
   "cell_type": "code",
   "execution_count": 28,
   "id": "061e7e52-87b7-42a3-81d3-60a361dd8869",
   "metadata": {
    "tags": []
   },
   "outputs": [
    {
     "data": {
      "text/plain": [
       "array([-1., 22.])"
      ]
     },
     "execution_count": 28,
     "metadata": {},
     "output_type": "execute_result"
    }
   ],
   "source": [
    "A@w"
   ]
  },
  {
   "cell_type": "markdown",
   "id": "b32109c7-e575-4d83-b053-f193e2b0ec2c",
   "metadata": {},
   "source": [
    "## Solving Linear Systems of Equations\n",
    "\n",
    "The funciton `la.solve` computes the solution of $A \\mathbf{x} = \\mathbf{b}$ for square matrix $A$."
   ]
  },
  {
   "cell_type": "code",
   "execution_count": 29,
   "id": "72d6dbd8-33f2-4fe9-8807-84ea977f8106",
   "metadata": {
    "tags": []
   },
   "outputs": [],
   "source": [
    "A = np.array([[1.,2.],[2.,1.]])\n",
    "b = np.array([[5.],[-3.]])"
   ]
  },
  {
   "cell_type": "code",
   "execution_count": 30,
   "id": "24cbd20b-25b1-44e7-b806-6fa165e77161",
   "metadata": {
    "tags": []
   },
   "outputs": [],
   "source": [
    "x = la.solve(A,b)"
   ]
  },
  {
   "cell_type": "code",
   "execution_count": 31,
   "id": "9a8efe19-4a6c-490f-84c6-2bfcd951c2b7",
   "metadata": {
    "tags": []
   },
   "outputs": [
    {
     "data": {
      "text/plain": [
       "array([[-3.66666667],\n",
       "       [ 4.33333333]])"
      ]
     },
     "execution_count": 31,
     "metadata": {},
     "output_type": "execute_result"
    }
   ],
   "source": [
    "x"
   ]
  },
  {
   "cell_type": "code",
   "execution_count": 32,
   "id": "a4187aca-26ae-4710-b606-58ca6b5264c8",
   "metadata": {
    "tags": []
   },
   "outputs": [],
   "source": [
    "A = np.array([[1.,2.],[2.,1.]])\n",
    "b = np.array([5.,-3.])"
   ]
  },
  {
   "cell_type": "code",
   "execution_count": 33,
   "id": "2bd9950c-0ba7-41b2-87fc-c497de828374",
   "metadata": {
    "tags": []
   },
   "outputs": [
    {
     "data": {
      "text/plain": [
       "array([-3.66666667,  4.33333333])"
      ]
     },
     "execution_count": 33,
     "metadata": {},
     "output_type": "execute_result"
    }
   ],
   "source": [
    "x = la.solve(A,b)\n",
    "x"
   ]
  },
  {
   "cell_type": "code",
   "execution_count": 34,
   "id": "186a8745-173f-42d8-8b6a-d57f417a9c6c",
   "metadata": {
    "tags": []
   },
   "outputs": [
    {
     "ename": "ValueError",
     "evalue": "Input b has to have same number of rows as input a",
     "output_type": "error",
     "traceback": [
      "\u001b[0;31m---------------------------------------------------------------------------\u001b[0m",
      "\u001b[0;31mValueError\u001b[0m                                Traceback (most recent call last)",
      "Cell \u001b[0;32mIn[34], line 3\u001b[0m\n\u001b[1;32m      1\u001b[0m A \u001b[38;5;241m=\u001b[39m np\u001b[38;5;241m.\u001b[39marray([[\u001b[38;5;241m1.\u001b[39m,\u001b[38;5;241m2.\u001b[39m],[\u001b[38;5;241m2.\u001b[39m,\u001b[38;5;241m1.\u001b[39m]])\n\u001b[1;32m      2\u001b[0m b \u001b[38;5;241m=\u001b[39m np\u001b[38;5;241m.\u001b[39marray([[\u001b[38;5;241m5.\u001b[39m,\u001b[38;5;241m-\u001b[39m\u001b[38;5;241m3.\u001b[39m]])\n\u001b[0;32m----> 3\u001b[0m x \u001b[38;5;241m=\u001b[39m \u001b[43mla\u001b[49m\u001b[38;5;241;43m.\u001b[39;49m\u001b[43msolve\u001b[49m\u001b[43m(\u001b[49m\u001b[43mA\u001b[49m\u001b[43m,\u001b[49m\u001b[43mb\u001b[49m\u001b[43m)\u001b[49m\n",
      "File \u001b[0;32m~/anaconda3/lib/python3.10/site-packages/scipy/linalg/_basic.py:161\u001b[0m, in \u001b[0;36msolve\u001b[0;34m(a, b, lower, overwrite_a, overwrite_b, check_finite, assume_a, transposed)\u001b[0m\n\u001b[1;32m    158\u001b[0m \u001b[38;5;28;01mif\u001b[39;00m n \u001b[38;5;241m!=\u001b[39m b1\u001b[38;5;241m.\u001b[39mshape[\u001b[38;5;241m0\u001b[39m]:\n\u001b[1;32m    159\u001b[0m     \u001b[38;5;66;03m# Last chance to catch 1x1 scalar a and 1-D b arrays\u001b[39;00m\n\u001b[1;32m    160\u001b[0m     \u001b[38;5;28;01mif\u001b[39;00m \u001b[38;5;129;01mnot\u001b[39;00m (n \u001b[38;5;241m==\u001b[39m \u001b[38;5;241m1\u001b[39m \u001b[38;5;129;01mand\u001b[39;00m b1\u001b[38;5;241m.\u001b[39msize \u001b[38;5;241m!=\u001b[39m \u001b[38;5;241m0\u001b[39m):\n\u001b[0;32m--> 161\u001b[0m         \u001b[38;5;28;01mraise\u001b[39;00m \u001b[38;5;167;01mValueError\u001b[39;00m(\u001b[38;5;124m'\u001b[39m\u001b[38;5;124mInput b has to have same number of rows as \u001b[39m\u001b[38;5;124m'\u001b[39m\n\u001b[1;32m    162\u001b[0m                          \u001b[38;5;124m'\u001b[39m\u001b[38;5;124minput a\u001b[39m\u001b[38;5;124m'\u001b[39m)\n\u001b[1;32m    164\u001b[0m \u001b[38;5;66;03m# accommodate empty arrays\u001b[39;00m\n\u001b[1;32m    165\u001b[0m \u001b[38;5;28;01mif\u001b[39;00m b1\u001b[38;5;241m.\u001b[39msize \u001b[38;5;241m==\u001b[39m \u001b[38;5;241m0\u001b[39m:\n",
      "\u001b[0;31mValueError\u001b[0m: Input b has to have same number of rows as input a"
     ]
    }
   ],
   "source": [
    "A = np.array([[1.,2.],[2.,1.]])\n",
    "b = np.array([[5.,-3.]])\n",
    "x = la.solve(A,b)"
   ]
  },
  {
   "cell_type": "markdown",
   "id": "f93c192b-1841-44d4-9133-d76bc9b9307d",
   "metadata": {},
   "source": [
    "Create the matrix of size $N$ with -2 on the diagonal and 1 on upper and lower diagonals."
   ]
  },
  {
   "cell_type": "code",
   "execution_count": 35,
   "id": "5ad97507-8470-4e01-a9a1-3f00cee65b9c",
   "metadata": {
    "tags": []
   },
   "outputs": [
    {
     "data": {
      "text/plain": [
       "array([[-2.,  1.,  0., ...,  0.,  0.,  0.],\n",
       "       [ 1., -2.,  1., ...,  0.,  0.,  0.],\n",
       "       [ 0.,  1., -2., ...,  0.,  0.,  0.],\n",
       "       ...,\n",
       "       [ 0.,  0.,  0., ..., -2.,  1.,  0.],\n",
       "       [ 0.,  0.,  0., ...,  1., -2.,  1.],\n",
       "       [ 0.,  0.,  0., ...,  0.,  1., -2.]])"
      ]
     },
     "execution_count": 35,
     "metadata": {},
     "output_type": "execute_result"
    }
   ],
   "source": [
    "N = 50\n",
    "A1 = -2*np.eye(N)\n",
    "A2 = np.diag(np.ones(N-1),1)\n",
    "A3 = np.diag(np.ones(N-1),-1)\n",
    "A = A1 + A2 + A3\n",
    "A"
   ]
  },
  {
   "cell_type": "code",
   "execution_count": 36,
   "id": "87b84c82-8e6f-43f9-9fb1-451c425bfc6d",
   "metadata": {
    "tags": []
   },
   "outputs": [
    {
     "data": {
      "image/png": "[encoded data removed]",
      "text/plain": [
       "<Figure size 640x480 with 2 Axes>"
      ]
     },
     "metadata": {},
     "output_type": "display_data"
    }
   ],
   "source": [
    "plt.imshow(A,cmap='Reds'), plt.colorbar()\n",
    "plt.show()"
   ]
  },
  {
   "cell_type": "markdown",
   "id": "1d140bea-2f58-4f27-938a-480cdd08d05b",
   "metadata": {},
   "source": [
    "Solve $A \\mathbf{x} = \\mathbf{b}$ where $A$ is the matrix above and $\\mathbf{b}$ is a vector of 1s (of length $N$)."
   ]
  },
  {
   "cell_type": "code",
   "execution_count": 37,
   "id": "88a61388-eb31-49de-be25-f731f4947b1d",
   "metadata": {
    "tags": []
   },
   "outputs": [],
   "source": [
    "b = np.ones(N)\n",
    "x = la.solve(A,b)"
   ]
  },
  {
   "cell_type": "code",
   "execution_count": 38,
   "id": "da8f67a1-9e37-475e-a98f-8875e99a5b6d",
   "metadata": {
    "tags": []
   },
   "outputs": [
    {
     "data": {
      "text/plain": [
       "(50,)"
      ]
     },
     "execution_count": 38,
     "metadata": {},
     "output_type": "execute_result"
    }
   ],
   "source": [
    "x.shape"
   ]
  },
  {
   "cell_type": "code",
   "execution_count": 39,
   "id": "818d0178-0d57-48b0-9e5a-cd67aa7bd9ef",
   "metadata": {
    "tags": []
   },
   "outputs": [
    {
     "data": {
      "image/png": "[encoded data removed]",
      "text/plain": [
       "<Figure size 640x480 with 1 Axes>"
      ]
     },
     "metadata": {},
     "output_type": "display_data"
    }
   ],
   "source": [
    "plt.plot(x,'.')\n",
    "plt.show()"
   ]
  },
  {
   "cell_type": "code",
   "execution_count": 40,
   "id": "e8bb5b74-b30d-485f-af2d-87ed8b16919a",
   "metadata": {
    "tags": []
   },
   "outputs": [
    {
     "data": {
      "text/plain": [
       "array([ -25.,  -49.,  -72.,  -94., -115., -135., -154., -172., -189.,\n",
       "       -205., -220., -234., -247., -259., -270., -280., -289., -297.,\n",
       "       -304., -310., -315., -319., -322., -324., -325., -325., -324.,\n",
       "       -322., -319., -315., -310., -304., -297., -289., -280., -270.,\n",
       "       -259., -247., -234., -220., -205., -189., -172., -154., -135.,\n",
       "       -115.,  -94.,  -72.,  -49.,  -25.])"
      ]
     },
     "execution_count": 40,
     "metadata": {},
     "output_type": "execute_result"
    }
   ],
   "source": [
    "x"
   ]
  },
  {
   "cell_type": "markdown",
   "id": "223c761a-36f2-497e-969d-83245daac8e4",
   "metadata": {},
   "source": [
    "## Polynomial Interpolation\n",
    "\n",
    "See [Mathematical Python](https://patrickwalls.github.io/mathematicalpython/linear-algebra/applications/#polynomial-interpolation)."
   ]
  },
  {
   "cell_type": "code",
   "execution_count": 41,
   "id": "0b4a0216-60eb-426b-b4a6-8c5b10a13318",
   "metadata": {
    "tags": []
   },
   "outputs": [
    {
     "data": {
      "image/png": "[encoded data removed]",
      "text/plain": [
       "<Figure size 640x480 with 1 Axes>"
      ]
     },
     "metadata": {},
     "output_type": "display_data"
    }
   ],
   "source": [
    "x = [0.,1.,2.,3.]\n",
    "y = [1.,1.,5.,2.]\n",
    "plt.plot(x,y,'.')\n",
    "plt.show()"
   ]
  },
  {
   "cell_type": "code",
   "execution_count": 42,
   "id": "43856dc2-0530-4062-bbda-383f57b86555",
   "metadata": {
    "tags": []
   },
   "outputs": [
    {
     "data": {
      "text/plain": [
       "array([[ 1.,  0.,  0.,  0.],\n",
       "       [ 1.,  1.,  1.,  1.],\n",
       "       [ 1.,  2.,  4.,  8.],\n",
       "       [ 1.,  3.,  9., 27.]])"
      ]
     },
     "execution_count": 42,
     "metadata": {},
     "output_type": "execute_result"
    }
   ],
   "source": [
    "X = np.vander(x,increasing=True)\n",
    "X"
   ]
  },
  {
   "cell_type": "code",
   "execution_count": 43,
   "id": "40b2d4fa-7b07-48ce-a962-6bfc1c4f354a",
   "metadata": {
    "tags": []
   },
   "outputs": [
    {
     "data": {
      "text/plain": [
       "array([ 1.        , -5.66666667,  7.5       , -1.83333333])"
      ]
     },
     "execution_count": 43,
     "metadata": {},
     "output_type": "execute_result"
    }
   ],
   "source": [
    "a = la.solve(X,y)\n",
    "a"
   ]
  },
  {
   "cell_type": "code",
   "execution_count": 44,
   "id": "1e9a5342-e149-4a27-a2b2-16b39ba5d97c",
   "metadata": {
    "tags": []
   },
   "outputs": [
    {
     "data": {
      "image/png": "[encoded data removed]",
      "text/plain": [
       "<Figure size 640x480 with 1 Axes>"
      ]
     },
     "metadata": {},
     "output_type": "display_data"
    }
   ],
   "source": [
    "xs = np.linspace(0,3,50)\n",
    "# ys = a[0] + a[1]*xs + a[2]*xs**2 + a[3]*xs**3\n",
    "ys = sum([a[n]*xs**n for n in range(len(a))])\n",
    "plt.plot(xs,ys)\n",
    "plt.plot(x,y,'.',ms=10)\n",
    "plt.show()"
   ]
  }
 ],
 "metadata": {
  "kernelspec": {
   "display_name": "Python 3 (ipykernel)",
   "language": "python",
   "name": "python3"
  },
  "language_info": {
   "codemirror_mode": {
    "name": "ipython",
    "version": 3
   },
   "file_extension": ".py",
   "mimetype": "text/x-python",
   "name": "python",
   "nbconvert_exporter": "python",
   "pygments_lexer": "ipython3",
   "version": "3.10.12"
  }
 },
 "nbformat": 4,
 "nbformat_minor": 5
}
