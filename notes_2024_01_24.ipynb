{
 "cells": [
  {
   "cell_type": "markdown",
   "id": "54d4c71f-60ff-43c8-bb3a-b7b6b96ed6f8",
   "metadata": {},
   "source": [
    "# MATH 201 Introduction to Mathematical Computing\n",
    "\n",
    "**January 24, 2024**\n",
    "\n",
    "* Polynomial evaluation function\n",
    "* Boolean values\n",
    "* Comparison operators\n",
    "* Boolean opperators\n",
    "* `if` statements\n",
    "* Polynomial differentiation function"
   ]
  },
  {
   "cell_type": "markdown",
   "id": "db784fe4-817e-492c-aabb-c48d8e9c2e63",
   "metadata": {},
   "source": [
    "## `poly_eval`"
   ]
  },
  {
   "cell_type": "code",
   "execution_count": 1,
   "id": "c622bbc6-b197-497a-a861-fb43aa5351bf",
   "metadata": {},
   "outputs": [],
   "source": [
    "def poly_eval(p,a):\n",
    "    pa = sum([p[k]*a**k for k in range(len(p))])\n",
    "    return pa"
   ]
  },
  {
   "cell_type": "code",
   "execution_count": 2,
   "id": "e5000f9a-c539-410e-842c-7b81a884e737",
   "metadata": {},
   "outputs": [
    {
     "data": {
      "text/plain": [
       "5"
      ]
     },
     "execution_count": 2,
     "metadata": {},
     "output_type": "execute_result"
    }
   ],
   "source": [
    "poly_eval([1,0,1],-2) # Function should return 1*(-2)**0 + 0*(-2)**1 + (-2)**2 = 5  "
   ]
  },
  {
   "cell_type": "code",
   "execution_count": 3,
   "id": "9787facb-601a-41fd-ad43-f5830b8e8d3f",
   "metadata": {},
   "outputs": [
    {
     "data": {
      "text/plain": [
       "72"
      ]
     },
     "execution_count": 3,
     "metadata": {},
     "output_type": "execute_result"
    }
   ],
   "source": [
    "poly_eval([0,2,0,1],4) # Function should return 2(4) + (4)**3 = 72"
   ]
  },
  {
   "cell_type": "code",
   "execution_count": 4,
   "id": "d3dbd4bc-b91a-4905-993a-eb927a2ef93c",
   "metadata": {},
   "outputs": [
    {
     "data": {
      "text/plain": [
       "-21"
      ]
     },
     "execution_count": 4,
     "metadata": {},
     "output_type": "execute_result"
    }
   ],
   "source": [
    "poly_eval([1,-1,1,-1,1,-1],2) # Function should return 1 - 2 + 2**2 - 2**3 + 2**4 - 2**5 = -21"
   ]
  },
  {
   "cell_type": "markdown",
   "id": "17878066-a087-4d97-a0e9-e6e5f6b16a63",
   "metadata": {},
   "source": [
    "## Boolean values\n",
    "\n",
    "There are two boolean values: `True` and `False`."
   ]
  },
  {
   "cell_type": "code",
   "execution_count": 7,
   "id": "6f9c31f4-4092-477e-93af-22f290b2677d",
   "metadata": {},
   "outputs": [],
   "source": [
    "math_is_cool = True"
   ]
  },
  {
   "cell_type": "code",
   "execution_count": 8,
   "id": "4dd546db-5966-436a-b86b-88e9f6aa1a93",
   "metadata": {},
   "outputs": [
    {
     "name": "stdout",
     "output_type": "stream",
     "text": [
      "True\n"
     ]
    }
   ],
   "source": [
    "print(math_is_cool)"
   ]
  },
  {
   "cell_type": "code",
   "execution_count": 9,
   "id": "0376dac1-e1b0-4d1c-8984-485bbcdcaa24",
   "metadata": {},
   "outputs": [
    {
     "data": {
      "text/plain": [
       "bool"
      ]
     },
     "execution_count": 9,
     "metadata": {},
     "output_type": "execute_result"
    }
   ],
   "source": [
    "type(math_is_cool)"
   ]
  },
  {
   "cell_type": "code",
   "execution_count": 10,
   "id": "eb2edde3-4607-4c6b-a25d-fdfb4ca54485",
   "metadata": {},
   "outputs": [],
   "source": [
    "math_is_scary = False"
   ]
  },
  {
   "cell_type": "code",
   "execution_count": 11,
   "id": "cc8b84d9-4222-4354-b75a-6b98f2d3f8a2",
   "metadata": {},
   "outputs": [
    {
     "name": "stdout",
     "output_type": "stream",
     "text": [
      "False\n"
     ]
    }
   ],
   "source": [
    "print(math_is_scary)"
   ]
  },
  {
   "cell_type": "code",
   "execution_count": 12,
   "id": "51f070bb-c81a-4d43-8c92-4c84b9058a4a",
   "metadata": {},
   "outputs": [
    {
     "data": {
      "text/plain": [
       "bool"
      ]
     },
     "execution_count": 12,
     "metadata": {},
     "output_type": "execute_result"
    }
   ],
   "source": [
    "type(math_is_scary)"
   ]
  },
  {
   "cell_type": "markdown",
   "id": "9cbe65f2-e647-4b53-b5c6-56aabb38b85b",
   "metadata": {},
   "source": [
    "## Comparison Operators"
   ]
  },
  {
   "cell_type": "code",
   "execution_count": 13,
   "id": "e93afc5a-1a34-4949-8f1a-2e508064d853",
   "metadata": {},
   "outputs": [
    {
     "data": {
      "text/plain": [
       "True"
      ]
     },
     "execution_count": 13,
     "metadata": {},
     "output_type": "execute_result"
    }
   ],
   "source": [
    "1 < 2"
   ]
  },
  {
   "cell_type": "code",
   "execution_count": 14,
   "id": "e46c9a99-0e15-48dd-8ef8-2a5655da3ffb",
   "metadata": {},
   "outputs": [
    {
     "data": {
      "text/plain": [
       "False"
      ]
     },
     "execution_count": 14,
     "metadata": {},
     "output_type": "execute_result"
    }
   ],
   "source": [
    "3.14159 < 3.14"
   ]
  },
  {
   "cell_type": "code",
   "execution_count": 15,
   "id": "2d1361ba-0019-4423-8a14-711fc20fb38d",
   "metadata": {},
   "outputs": [
    {
     "data": {
      "text/plain": [
       "True"
      ]
     },
     "execution_count": 15,
     "metadata": {},
     "output_type": "execute_result"
    }
   ],
   "source": [
    "4 - 2**2 <=0"
   ]
  },
  {
   "cell_type": "code",
   "execution_count": 16,
   "id": "a3247649-cf32-4105-bb92-852e25f97c5d",
   "metadata": {},
   "outputs": [
    {
     "data": {
      "text/plain": [
       "True"
      ]
     },
     "execution_count": 16,
     "metadata": {},
     "output_type": "execute_result"
    }
   ],
   "source": [
    "4 >= 2"
   ]
  },
  {
   "cell_type": "code",
   "execution_count": 17,
   "id": "0db765dc-df4e-4352-bce5-c992d266afcb",
   "metadata": {},
   "outputs": [
    {
     "data": {
      "text/plain": [
       "True"
      ]
     },
     "execution_count": 17,
     "metadata": {},
     "output_type": "execute_result"
    }
   ],
   "source": [
    "1 + 1 == 2"
   ]
  },
  {
   "cell_type": "code",
   "execution_count": 18,
   "id": "5cc7798b-5491-4f79-890b-18fdfa15a4b5",
   "metadata": {},
   "outputs": [
    {
     "data": {
      "text/plain": [
       "True"
      ]
     },
     "execution_count": 18,
     "metadata": {},
     "output_type": "execute_result"
    }
   ],
   "source": [
    "1 != 2"
   ]
  },
  {
   "cell_type": "markdown",
   "id": "e7b7e0f7-7e26-41c1-8a03-fa9d3c1a54b2",
   "metadata": {},
   "source": [
    "It's usually a bad idea to use `==` when comparing floats. Because there is always some rounding error when computing with floats and we get some unexpected results when using `==`. For example:"
   ]
  },
  {
   "cell_type": "code",
   "execution_count": 19,
   "id": "d14d26ea-02e0-4f47-b7cd-9777633e43cf",
   "metadata": {},
   "outputs": [
    {
     "data": {
      "text/plain": [
       "False"
      ]
     },
     "execution_count": 19,
     "metadata": {},
     "output_type": "execute_result"
    }
   ],
   "source": [
    "0.1 + 0.2 == 0.3"
   ]
  },
  {
   "cell_type": "code",
   "execution_count": 20,
   "id": "aafeabb8-f5b7-4dd2-9712-292619db6184",
   "metadata": {},
   "outputs": [
    {
     "data": {
      "text/plain": [
       "0.30000000000000004"
      ]
     },
     "execution_count": 20,
     "metadata": {},
     "output_type": "execute_result"
    }
   ],
   "source": [
    "0.1 + 0.2"
   ]
  },
  {
   "cell_type": "markdown",
   "id": "e3f6828b-0ca4-439e-bd61-9709ac68e4d5",
   "metadata": {},
   "source": [
    "Instead, when comparing floats we should use `<` or `>` with some tolerance. That is, values are close enough!"
   ]
  },
  {
   "cell_type": "code",
   "execution_count": 21,
   "id": "2687cd97-6905-4979-aa0d-a1a01b42b066",
   "metadata": {},
   "outputs": [
    {
     "data": {
      "text/plain": [
       "True"
      ]
     },
     "execution_count": 21,
     "metadata": {},
     "output_type": "execute_result"
    }
   ],
   "source": [
    "x1 = 0.1 + 0.2\n",
    "x2 = 0.3\n",
    "abs(x1 - x2) < 1e-12"
   ]
  },
  {
   "cell_type": "markdown",
   "id": "487bea86-e9cd-4288-a9b1-5b6a229e5d5c",
   "metadata": {},
   "source": [
    "We can compare lots of different datatypes but we're just going to focus on numbers."
   ]
  },
  {
   "cell_type": "markdown",
   "id": "ae1879f6-2f75-4092-9d56-42e3b61e7d3d",
   "metadata": {},
   "source": [
    "## Boolean Operators\n",
    "\n",
    "Combine comparison operators using boolean operators: `and`, `or`, `not`."
   ]
  },
  {
   "cell_type": "code",
   "execution_count": 22,
   "id": "859ee260-f139-4c49-8508-6e6daf3c4b45",
   "metadata": {},
   "outputs": [
    {
     "data": {
      "text/plain": [
       "False"
      ]
     },
     "execution_count": 22,
     "metadata": {},
     "output_type": "execute_result"
    }
   ],
   "source": [
    "(1 < 2) and (3.14 < 3)"
   ]
  },
  {
   "cell_type": "code",
   "execution_count": 23,
   "id": "3e41db24-670f-48c7-b06d-7b7d1aa36a1a",
   "metadata": {},
   "outputs": [
    {
     "data": {
      "text/plain": [
       "True"
      ]
     },
     "execution_count": 23,
     "metadata": {},
     "output_type": "execute_result"
    }
   ],
   "source": [
    "(1 < 2) or (3.14 < 3)"
   ]
  },
  {
   "cell_type": "code",
   "execution_count": 24,
   "id": "e71ba739-afb7-4f59-874b-29c9a2942ee6",
   "metadata": {},
   "outputs": [
    {
     "data": {
      "text/plain": [
       "False"
      ]
     },
     "execution_count": 24,
     "metadata": {},
     "output_type": "execute_result"
    }
   ],
   "source": [
    "not 1 < 2"
   ]
  },
  {
   "cell_type": "markdown",
   "id": "6636636d-6cab-4de9-a015-959db3372fa0",
   "metadata": {},
   "source": [
    "## `if` statements\n",
    "\n",
    "The syntax for `if` statement is:\n",
    "\n",
    "```python\n",
    "if (boolean_value_1):\n",
    "    # Python code block 1\n",
    "elif (boolean_value_2):\n",
    "    # Python code block 2\n",
    "else:\n",
    "    # Python code block 3\n",
    "```"
   ]
  },
  {
   "cell_type": "markdown",
   "id": "96fb604e-7068-4b98-8228-c4a55212427d",
   "metadata": {},
   "source": [
    "* start with `if` (all other `elif` are optional)\n",
    "* only one `else` allowed at the end\n",
    "* each `if`, `elif`, `else` statement ends in a colon `:`\n",
    "* code blocks are indented 4 spaces\n",
    "* only one block of code is executed\n",
    "* the first boolean value to be True runs its block of code\n",
    "* run `else` block if all boolean values above are False"
   ]
  },
  {
   "cell_type": "markdown",
   "id": "9f65b5a8-8a0e-4c97-ba59-8cbb722da597",
   "metadata": {},
   "source": [
    "Let's write Python code to determine whether the roots of $p(x) = ax^2 + bx + c$ are real distinct, complex, or real repeated."
   ]
  },
  {
   "cell_type": "code",
   "execution_count": 26,
   "id": "a641fdc8-fc24-4fb5-9479-8c6c4be6e88f",
   "metadata": {},
   "outputs": [
    {
     "name": "stdout",
     "output_type": "stream",
     "text": [
      "The roots are real and distinct:\n",
      "r1 = -0.2679491924311228\n",
      "r2 = -3.732050807568877\n",
      "Finished!\n"
     ]
    }
   ],
   "source": [
    "a = 1; b = 4; c = 1; D = b**2 - 4*a*c;\n",
    "\n",
    "if a == 0:\n",
    "    print('Not a quadratic polynomial a=0.')\n",
    "elif D > 0:\n",
    "    r1 = (-b + D**0.5)/(2*a)\n",
    "    r2 = (-b - D**0.5)/(2*a)\n",
    "    print('The roots are real and distinct:')\n",
    "    print('r1 =',r1)\n",
    "    print('r2 =',r2)\n",
    "elif D < 0:\n",
    "    r1 = (-b + D**0.5)/(2*a)\n",
    "    r2 = (-b - D**0.5)/(2*a)\n",
    "    print('The roots are complex:')\n",
    "    print('r1 =',r1)\n",
    "    print('r2 =',r2)\n",
    "else:\n",
    "    r = (-b + D**0.5)/(2*a)\n",
    "    print('The roots are real and repeated:')\n",
    "    print('r =',r)\n",
    "\n",
    "print('Finished!')"
   ]
  },
  {
   "cell_type": "markdown",
   "id": "e2ff2f27-3b57-4bd9-91c7-25169512a820",
   "metadata": {},
   "source": [
    "## Polynomial Differentiation\n",
    "\n",
    "Write a function called `poly_diff` which takes `p` (list of numbers representing a polynomial $p(x)$) and returns the list of coefficients of the derivative $p'(x)$."
   ]
  },
  {
   "cell_type": "code",
   "execution_count": 30,
   "id": "410a04d1-4dc4-4179-8b80-3397edcf98d4",
   "metadata": {},
   "outputs": [],
   "source": [
    "def poly_diff(p):\n",
    "    \"Compute the list of coefficients of the derivative p'(x).\"\n",
    "    if len(p) == 1:\n",
    "        dp = [0]\n",
    "    else:\n",
    "        dp = [p[n]*n for n in range(1,len(p))]\n",
    "    return dp"
   ]
  },
  {
   "cell_type": "code",
   "execution_count": 31,
   "id": "d5a5629d-f3fc-4dfb-88a0-b27399f3a97a",
   "metadata": {},
   "outputs": [
    {
     "data": {
      "text/plain": [
       "[1, 2]"
      ]
     },
     "execution_count": 31,
     "metadata": {},
     "output_type": "execute_result"
    }
   ],
   "source": [
    "poly_diff([1,1,1]) # Should return [1,2] since p(x) = 1 + x + x^2 and p'(x) = 1 + 2x"
   ]
  },
  {
   "cell_type": "code",
   "execution_count": 32,
   "id": "b5a1936c-11fd-430f-9100-5319354bbdda",
   "metadata": {},
   "outputs": [
    {
     "data": {
      "text/plain": [
       "[1, 0, 0, -4]"
      ]
     },
     "execution_count": 32,
     "metadata": {},
     "output_type": "execute_result"
    }
   ],
   "source": [
    "poly_diff([0,1,0,0,-1]) # Should return [1,0,0,-4]"
   ]
  },
  {
   "cell_type": "code",
   "execution_count": 33,
   "id": "7690ee0d-4e7e-4ff5-beeb-eb2c5d77d7fd",
   "metadata": {},
   "outputs": [
    {
     "data": {
      "text/plain": [
       "[0]"
      ]
     },
     "execution_count": 33,
     "metadata": {},
     "output_type": "execute_result"
    }
   ],
   "source": [
    "poly_diff([1]) # Should return [0]"
   ]
  }
 ],
 "metadata": {
  "kernelspec": {
   "display_name": "Python 3 (ipykernel)",
   "language": "python",
   "name": "python3"
  },
  "language_info": {
   "codemirror_mode": {
    "name": "ipython",
    "version": 3
   },
   "file_extension": ".py",
   "mimetype": "text/x-python",
   "name": "python",
   "nbconvert_exporter": "python",
   "pygments_lexer": "ipython3",
   "version": "3.11.6"
  }
 },
 "nbformat": 4,
 "nbformat_minor": 5
}
