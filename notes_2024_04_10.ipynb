{
 "cells": [
  {
   "cell_type": "markdown",
   "id": "f0c04fcf-2670-4c68-b78f-2715846f4d01",
   "metadata": {},
   "source": [
    "# MATH 210 Introduction to Mathematical Computing\n",
    "\n",
    "**April 10, 2024**"
   ]
  },
  {
   "cell_type": "code",
   "execution_count": 36,
   "id": "32b61215-7720-4e31-933f-5c44fc4ce616",
   "metadata": {
    "tags": []
   },
   "outputs": [],
   "source": [
    "import numpy as np\n",
    "import matplotlib.pyplot as plt\n",
    "import scipy.linalg as la"
   ]
  },
  {
   "cell_type": "markdown",
   "id": "600e7b02-bec1-48b4-a046-964f7e2fca2e",
   "metadata": {},
   "source": [
    "## Diagonalization\n",
    "\n",
    "A matrix is diagonalizable if there exists an invertible matrix $P$ and diagonal matrix $D$ such that $A = PDP^{-1}$. A matrix is diagonalization if and only if it has $n$ linearly independent eigenvectors."
   ]
  },
  {
   "cell_type": "code",
   "execution_count": 37,
   "id": "f7509075-ab7f-49fd-a9ad-076a02ac73e8",
   "metadata": {
    "tags": []
   },
   "outputs": [
    {
     "data": {
      "text/plain": [
       "array([[ 1., -1.,  0.],\n",
       "       [-1.,  2., -1.],\n",
       "       [ 0., -1.,  1.]])"
      ]
     },
     "execution_count": 37,
     "metadata": {},
     "output_type": "execute_result"
    }
   ],
   "source": [
    "A = np.array([[1.,-1.,0.],[-1.,2.,-1],[0.,-1.,1.]])\n",
    "A"
   ]
  },
  {
   "cell_type": "code",
   "execution_count": 38,
   "id": "788a7425-da67-4b78-adda-e52ec6d90047",
   "metadata": {
    "tags": []
   },
   "outputs": [],
   "source": [
    "evals,evecs = la.eig(A)"
   ]
  },
  {
   "cell_type": "code",
   "execution_count": 39,
   "id": "660a93bd-139a-40da-b6a5-20122dc2ec27",
   "metadata": {
    "tags": []
   },
   "outputs": [
    {
     "data": {
      "text/plain": [
       "array([ 3.00000000e+00+0.j,  1.00000000e+00+0.j, -5.13860489e-17+0.j])"
      ]
     },
     "execution_count": 39,
     "metadata": {},
     "output_type": "execute_result"
    }
   ],
   "source": [
    "evals"
   ]
  },
  {
   "cell_type": "code",
   "execution_count": 40,
   "id": "2458fdd0-1f2e-43c8-963f-45c4eef508c9",
   "metadata": {
    "tags": []
   },
   "outputs": [
    {
     "data": {
      "text/plain": [
       "array([[-4.08248290e-01, -7.07106781e-01,  5.77350269e-01],\n",
       "       [ 8.16496581e-01,  2.48915666e-16,  5.77350269e-01],\n",
       "       [-4.08248290e-01,  7.07106781e-01,  5.77350269e-01]])"
      ]
     },
     "execution_count": 40,
     "metadata": {},
     "output_type": "execute_result"
    }
   ],
   "source": [
    "P = evecs\n",
    "P"
   ]
  },
  {
   "cell_type": "code",
   "execution_count": 41,
   "id": "44da868f-107c-4d12-9953-e7c31d82c543",
   "metadata": {
    "tags": []
   },
   "outputs": [
    {
     "data": {
      "text/plain": [
       "array([[ 3.00000000e+00,  0.00000000e+00,  0.00000000e+00],\n",
       "       [ 0.00000000e+00,  1.00000000e+00,  0.00000000e+00],\n",
       "       [ 0.00000000e+00,  0.00000000e+00, -5.13860489e-17]])"
      ]
     },
     "execution_count": 41,
     "metadata": {},
     "output_type": "execute_result"
    }
   ],
   "source": [
    "D = np.diag(evals.real)\n",
    "D"
   ]
  },
  {
   "cell_type": "code",
   "execution_count": 42,
   "id": "429434ee-bf57-43ec-8153-2669e00b3b56",
   "metadata": {
    "tags": []
   },
   "outputs": [],
   "source": [
    "result = P@D@la.inv(P)"
   ]
  },
  {
   "cell_type": "code",
   "execution_count": 43,
   "id": "f59ecaef-713c-45fc-b380-4eeaffe6d0a6",
   "metadata": {
    "tags": []
   },
   "outputs": [
    {
     "data": {
      "text/plain": [
       "array([[ 1., -1., -0.],\n",
       "       [-1.,  2., -1.],\n",
       "       [-0., -1.,  1.]])"
      ]
     },
     "execution_count": 43,
     "metadata": {},
     "output_type": "execute_result"
    }
   ],
   "source": [
    "result.round(2)"
   ]
  },
  {
   "cell_type": "markdown",
   "id": "3938eeef-0b21-445a-bfdb-e60e8d944188",
   "metadata": {},
   "source": [
    "## Computing Matrix Powers\n",
    "\n",
    "$A^k = P D^k P^{-1}$"
   ]
  },
  {
   "cell_type": "code",
   "execution_count": 44,
   "id": "7bf42c51-fb9e-41da-8d77-46f53c2ac8e9",
   "metadata": {
    "tags": []
   },
   "outputs": [
    {
     "data": {
      "text/plain": [
       "array([[ 14., -27.,  13.],\n",
       "       [-27.,  54., -27.],\n",
       "       [ 13., -27.,  14.]])"
      ]
     },
     "execution_count": 44,
     "metadata": {},
     "output_type": "execute_result"
    }
   ],
   "source": [
    "A@A@A@A"
   ]
  },
  {
   "cell_type": "code",
   "execution_count": 45,
   "id": "11596271-303a-45f0-8f5b-d9038e5b337d",
   "metadata": {
    "tags": []
   },
   "outputs": [],
   "source": [
    "Pinv = la.inv(P)"
   ]
  },
  {
   "cell_type": "code",
   "execution_count": 46,
   "id": "4661a20f-2f58-4f1c-a535-a0031158652e",
   "metadata": {
    "tags": []
   },
   "outputs": [
    {
     "data": {
      "text/plain": [
       "array([[ 14., -27.,  13.],\n",
       "       [-27.,  54., -27.],\n",
       "       [ 13., -27.,  14.]])"
      ]
     },
     "execution_count": 46,
     "metadata": {},
     "output_type": "execute_result"
    }
   ],
   "source": [
    "P@D**4@Pinv"
   ]
  },
  {
   "cell_type": "markdown",
   "id": "6acf0800-c364-424d-8a1e-f36c597f58da",
   "metadata": {},
   "source": [
    "## Power Method"
   ]
  },
  {
   "cell_type": "code",
   "execution_count": 47,
   "id": "e458f948-fbea-4c5d-aad0-3ac575b5e14b",
   "metadata": {
    "tags": []
   },
   "outputs": [
    {
     "data": {
      "text/plain": [
       "array([[ 1., -1.,  0.],\n",
       "       [-1.,  2., -1.],\n",
       "       [ 0., -1.,  1.]])"
      ]
     },
     "execution_count": 47,
     "metadata": {},
     "output_type": "execute_result"
    }
   ],
   "source": [
    "A"
   ]
  },
  {
   "cell_type": "code",
   "execution_count": 48,
   "id": "fc019753-fb5a-49c0-931a-66406f104e07",
   "metadata": {
    "tags": []
   },
   "outputs": [],
   "source": [
    "x0 = np.array([1.,3.,-2.])"
   ]
  },
  {
   "cell_type": "code",
   "execution_count": 50,
   "id": "a04fc2d3-9468-4fd5-8f2b-b47691ca53fb",
   "metadata": {
    "tags": []
   },
   "outputs": [
    {
     "name": "stdout",
     "output_type": "stream",
     "text": [
      "[-2.  7. -5.]\n",
      "[ -9.  21. -12.]\n",
      "[-30.  63. -33.]\n",
      "[-93. 189. -96.]\n",
      "[-282.  567. -285.]\n",
      "[-849. 1701. -852.]\n",
      "[-2550.  5103. -2553.]\n",
      "[-7653. 15309. -7656.]\n",
      "[-22962.  45927. -22965.]\n",
      "[-68889. 137781. -68892.]\n",
      "[-206670.  413343. -206673.]\n",
      "[-620013. 1240029. -620016.]\n",
      "[-1860042.  3720087. -1860045.]\n",
      "[-5580129. 11160261. -5580132.]\n",
      "[-16740390.  33480783. -16740393.]\n",
      "[-5.02211730e+07  1.00442349e+08 -5.02211760e+07]\n",
      "[-1.50663522e+08  3.01327047e+08 -1.50663525e+08]\n",
      "[-4.51990569e+08  9.03981141e+08 -4.51990572e+08]\n",
      "[-1.35597171e+09  2.71194342e+09 -1.35597171e+09]\n",
      "[-4.06791513e+09  8.13583027e+09 -4.06791514e+09]\n"
     ]
    }
   ],
   "source": [
    "N = 20\n",
    "xk = x0\n",
    "for k in range(N):\n",
    "    xk = A@xk\n",
    "    print(xk)"
   ]
  },
  {
   "cell_type": "code",
   "execution_count": 51,
   "id": "c8567597-71d5-491b-8ace-889bec214907",
   "metadata": {
    "tags": []
   },
   "outputs": [
    {
     "data": {
      "text/plain": [
       "array([ 1., -2.,  1.])"
      ]
     },
     "execution_count": 51,
     "metadata": {},
     "output_type": "execute_result"
    }
   ],
   "source": [
    "xk/xk[0]"
   ]
  },
  {
   "cell_type": "code",
   "execution_count": 52,
   "id": "141ed685-4b69-4d7d-9b66-1d0132ee222c",
   "metadata": {
    "tags": []
   },
   "outputs": [
    {
     "data": {
      "text/plain": [
       "array([-0.5,  1. , -0.5])"
      ]
     },
     "execution_count": 52,
     "metadata": {},
     "output_type": "execute_result"
    }
   ],
   "source": [
    "xk/np.max(np.abs(xk))"
   ]
  },
  {
   "cell_type": "code",
   "execution_count": 53,
   "id": "89c62500-89b8-4acf-ab05-3b705cfa0548",
   "metadata": {
    "tags": []
   },
   "outputs": [
    {
     "data": {
      "text/plain": [
       "array([-0.40824829,  0.81649658, -0.40824829])"
      ]
     },
     "execution_count": 53,
     "metadata": {},
     "output_type": "execute_result"
    }
   ],
   "source": [
    "xk/la.norm(xk)"
   ]
  },
  {
   "cell_type": "code",
   "execution_count": 54,
   "id": "4d3a08e6-ded4-4215-afa3-6e2fa54b0514",
   "metadata": {
    "tags": []
   },
   "outputs": [
    {
     "name": "stdout",
     "output_type": "stream",
     "text": [
      "[ 1.  -3.5  2.5]\n",
      "[ 1.         -2.33333333  1.33333333]\n",
      "[ 1.  -2.1  1.1]\n",
      "[ 1.         -2.03225806  1.03225806]\n",
      "[ 1.        -2.0106383  1.0106383]\n",
      "[ 1.         -2.00353357  1.00353357]\n",
      "[ 1.         -2.00117647  1.00117647]\n",
      "[ 1.       -2.000392  1.000392]\n",
      "[ 1.         -2.00013065  1.00013065]\n",
      "[ 1.         -2.00004355  1.00004355]\n",
      "[ 1.         -2.00001452  1.00001452]\n",
      "[ 1.         -2.00000484  1.00000484]\n",
      "[ 1.         -2.00000161  1.00000161]\n",
      "[ 1.         -2.00000054  1.00000054]\n",
      "[ 1.         -2.00000018  1.00000018]\n",
      "[ 1.         -2.00000006  1.00000006]\n",
      "[ 1.         -2.00000002  1.00000002]\n",
      "[ 1.         -2.00000001  1.00000001]\n",
      "[ 1. -2.  1.]\n",
      "[ 1. -2.  1.]\n"
     ]
    }
   ],
   "source": [
    "N = 20\n",
    "xk = x0\n",
    "for k in range(N):\n",
    "    xk = A@xk\n",
    "    xk = xk/xk[0]\n",
    "    print(xk)"
   ]
  },
  {
   "cell_type": "code",
   "execution_count": 56,
   "id": "e8981584-abc6-43f9-89f6-46d995eeae66",
   "metadata": {
    "tags": []
   },
   "outputs": [
    {
     "name": "stdout",
     "output_type": "stream",
     "text": [
      "[-0.28571429  1.         -0.71428571]\n",
      "[-0.42857143  1.         -0.57142857]\n",
      "[-0.47619048  1.         -0.52380952]\n",
      "[-0.49206349  1.         -0.50793651]\n",
      "[-0.4973545  1.        -0.5026455]\n",
      "[-0.49911817  1.         -0.50088183]\n",
      "[-0.49970606  1.         -0.50029394]\n",
      "[-0.49990202  1.         -0.50009798]\n",
      "[-0.49996734  1.         -0.50003266]\n",
      "[-0.49998911  1.         -0.50001089]\n",
      "[-0.49999637  1.         -0.50000363]\n",
      "[-0.49999879  1.         -0.50000121]\n",
      "[-0.4999996  1.        -0.5000004]\n",
      "[-0.49999987  1.         -0.50000013]\n",
      "[-0.49999996  1.         -0.50000004]\n",
      "[-0.49999999  1.         -0.50000001]\n",
      "[-0.5  1.  -0.5]\n",
      "[-0.5  1.  -0.5]\n",
      "[-0.5  1.  -0.5]\n",
      "[-0.5  1.  -0.5]\n"
     ]
    }
   ],
   "source": [
    "N = 20\n",
    "xk = x0\n",
    "for k in range(N):\n",
    "    xk = A@xk\n",
    "    xk = xk/np.max(np.abs(xk))\n",
    "    print(xk)"
   ]
  },
  {
   "cell_type": "code",
   "execution_count": 57,
   "id": "cb0832c7-d8cc-4f42-b5e6-dfefc78fecfd",
   "metadata": {
    "tags": []
   },
   "outputs": [
    {
     "name": "stdout",
     "output_type": "stream",
     "text": [
      "[-0.22645541  0.79259392 -0.56613852]\n",
      "[-0.34874292  0.81373347 -0.46499055]\n",
      "[-0.38866104  0.81618818 -0.42752714]\n",
      "[-0.40175129  0.8164623  -0.41471101]\n",
      "[-0.40608635  0.81649277 -0.41040642]\n",
      "[-0.40752806  0.81649616 -0.40896809]\n",
      "[-0.40800826  0.81649653 -0.40848827]\n",
      "[-0.40816829  0.81649658 -0.40832829]\n",
      "[-0.40822162  0.81649658 -0.40827496]\n",
      "[-0.4082394   0.81649658 -0.40825718]\n",
      "[-0.40824533  0.81649658 -0.40825125]\n",
      "[-0.4082473   0.81649658 -0.40824928]\n",
      "[-0.40824796  0.81649658 -0.40824862]\n",
      "[-0.40824818  0.81649658 -0.4082484 ]\n",
      "[-0.40824825  0.81649658 -0.40824833]\n",
      "[-0.40824828  0.81649658 -0.4082483 ]\n",
      "[-0.40824829  0.81649658 -0.40824829]\n",
      "[-0.40824829  0.81649658 -0.40824829]\n",
      "[-0.40824829  0.81649658 -0.40824829]\n",
      "[-0.40824829  0.81649658 -0.40824829]\n"
     ]
    }
   ],
   "source": [
    "N = 20\n",
    "xk = x0\n",
    "for k in range(N):\n",
    "    xk = A@xk\n",
    "    xk = xk/la.norm(xk)\n",
    "    print(xk)"
   ]
  },
  {
   "cell_type": "code",
   "execution_count": 58,
   "id": "c486c566-05a6-4dbf-b2fd-280d46e0e5cf",
   "metadata": {
    "tags": []
   },
   "outputs": [
    {
     "data": {
      "text/plain": [
       "3.0000000000000004"
      ]
     },
     "execution_count": 58,
     "metadata": {},
     "output_type": "execute_result"
    }
   ],
   "source": [
    "xk@A@xk/(xk@xk)"
   ]
  },
  {
   "cell_type": "code",
   "execution_count": 59,
   "id": "2ff32045-1d59-458e-96ac-db57086b7c26",
   "metadata": {
    "tags": []
   },
   "outputs": [
    {
     "name": "stdout",
     "output_type": "stream",
     "text": [
      "[1.    0.875]\n",
      "[1.         1.04545455]\n",
      "[1.         0.98529412]\n",
      "[1.        1.0049505]\n",
      "[1.         0.99835526]\n",
      "[1.         1.00054885]\n",
      "[1.         0.99981712]\n",
      "[1.         1.00006097]\n",
      "[1.         0.99997968]\n",
      "[1.         1.00000677]\n",
      "[1.         0.99999774]\n",
      "[1.         1.00000075]\n",
      "[1.         0.99999975]\n",
      "[1.         1.00000008]\n",
      "[1.         0.99999997]\n",
      "[1.         1.00000001]\n",
      "[1. 1.]\n",
      "[1. 1.]\n",
      "[1. 1.]\n",
      "[1. 1.]\n"
     ]
    }
   ],
   "source": [
    "A = np.array([[1.,2.],[2.,1.]])\n",
    "N = 20\n",
    "xk = np.array([2.,3.])\n",
    "for k in range(N):\n",
    "    xk = A@xk\n",
    "    xk = xk/xk[0]\n",
    "    print(xk)"
   ]
  }
 ],
 "metadata": {
  "kernelspec": {
   "display_name": "Python 3 (ipykernel)",
   "language": "python",
   "name": "python3"
  },
  "language_info": {
   "codemirror_mode": {
    "name": "ipython",
    "version": 3
   },
   "file_extension": ".py",
   "mimetype": "text/x-python",
   "name": "python",
   "nbconvert_exporter": "python",
   "pygments_lexer": "ipython3",
   "version": "3.10.12"
  }
 },
 "nbformat": 4,
 "nbformat_minor": 5
}
