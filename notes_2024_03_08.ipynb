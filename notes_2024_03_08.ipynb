{
 "cells": [
  {
   "cell_type": "markdown",
   "id": "35433db0-5c42-41db-a118-7af43bdb85c6",
   "metadata": {},
   "source": [
    "# MATH 210 Introduction to Mathematical Computing\n",
    "\n",
    "**March 8, 2024**"
   ]
  },
  {
   "cell_type": "code",
   "execution_count": 22,
   "id": "eb815974-a89f-41f0-8c9e-a63d65aaea2e",
   "metadata": {
    "tags": []
   },
   "outputs": [],
   "source": [
    "import numpy as np\n",
    "import matplotlib.pyplot as plt"
   ]
  },
  {
   "cell_type": "markdown",
   "id": "1e054131-69f0-467c-a1bc-4745fb2c1382",
   "metadata": {},
   "source": [
    "## Heun's Method\n",
    "\n",
    "Consider a first order differential equation $y' = f(t,y),y(t_0)=y_0$. [Heun's method](https://en.wikipedia.org/wiki/Heun%27s_method) (aka. improved Euler's method, trapezoid method, ...) uses the degree 2 Taylor approximation to approximate $y(t)$:\n",
    "\n",
    "\\begin{align*}\n",
    "h &= t_{n+1} - t_n \\\\\n",
    "k_1 &= f(t_n,y_n) \\\\\n",
    "k_2 &= f(t_n + h, y_n + k_1 h) \\\\\n",
    "y_{n+1} &= y_n + \\left( \\frac{k_1 + k_2}{2} \\right) h\n",
    "\\end{align*}"
   ]
  },
  {
   "cell_type": "markdown",
   "id": "697358d4-cdc4-413d-ac89-8468805bd55b",
   "metadata": {},
   "source": [
    "Write a function called `odeHeun` which takes input parameters `f`, `t` and `y0` where:\n",
    "\n",
    "* `f` is a Python function which represents the right hand side of $y' = f(t,y)$\n",
    "* `t` is a vector of $t$ values where the first entry `t[0]` is $t_0$\n",
    "* `y0` is the initial value $y(t_0) = y_0$\n",
    "\n",
    "The function returns the vector of $y$ values given by Heun's method."
   ]
  },
  {
   "cell_type": "code",
   "execution_count": 23,
   "id": "2a387bc2-1f6e-44fc-87ab-fe4b579ded53",
   "metadata": {
    "tags": []
   },
   "outputs": [],
   "source": [
    "def odeHeun(f,t,y0):\n",
    "    y = np.zeros(len(t))\n",
    "    y[0] = y0\n",
    "    for n in range(len(t)-1):\n",
    "        h = t[n+1] - t[n]\n",
    "        k1 = f(t[n],y[n])\n",
    "        k2 = f(t[n + 1],y[n] + k1*h)\n",
    "        y[n + 1] = y[n] + (k1 + k2)/2*h\n",
    "    return y"
   ]
  },
  {
   "cell_type": "code",
   "execution_count": 24,
   "id": "1685d6e1-4fcd-4082-ae2c-1822b7e7de26",
   "metadata": {
    "tags": []
   },
   "outputs": [
    {
     "name": "stdout",
     "output_type": "stream",
     "text": [
      "[1.  2.5]\n"
     ]
    }
   ],
   "source": [
    "f = lambda t,y: y\n",
    "t = np.linspace(0,1,2)\n",
    "y0 = 1\n",
    "y = odeHeun(f,t,y0)\n",
    "print(y) # [1.,2.5]"
   ]
  },
  {
   "cell_type": "code",
   "execution_count": 28,
   "id": "acda045b-0d10-4d72-974e-80bfffe93a17",
   "metadata": {
    "tags": []
   },
   "outputs": [
    {
     "data": {
      "image/png": "[encoded data removed]",
      "text/plain": [
       "<Figure size 640x480 with 1 Axes>"
      ]
     },
     "metadata": {},
     "output_type": "display_data"
    }
   ],
   "source": [
    "f = lambda t,y: -y\n",
    "t0 = 0\n",
    "tf = 5\n",
    "N = 20\n",
    "t = np.linspace(t0,tf,N+1)\n",
    "y0 = 1\n",
    "y = odeHeun(f,t,y0)\n",
    "plt.plot(t,y,'.')\n",
    "t_exact = np.linspace(t0,tf,100)\n",
    "y_exact = np.exp(-t_exact)\n",
    "plt.plot(t_exact,y_exact)\n",
    "plt.show()"
   ]
  }
 ],
 "metadata": {
  "kernelspec": {
   "display_name": "Python 3 (ipykernel)",
   "language": "python",
   "name": "python3"
  },
  "language_info": {
   "codemirror_mode": {
    "name": "ipython",
    "version": 3
   },
   "file_extension": ".py",
   "mimetype": "text/x-python",
   "name": "python",
   "nbconvert_exporter": "python",
   "pygments_lexer": "ipython3",
   "version": "3.10.12"
  }
 },
 "nbformat": 4,
 "nbformat_minor": 5
}
