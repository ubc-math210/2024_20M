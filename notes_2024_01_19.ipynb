{
 "cells": [
  {
   "cell_type": "markdown",
   "id": "7d926dc8-5416-4867-bdb9-243d143cd689",
   "metadata": {},
   "source": [
    "# MATH 210 Introduction to Mathematical Computing\n",
    "\n",
    "**January 19, 2024**\n",
    "\n",
    "* Builtin Functions\n",
    "* Function Construction\n",
    "* Examples"
   ]
  },
  {
   "cell_type": "markdown",
   "id": "b363fbc4-b167-4194-a8d7-d45df5cf5ec8",
   "metadata": {},
   "source": [
    "## Builtin Functions\n",
    "\n",
    "There are several builtin functions in Python:\n",
    "\n",
    "* `sum` : add entries in a sequence\n",
    "* `max` : find the maximum value in a sequence\n",
    "* `min` : find the minimum value in a sequence\n",
    "* `len` : find the length of a sequence\n",
    "\n",
    "Other helpful functions:\n",
    "\n",
    "* `print` : print a value to output\n",
    "* `type` : show the datatype of a value\n",
    "* `list` : convert a sequence to a `list` type\n",
    "* `range` : ceate a range object"
   ]
  },
  {
   "cell_type": "markdown",
   "id": "47a4eca2-8e5f-4d33-8647-d0539ade8fe3",
   "metadata": {},
   "source": [
    "For example, use `sum` and `len` to compute the average value in the sequence $1/n$, $n=1,\\dots,100$."
   ]
  },
  {
   "cell_type": "code",
   "execution_count": 1,
   "id": "99d7083d-3fb7-4ba6-83e9-6de087891cc3",
   "metadata": {},
   "outputs": [
    {
     "name": "stdout",
     "output_type": "stream",
     "text": [
      "0.05187377517639621\n"
     ]
    }
   ],
   "source": [
    "sequence = [1/n for n in range(1,101)]\n",
    "average = sum(sequence)/len(sequence)\n",
    "print(average)"
   ]
  },
  {
   "cell_type": "code",
   "execution_count": 2,
   "id": "b6943799-60b1-4841-b766-a5d5302fdf0f",
   "metadata": {},
   "outputs": [
    {
     "data": {
      "text/plain": [
       "[1.0, 0.5, 0.3333333333333333, 0.25, 0.2]"
      ]
     },
     "execution_count": 2,
     "metadata": {},
     "output_type": "execute_result"
    }
   ],
   "source": [
    "sequence[:5]"
   ]
  },
  {
   "cell_type": "code",
   "execution_count": 3,
   "id": "a41e14be-1aea-456f-a860-4e5a070fba7a",
   "metadata": {},
   "outputs": [
    {
     "data": {
      "text/plain": [
       "[0.010416666666666666,\n",
       " 0.010309278350515464,\n",
       " 0.01020408163265306,\n",
       " 0.010101010101010102,\n",
       " 0.01]"
      ]
     },
     "execution_count": 3,
     "metadata": {},
     "output_type": "execute_result"
    }
   ],
   "source": [
    "sequence[-5:]"
   ]
  },
  {
   "cell_type": "code",
   "execution_count": 4,
   "id": "480ec501-58d5-4788-8fa5-766368799b66",
   "metadata": {},
   "outputs": [
    {
     "data": {
      "text/plain": [
       "0.010101010101010102"
      ]
     },
     "execution_count": 4,
     "metadata": {},
     "output_type": "execute_result"
    }
   ],
   "source": [
    "1/99"
   ]
  },
  {
   "cell_type": "markdown",
   "id": "faf70440-f46e-42ed-8f4a-db085d784e9e",
   "metadata": {},
   "source": [
    "Use the functions `max` and `min` to approximate the maximum and minimum values of the function\n",
    "\n",
    "$$\n",
    "f(x) = \\frac{1 - x + x^4}{1 + 2x^3}\n",
    "$$\n",
    "\n",
    "on the interval $[0,2]$."
   ]
  },
  {
   "cell_type": "code",
   "execution_count": 7,
   "id": "e0a68932-6941-48a1-a970-c256e9dda368",
   "metadata": {},
   "outputs": [
    {
     "name": "stdout",
     "output_type": "stream",
     "text": [
      "1.0\n",
      "0.3006186986859026\n"
     ]
    }
   ],
   "source": [
    "N = 100\n",
    "x = [n/N for n in range(2*N + 1)]\n",
    "y = [(1 - x[k] + x[k]**4)/(1 + 2*x[k]**3) for k in range(2*N + 1)]\n",
    "print(max(y))\n",
    "print(min(y))"
   ]
  },
  {
   "cell_type": "markdown",
   "id": "75e0d514-6eb8-4c52-8efe-ae95a25babb3",
   "metadata": {},
   "source": [
    "## Function Construction\n",
    "\n",
    "A function is an object that takes input and returns output. The syntax to construct a Python function is:\n",
    "\n",
    "```python\n",
    "def fun(a,b,c):\n",
    "    \"Documentation string describing the function\"\n",
    "    # Python code\n",
    "    return value\n",
    "```\n",
    "\n",
    "* keyword `def` starts the function definition\n",
    "* `fun` is the function name\n",
    "* input parameters are listed within parentheses `(a,b,c)`\n",
    "* colon `:` ends the `def` statement\n",
    "* the body of the function is indented 4 spaces\n",
    "* documentation string (or docstring) describes the function\n",
    "* `return` statement returns the output value\n",
    "\n",
    "It's good practice to use a systematic appraoch to writing functions:\n",
    "\n",
    "1. Write a stub\n",
    "2. Write some tests for known input and output values\n",
    "3. Develop the function step by step\n",
    "\n",
    "A stub is the minimum code to make the function run with the input and return the correct type."
   ]
  },
  {
   "cell_type": "markdown",
   "id": "68c27137-9ebe-46eb-a98e-5d8d4b9be97a",
   "metadata": {},
   "source": [
    "Let's write a function called `average` which takes input parameter `x` (a list of numbers) and returns the average value of `x`."
   ]
  },
  {
   "cell_type": "code",
   "execution_count": 8,
   "id": "cefe1ab0-3c7f-434d-bd65-037543e1d71a",
   "metadata": {},
   "outputs": [],
   "source": [
    "def average(x):\n",
    "    \"Compute the average value of a sequence of numbers.\"\n",
    "    value = sum(x)/len(x)\n",
    "    return value"
   ]
  },
  {
   "cell_type": "code",
   "execution_count": 9,
   "id": "65d309a5-a4c1-4e4c-8a73-f2348af98568",
   "metadata": {},
   "outputs": [
    {
     "data": {
      "text/plain": [
       "2.5"
      ]
     },
     "execution_count": 9,
     "metadata": {},
     "output_type": "execute_result"
    }
   ],
   "source": [
    "average([1,2,3,4]) # Result should be 2.5"
   ]
  },
  {
   "cell_type": "code",
   "execution_count": 10,
   "id": "99e4d083-fb2f-45a9-a633-238e989c036a",
   "metadata": {},
   "outputs": [
    {
     "data": {
      "text/plain": [
       "\u001b[0;31mSignature:\u001b[0m \u001b[0maverage\u001b[0m\u001b[0;34m(\u001b[0m\u001b[0mx\u001b[0m\u001b[0;34m)\u001b[0m\u001b[0;34m\u001b[0m\u001b[0;34m\u001b[0m\u001b[0m\n",
       "\u001b[0;31mDocstring:\u001b[0m Compute the average value of a sequence of numbers.\n",
       "\u001b[0;31mFile:\u001b[0m      /tmp/ipykernel_229/1206213889.py\n",
       "\u001b[0;31mType:\u001b[0m      function"
      ]
     },
     "metadata": {},
     "output_type": "display_data"
    }
   ],
   "source": [
    "average?"
   ]
  },
  {
   "cell_type": "markdown",
   "id": "116f9a2b-75eb-4b2e-95d4-cfbedef61d21",
   "metadata": {},
   "source": [
    "## Examples\n",
    "\n",
    "Write a function called `linspace` which takes input parameters `a`, `b` and `N`, and returns the list of length `N` of equally spaced numbers from `a` to `b` (inclusively)."
   ]
  },
  {
   "cell_type": "code",
   "execution_count": 23,
   "id": "81b5126a-aa59-485b-a2ae-e61fa591578f",
   "metadata": {},
   "outputs": [],
   "source": [
    "def linspace(a,b,N):\n",
    "    \"List of N equally space values from a to b (inclusive).\"\n",
    "    dx = (b - a)/(N - 1)\n",
    "    seq = [a + n*dx for n in range(N)]\n",
    "    return seq"
   ]
  },
  {
   "cell_type": "code",
   "execution_count": 24,
   "id": "9a2a5251-b231-446c-8f5c-f4b21b0ad539",
   "metadata": {},
   "outputs": [
    {
     "data": {
      "text/plain": [
       "[0.0, 0.25, 0.5, 0.75, 1.0]"
      ]
     },
     "execution_count": 24,
     "metadata": {},
     "output_type": "execute_result"
    }
   ],
   "source": [
    "linspace(0,1,5) # Return value should be [0.0,0.25,0.5,0.75,1.0]"
   ]
  },
  {
   "cell_type": "code",
   "execution_count": 25,
   "id": "19963888-7d95-4985-a93a-95261ef303f3",
   "metadata": {},
   "outputs": [
    {
     "data": {
      "text/plain": [
       "[-1.0,\n",
       " -0.8,\n",
       " -0.6,\n",
       " -0.3999999999999999,\n",
       " -0.19999999999999996,\n",
       " 0.0,\n",
       " 0.20000000000000018,\n",
       " 0.40000000000000013,\n",
       " 0.6000000000000001,\n",
       " 0.8,\n",
       " 1.0]"
      ]
     },
     "execution_count": 25,
     "metadata": {},
     "output_type": "execute_result"
    }
   ],
   "source": [
    "linspace(-1,1,11) # Return value should be [-1.0,-0.8,...,0.8,1.0]"
   ]
  },
  {
   "cell_type": "markdown",
   "id": "7b2f1b05-cf91-44f5-8133-72c23c723cf3",
   "metadata": {},
   "source": [
    "Note that there is some rounding error in the values. But that's okay."
   ]
  },
  {
   "cell_type": "markdown",
   "id": "f91fbeb2-db75-43f9-bd34-b970fbbf26c6",
   "metadata": {},
   "source": [
    "Use the function `linspace` along with `max` and `min` to find extreme values of\n",
    "\n",
    "$$\n",
    "f(x) = 1  + x - x^3 + x^6\n",
    "$$\n",
    "\n",
    "on the interval $[-1,1]$."
   ]
  },
  {
   "cell_type": "code",
   "execution_count": 26,
   "id": "ed61ca2e-09dd-49a5-a6fb-5eadbb5e94f0",
   "metadata": {},
   "outputs": [],
   "source": [
    "def f(x):\n",
    "    return 1 + x - x**3 + x**6\n",
    "\n",
    "N = 100\n",
    "xvalues = linspace(-1,1,N)\n",
    "yvalues = [f(xvalues[k]) for k in range(N)]"
   ]
  },
  {
   "cell_type": "code",
   "execution_count": 27,
   "id": "bbb96af5-d860-4aa6-9dd3-037947cfa59e",
   "metadata": {},
   "outputs": [
    {
     "data": {
      "text/plain": [
       "2.0"
      ]
     },
     "execution_count": 27,
     "metadata": {},
     "output_type": "execute_result"
    }
   ],
   "source": [
    "max(yvalues)"
   ]
  },
  {
   "cell_type": "code",
   "execution_count": 29,
   "id": "6a68ba03-e92c-4c58-a001-e49d268cb3f8",
   "metadata": {},
   "outputs": [
    {
     "data": {
      "text/plain": [
       "0.6402499774270437"
      ]
     },
     "execution_count": 29,
     "metadata": {},
     "output_type": "execute_result"
    }
   ],
   "source": [
    "min(yvalues)"
   ]
  }
 ],
 "metadata": {
  "kernelspec": {
   "display_name": "Python 3 (ipykernel)",
   "language": "python",
   "name": "python3"
  },
  "language_info": {
   "codemirror_mode": {
    "name": "ipython",
    "version": 3
   },
   "file_extension": ".py",
   "mimetype": "text/x-python",
   "name": "python",
   "nbconvert_exporter": "python",
   "pygments_lexer": "ipython3",
   "version": "3.11.6"
  }
 },
 "nbformat": 4,
 "nbformat_minor": 5
}
