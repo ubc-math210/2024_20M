{
 "cells": [
  {
   "cell_type": "markdown",
   "id": "f9b241ec-f8b0-4922-97e1-12dcd50bb775",
   "metadata": {},
   "source": [
    "# MATH 210 Introduction to Mathematical Computing\n",
    "\n",
    "**January 22, 2024**\n",
    "\n",
    "* Examples\n",
    "* Lambda functions\n",
    "* Polynomials"
   ]
  },
  {
   "cell_type": "markdown",
   "id": "786f1230-d2da-43ef-96c2-e08532e14b3a",
   "metadata": {},
   "source": [
    "## Examples\n",
    "\n",
    "Write a function called `norm` which takes input parameter `x` (list of numbers representing a vector) and returns the norm of the vector `x`.\n",
    "\n",
    "$$\n",
    "\\| \\mathbf{x} \\| = \\sqrt{ \\sum_{k=0}^{N-1} x_k^2 }\n",
    "$$\n",
    "\n",
    "where $\\mathbf{x} = (x_0,\\dots,x_{N-1})$."
   ]
  },
  {
   "cell_type": "code",
   "execution_count": 1,
   "id": "f4ec929e-5856-4957-8c5f-51c861f657fb",
   "metadata": {},
   "outputs": [],
   "source": [
    "def norm(x):\n",
    "    terms = [xk**2 for xk in x]\n",
    "    #terms = [x[k]**2 for k in range(len(x))]\n",
    "    value = sum(terms)**0.5\n",
    "    return value"
   ]
  },
  {
   "cell_type": "code",
   "execution_count": 2,
   "id": "fa2bad66-cb80-4d86-adc0-1291e2d365bd",
   "metadata": {},
   "outputs": [
    {
     "data": {
      "text/plain": [
       "2.23606797749979"
      ]
     },
     "execution_count": 2,
     "metadata": {},
     "output_type": "execute_result"
    }
   ],
   "source": [
    "norm([1,2]) # Function should return 5**0.5 = 2.23606797749979"
   ]
  },
  {
   "cell_type": "code",
   "execution_count": 3,
   "id": "f356fe5e-65b4-4358-ac75-bdef32c03a05",
   "metadata": {},
   "outputs": [
    {
     "data": {
      "text/plain": [
       "5.0"
      ]
     },
     "execution_count": 3,
     "metadata": {},
     "output_type": "execute_result"
    }
   ],
   "source": [
    "norm([3,4]) # Function should return 5.0"
   ]
  },
  {
   "cell_type": "code",
   "execution_count": 4,
   "id": "f6492ab4-6d2b-47a1-92c3-0fd7b260db60",
   "metadata": {},
   "outputs": [
    {
     "data": {
      "text/plain": [
       "2.0"
      ]
     },
     "execution_count": 4,
     "metadata": {},
     "output_type": "execute_result"
    }
   ],
   "source": [
    "norm([1,-1,1,-1]) # Function should return 2.0"
   ]
  },
  {
   "cell_type": "markdown",
   "id": "8260e0d6-2821-4ef8-a39b-13dc52641cda",
   "metadata": {},
   "source": [
    "## Lambda Functions\n",
    "\n",
    "Some functons are short and simple. The `lambda` keyword allows us to write a function in a single line. And also it allows us to define \"anonymous\" functions within other expressions but we won't worry about that for now."
   ]
  },
  {
   "cell_type": "markdown",
   "id": "ac8b04ca-1f7d-4cd3-88cf-5262209e1624",
   "metadata": {},
   "source": [
    "The syntax is:\n",
    "\n",
    "```python\n",
    "fun = lambda a,b,c: a**2 + b**2 + c**2\n",
    "```\n",
    "\n",
    "where:\n",
    "\n",
    "* `fun` is the function name\n",
    "* `lambda` is the keyword that starts the definition\n",
    "* list the input parameters separated by commas `,`\n",
    "* colon ends the parameter list and starts the expression for the function"
   ]
  },
  {
   "cell_type": "code",
   "execution_count": 5,
   "id": "82764bcd-9520-4b6b-abd0-6a839dc50c85",
   "metadata": {},
   "outputs": [],
   "source": [
    "average = lambda x: sum(x)/len(x)"
   ]
  },
  {
   "cell_type": "code",
   "execution_count": 6,
   "id": "07fc791c-e218-4452-a30f-3b2883e0a221",
   "metadata": {},
   "outputs": [
    {
     "data": {
      "text/plain": [
       "4.2"
      ]
     },
     "execution_count": 6,
     "metadata": {},
     "output_type": "execute_result"
    }
   ],
   "source": [
    "average([-3,2,7,5,10])"
   ]
  },
  {
   "cell_type": "code",
   "execution_count": 8,
   "id": "8c7af489-8695-43ba-aeab-555f8382f503",
   "metadata": {},
   "outputs": [
    {
     "data": {
      "text/plain": [
       "4.2"
      ]
     },
     "execution_count": 8,
     "metadata": {},
     "output_type": "execute_result"
    }
   ],
   "source": [
    "(-3 + 2 + 7 + 5 + 10)/5"
   ]
  },
  {
   "cell_type": "markdown",
   "id": "6b146931-e95a-4a12-84e7-d7ab325696c7",
   "metadata": {},
   "source": [
    "## Taylor Series\n",
    "\n",
    "Write a function called `arctan_taylor` which takes input parameters `x` and `N` and returns the Taylor polynomial of degree `N` of `arctan` evaluated at `x`.\n",
    "\n",
    "$$\n",
    "\\sum_{k=0}^{N} (-1)^k \\frac{x^{2k+1}}{2k+1}\n",
    "$$"
   ]
  },
  {
   "cell_type": "code",
   "execution_count": 15,
   "id": "2ea0d38f-5f34-4cda-b9ab-f01030b4ce79",
   "metadata": {},
   "outputs": [],
   "source": [
    "def arctan_taylor(x,N):\n",
    "    terms = [(-1)**k*x**(2*k + 1)/(2*k + 1) for k in range(N+1)]\n",
    "    value = sum(terms)\n",
    "    return value"
   ]
  },
  {
   "cell_type": "code",
   "execution_count": 16,
   "id": "0a5be21d-8c98-4ef9-8838-833c8ab21437",
   "metadata": {},
   "outputs": [
    {
     "name": "stdout",
     "output_type": "stream",
     "text": [
      "0.8666666666666667\n",
      "0.8666666666666667\n"
     ]
    }
   ],
   "source": [
    "print(arctan_taylor(1,2)) # Function should 1 - 1/3 + 1/5\n",
    "print(1 - 1/3 + 1/5)"
   ]
  },
  {
   "cell_type": "code",
   "execution_count": 17,
   "id": "e50e85cd-5fe6-4a6f-9f65-2e48e0e37e7f",
   "metadata": {},
   "outputs": [
    {
     "name": "stdout",
     "output_type": "stream",
     "text": [
      "-0.4645833333333333\n",
      "-0.4645833333333333\n"
     ]
    }
   ],
   "source": [
    "print(arctan_taylor(-1/2,2)) # Function should (-1/2) - (-1/2)/3 + (-1/2)/5\n",
    "print((-1/2) - (-1/2)**3/3 + (-1/2)**5/5)"
   ]
  },
  {
   "cell_type": "code",
   "execution_count": 18,
   "id": "dbdf1c30-de8f-49f3-bced-a444efdb6041",
   "metadata": {},
   "outputs": [
    {
     "name": "stdout",
     "output_type": "stream",
     "text": [
      "0.5235987755982989\n",
      "0.5235987755833333\n"
     ]
    }
   ],
   "source": [
    "print(arctan_taylor(1/3**0.5,1000)) # x = 1/sqrt(3) the function should return a value close to pi/6\n",
    "print(3.1415926535/6)"
   ]
  },
  {
   "cell_type": "markdown",
   "id": "d3deb510-5923-4b74-a583-d57272e25d16",
   "metadata": {},
   "source": [
    "## Polynomials\n",
    "\n",
    "A polynomial of degree (at most) $d$ is of the form\n",
    "\n",
    "$$\n",
    "p(x) = c_0 + c_1 x + \\cdots + c_d x^d\n",
    "$$"
   ]
  },
  {
   "cell_type": "markdown",
   "id": "98c0b10b-e892-4197-8ab1-bf54ea48b853",
   "metadata": {},
   "source": [
    "Represent a polynomial of degree (at most) $d$ as a list of coefficients `[c0,c1,...,cd]`."
   ]
  },
  {
   "cell_type": "markdown",
   "id": "7ccf58d2-d9e7-43ef-93f5-ca669a68176d",
   "metadata": {},
   "source": [
    "Write a function called `poly_eval` which takes input parameters `p` (list of numbers representing a polynomial $p(x)$ as above) and `a`, and returns the value $p(a)$."
   ]
  },
  {
   "cell_type": "code",
   "execution_count": 19,
   "id": "0d2e80c7-b4fa-4c63-8619-4b4465a48a46",
   "metadata": {},
   "outputs": [],
   "source": [
    "def poly_eval(p,a):\n",
    "    # p(a) = c0 + c1*a + c2*a**2 + ... + cd*a**d\n",
    "    # p(a) = sum([ck*a**k for ck in p])\n",
    "    # p(a) = sum([c[k]*a**k for k in range()])\n",
    "    return 0.0"
   ]
  },
  {
   "cell_type": "code",
   "execution_count": 20,
   "id": "d77a51b9-be87-4024-abec-5cf2b6e16e39",
   "metadata": {},
   "outputs": [
    {
     "data": {
      "text/plain": [
       "0.0"
      ]
     },
     "execution_count": 20,
     "metadata": {},
     "output_type": "execute_result"
    }
   ],
   "source": [
    "poly_eval([1,0,1],-2) # Function should return 1*(-2)**0 + 0*(-2)**1 + (-2)**2 = 5  "
   ]
  },
  {
   "cell_type": "code",
   "execution_count": 21,
   "id": "a5087930-c6e8-4d0f-be38-95020433210b",
   "metadata": {},
   "outputs": [
    {
     "data": {
      "text/plain": [
       "0.0"
      ]
     },
     "execution_count": 21,
     "metadata": {},
     "output_type": "execute_result"
    }
   ],
   "source": [
    "poly_eval([0,2,0,1],4) # Function should return 2(4) + (4)**3 = 72"
   ]
  },
  {
   "cell_type": "code",
   "execution_count": 22,
   "id": "b86f9347-7d10-4d25-8853-d3d5f1a24e04",
   "metadata": {},
   "outputs": [
    {
     "data": {
      "text/plain": [
       "0.0"
      ]
     },
     "execution_count": 22,
     "metadata": {},
     "output_type": "execute_result"
    }
   ],
   "source": [
    "poly_eval([1,-1,1,-1,1,-1],2) # Function should return 1 - 2 + 2**2 - 2**3 + 2**4 - 2**5 = -21"
   ]
  }
 ],
 "metadata": {
  "kernelspec": {
   "display_name": "Python 3 (ipykernel)",
   "language": "python",
   "name": "python3"
  },
  "language_info": {
   "codemirror_mode": {
    "name": "ipython",
    "version": 3
   },
   "file_extension": ".py",
   "mimetype": "text/x-python",
   "name": "python",
   "nbconvert_exporter": "python",
   "pygments_lexer": "ipython3",
   "version": "3.11.6"
  }
 },
 "nbformat": 4,
 "nbformat_minor": 5
}
