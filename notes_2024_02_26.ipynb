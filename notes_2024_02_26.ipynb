{
 "cells": [
  {
   "cell_type": "markdown",
   "id": "9d034d98-30dc-478b-a962-49e2117f5ab3",
   "metadata": {},
   "source": [
    "# MATH 210 Introduciton to Mathematical Computing\n",
    "\n",
    "**February 26, 2024**"
   ]
  },
  {
   "cell_type": "code",
   "execution_count": 1,
   "id": "7d811b0f-2430-48b9-b835-3b7f4aff8686",
   "metadata": {},
   "outputs": [],
   "source": [
    "import numpy as np\n",
    "import matplotlib.pyplot as plt"
   ]
  },
  {
   "cell_type": "markdown",
   "id": "ca879b57-f77f-4202-bcb4-4d0dc5d42fee",
   "metadata": {},
   "source": [
    "## Riemann Sums\n",
    "\n",
    "$$\n",
    "L_N(f) = \\sum_{k=1}^{N} f(x_{k-1}) \\Delta x \\ , \\ \\ \\Delta x = \\frac{b - a}{N}\n",
    "$$\n",
    "\n",
    "$x_k = a + k \\Delta x$, $k=1,\\dots,N$."
   ]
  },
  {
   "cell_type": "markdown",
   "id": "698b1b6e-6227-49c7-bfe2-abb45b81816e",
   "metadata": {},
   "source": [
    "Compute the left Riemann sum for $\\int_0^1 \\sin(\\pi x) dx$ with partition of length $N$ (of equally spaced points). The exact value is $2/\\pi$."
   ]
  },
  {
   "cell_type": "code",
   "execution_count": 2,
   "id": "2d7bb575-126c-4730-8488-0803797a5410",
   "metadata": {},
   "outputs": [
    {
     "name": "stdout",
     "output_type": "stream",
     "text": [
      "0.6365674116287159\n"
     ]
    }
   ],
   "source": [
    "f = lambda x: np.sin(np.pi*x)\n",
    "a = 0\n",
    "b = 1\n",
    "N = 100\n",
    "dx = (b - a)/N\n",
    "x = np.linspace(a,b,N+1)\n",
    "y = f(x)\n",
    "\n",
    "L = np.sum(y[:-1])*dx\n",
    "\n",
    "print(L)"
   ]
  },
  {
   "cell_type": "code",
   "execution_count": 3,
   "id": "f6fd1de9-7c19-476e-893c-687295ab6fd5",
   "metadata": {},
   "outputs": [
    {
     "data": {
      "text/plain": [
       "0.6366197723675814"
      ]
     },
     "execution_count": 3,
     "metadata": {},
     "output_type": "execute_result"
    }
   ],
   "source": [
    "2/np.pi"
   ]
  },
  {
   "cell_type": "code",
   "execution_count": 4,
   "id": "d8cba6cf-cc7f-47c8-aad2-c03b35b87716",
   "metadata": {},
   "outputs": [],
   "source": [
    "def riemannL(f,a,b,N):\n",
    "    dx = (b - a)/N\n",
    "    x = np.linspace(a,b,N+1)\n",
    "    y = f(x)\n",
    "    rsum = np.sum(y[:-1])*dx\n",
    "    return rsum"
   ]
  },
  {
   "cell_type": "code",
   "execution_count": 5,
   "id": "0ed14b38-8374-4d12-967a-e1efaedf49e6",
   "metadata": {},
   "outputs": [
    {
     "data": {
      "text/plain": [
       "0.6365674116287159"
      ]
     },
     "execution_count": 5,
     "metadata": {},
     "output_type": "execute_result"
    }
   ],
   "source": [
    "riemannL(lambda x: np.sin(np.pi*x),0,1,100)"
   ]
  },
  {
   "cell_type": "code",
   "execution_count": 6,
   "id": "9e100def-0a6a-4d9d-9f19-9f075e104572",
   "metadata": {},
   "outputs": [],
   "source": [
    "def riemannR(f,a,b,N):\n",
    "    dx = (b - a)/N\n",
    "    x = np.linspace(a,b,N+1)\n",
    "    y = f(x)\n",
    "    rsum = np.sum(y[1:])*dx\n",
    "    return rsum"
   ]
  },
  {
   "cell_type": "code",
   "execution_count": 8,
   "id": "df4a49c1-8a61-439c-9ad9-36e9ebe4cf5f",
   "metadata": {},
   "outputs": [
    {
     "data": {
      "text/plain": [
       "0.6365674116287159"
      ]
     },
     "execution_count": 8,
     "metadata": {},
     "output_type": "execute_result"
    }
   ],
   "source": [
    "riemannR(lambda x: np.sin(np.pi*x),0,1,100)"
   ]
  }
 ],
 "metadata": {
  "kernelspec": {
   "display_name": "Python 3 (ipykernel)",
   "language": "python",
   "name": "python3"
  },
  "language_info": {
   "codemirror_mode": {
    "name": "ipython",
    "version": 3
   },
   "file_extension": ".py",
   "mimetype": "text/x-python",
   "name": "python",
   "nbconvert_exporter": "python",
   "pygments_lexer": "ipython3",
   "version": "3.11.6"
  }
 },
 "nbformat": 4,
 "nbformat_minor": 5
}
