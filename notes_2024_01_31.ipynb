{
 "cells": [
  {
   "cell_type": "markdown",
   "id": "3316e1d9-ddbd-40c3-9e58-f62ba5e48830",
   "metadata": {},
   "source": [
    "# MATH 210 Introduction to Mathematical Computing\n",
    "\n",
    "**January 31, 2024**"
   ]
  },
  {
   "cell_type": "markdown",
   "id": "41823bb0-f1d2-4a3e-b991-c70f4783d0b9",
   "metadata": {},
   "source": [
    "## Newton's Method\n",
    "\n",
    "Let $f(x)$ be a differentiable function. Newton's methoda applied $f(x)$ with initial value $x_0$ is given by the recursive formula:\n",
    "\n",
    "$$\n",
    "x_{n+1} = x_n - \\frac{f(x_n)}{f'(x_n)}\n",
    "$$\n",
    "\n",
    "The hope is that $x_n \\to r$ where $r$ is a root of $f(x)$ near $x_0$."
   ]
  },
  {
   "cell_type": "markdown",
   "id": "13e55bd5-a56f-4a13-80c2-b6dec2747975",
   "metadata": {},
   "source": [
    "## Example 1\n",
    "\n",
    "Let's write Python code to approximate solutions of $x^2 - a = 0$ ($a>0$).\n",
    "\n",
    "$$\n",
    "x_{n+1} = x_n - \\frac{x_n^2 - a}{2x_n}\n",
    "$$\n",
    "\n",
    "Let's use the value $x_0 = a$ as the intial value. The sequence should converge to $\\sqrt{a}$."
   ]
  },
  {
   "cell_type": "code",
   "execution_count": 16,
   "id": "254d2424-6631-4ec9-b9fd-8fdf907f85e8",
   "metadata": {
    "tags": []
   },
   "outputs": [
    {
     "name": "stdout",
     "output_type": "stream",
     "text": [
      "1.4142135623730951\n"
     ]
    }
   ],
   "source": [
    "a = 2\n",
    "N = 5\n",
    "x = [0 for n in range(N+1)]\n",
    "x[0] = a\n",
    "for n in range(N):\n",
    "    x[n+1] = x[n] - (x[n]**2 - a)/(2*x[n])\n",
    "print(x[-1])"
   ]
  },
  {
   "cell_type": "markdown",
   "id": "4b38e755-9173-4b32-9940-44e507dbb8f5",
   "metadata": {},
   "source": [
    "We could do a different construction using concatenation `+` instead:"
   ]
  },
  {
   "cell_type": "code",
   "execution_count": 21,
   "id": "e5a4fa10-38a7-4643-9850-944ef2d534b7",
   "metadata": {
    "tags": []
   },
   "outputs": [
    {
     "data": {
      "text/plain": [
       "[1, 2, 3, 4, 5, 6]"
      ]
     },
     "execution_count": 21,
     "metadata": {},
     "output_type": "execute_result"
    }
   ],
   "source": [
    "[1,2,3] + [4,5,6]"
   ]
  },
  {
   "cell_type": "code",
   "execution_count": 22,
   "id": "a7b193c5-ca89-4d7b-91fa-c40cbef31093",
   "metadata": {
    "tags": []
   },
   "outputs": [
    {
     "name": "stdout",
     "output_type": "stream",
     "text": [
      "1.4142135623730951\n"
     ]
    }
   ],
   "source": [
    "a = 2\n",
    "N = 5\n",
    "x = [a]\n",
    "for n in range(N):\n",
    "    x = x + [x[n] - (x[n]**2 - a)/(2*x[n])]\n",
    "print(x[-1])"
   ]
  },
  {
   "cell_type": "markdown",
   "id": "5e042044-dd8d-49a0-a830-c9c91c2ad5b5",
   "metadata": {},
   "source": [
    "Or use the `append` method."
   ]
  },
  {
   "cell_type": "code",
   "execution_count": 23,
   "id": "d2659deb-3765-483b-86d7-d35b383d9c38",
   "metadata": {
    "tags": []
   },
   "outputs": [
    {
     "name": "stdout",
     "output_type": "stream",
     "text": [
      "1.4142135623730951\n"
     ]
    }
   ],
   "source": [
    "a = 2\n",
    "N = 5\n",
    "x = [a]\n",
    "for n in range(N):\n",
    "    x.append(x[n] - (x[n]**2 - a)/(2*x[n]))\n",
    "print(x[-1])"
   ]
  },
  {
   "cell_type": "markdown",
   "id": "33379987-4214-4c23-b867-226db5e3a05d",
   "metadata": {},
   "source": [
    "## Example 2\n",
    "\n",
    "Let $f(x) = x^5 + x + 1$. Let's write Python code to approximate solutions of $x^5 + x + 1 = 0$. Note that $f(-1) < 0$ and $f(0) > 0$ therefore there exists a root in the interval $[-1,0]$. Also $f'(x) = 5x^4 + 1 > 0$ for all $x$ therefore $f(x)$ is always increasing and so crosses the $x$-axis at most once."
   ]
  },
  {
   "cell_type": "code",
   "execution_count": 24,
   "id": "2a02fece-b9d5-4e82-aadd-6d0680262afd",
   "metadata": {
    "tags": []
   },
   "outputs": [
    {
     "name": "stdout",
     "output_type": "stream",
     "text": [
      "-0.7548776662466927\n"
     ]
    }
   ],
   "source": [
    "x0 = -1/2\n",
    "N = 8\n",
    "x = [x0]\n",
    "for n in range(N):\n",
    "    x.append(x[n] - (x[n]**5 + x[n] + 1)/(5*x[n]**4 + 1))\n",
    "print(x[-1])"
   ]
  },
  {
   "cell_type": "markdown",
   "id": "0232cd10-41c5-4512-ac25-87ba333c5932",
   "metadata": {},
   "source": [
    "We don't need the whole list of numbers. We can just initialize and update the value `xn`."
   ]
  },
  {
   "cell_type": "code",
   "execution_count": 25,
   "id": "cb99f714-412a-4d15-9619-f55c0399db2c",
   "metadata": {
    "tags": []
   },
   "outputs": [
    {
     "name": "stdout",
     "output_type": "stream",
     "text": [
      "-0.7548776662466927\n"
     ]
    }
   ],
   "source": [
    "xn = -1/2\n",
    "N = 8\n",
    "for n in range(N):\n",
    "    xn = xn - (xn**5 + xn + 1)/(5*xn**4 + 1)\n",
    "print(xn)"
   ]
  }
 ],
 "metadata": {
  "kernelspec": {
   "display_name": "Python 3 (ipykernel)",
   "language": "python",
   "name": "python3"
  },
  "language_info": {
   "codemirror_mode": {
    "name": "ipython",
    "version": 3
   },
   "file_extension": ".py",
   "mimetype": "text/x-python",
   "name": "python",
   "nbconvert_exporter": "python",
   "pygments_lexer": "ipython3",
   "version": "3.10.12"
  }
 },
 "nbformat": 4,
 "nbformat_minor": 5
}
