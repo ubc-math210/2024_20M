{
 "cells": [
  {
   "cell_type": "markdown",
   "id": "612f3caf-c89e-424f-a89f-4e1cb8580218",
   "metadata": {},
   "source": [
    "# MATH 210 Introduction to Mathematical Computing\n",
    "\n",
    "**April 8, 2024**"
   ]
  },
  {
   "cell_type": "code",
   "execution_count": 1,
   "id": "f57e6633-5bfb-4436-a6f1-a913b3663447",
   "metadata": {
    "tags": []
   },
   "outputs": [],
   "source": [
    "import numpy as np\n",
    "import matplotlib.pyplot as plt\n",
    "import scipy.linalg as la"
   ]
  },
  {
   "cell_type": "markdown",
   "id": "5f6046e8-06fe-4cac-927e-b13751d0b1fe",
   "metadata": {
    "tags": []
   },
   "source": [
    "## Eigenvalues and Eigenvectors"
   ]
  },
  {
   "cell_type": "code",
   "execution_count": 2,
   "id": "21f12609-5153-4685-9106-fe4bbaf04247",
   "metadata": {
    "tags": []
   },
   "outputs": [
    {
     "data": {
      "text/plain": [
       "array([[1., 2.],\n",
       "       [2., 1.]])"
      ]
     },
     "execution_count": 2,
     "metadata": {},
     "output_type": "execute_result"
    }
   ],
   "source": [
    "A = np.array([[1.,2.],[2.,1.]])\n",
    "A"
   ]
  },
  {
   "cell_type": "markdown",
   "id": "75bdfceb-a812-4fee-808b-7c77655a454e",
   "metadata": {},
   "source": [
    "The function `la.eig` returns a tuple."
   ]
  },
  {
   "cell_type": "code",
   "execution_count": 3,
   "id": "ca4fc874-a660-4824-8227-ce8d03538b2a",
   "metadata": {
    "tags": []
   },
   "outputs": [],
   "source": [
    "result = la.eig(A)"
   ]
  },
  {
   "cell_type": "code",
   "execution_count": 4,
   "id": "5ed16f2f-66f5-49e0-b58f-684fd018ddc6",
   "metadata": {
    "tags": []
   },
   "outputs": [
    {
     "data": {
      "text/plain": [
       "tuple"
      ]
     },
     "execution_count": 4,
     "metadata": {},
     "output_type": "execute_result"
    }
   ],
   "source": [
    "type(result)"
   ]
  },
  {
   "cell_type": "markdown",
   "id": "1dd5b385-d83a-445c-8b5c-bf7d5d58e44c",
   "metadata": {},
   "source": [
    "The first entry is the array of eigenvalues."
   ]
  },
  {
   "cell_type": "code",
   "execution_count": 5,
   "id": "61e2ebf8-d959-421d-9aee-56a793a0e013",
   "metadata": {
    "tags": []
   },
   "outputs": [
    {
     "data": {
      "text/plain": [
       "array([ 3.+0.j, -1.+0.j])"
      ]
     },
     "execution_count": 5,
     "metadata": {},
     "output_type": "execute_result"
    }
   ],
   "source": [
    "result[0]"
   ]
  },
  {
   "cell_type": "markdown",
   "id": "ec3cabe9-9578-41fd-abf2-8473679135f6",
   "metadata": {},
   "source": [
    "The second entry is the matrix of eigenvectors."
   ]
  },
  {
   "cell_type": "code",
   "execution_count": 6,
   "id": "5cc0205b-8f57-4b2e-9ddc-b43c762e9bde",
   "metadata": {
    "tags": []
   },
   "outputs": [
    {
     "data": {
      "text/plain": [
       "array([[ 0.70710678, -0.70710678],\n",
       "       [ 0.70710678,  0.70710678]])"
      ]
     },
     "execution_count": 6,
     "metadata": {},
     "output_type": "execute_result"
    }
   ],
   "source": [
    "result[1]"
   ]
  },
  {
   "cell_type": "markdown",
   "id": "1d6936b7-da86-42c9-a282-8649ea18bfee",
   "metadata": {},
   "source": [
    "We can unpack the arrays directly from `la.eig`:"
   ]
  },
  {
   "cell_type": "code",
   "execution_count": 7,
   "id": "0b8dda6b-c706-4f62-9edb-e0e62bfd29da",
   "metadata": {
    "tags": []
   },
   "outputs": [],
   "source": [
    "evals,evecs = la.eig(A)"
   ]
  },
  {
   "cell_type": "markdown",
   "id": "540919bd-23e7-4a21-9dba-8a0da824f5c6",
   "metadata": {},
   "source": [
    "The function `la.eig` always returns the array of eigenvalues as complex numbers."
   ]
  },
  {
   "cell_type": "code",
   "execution_count": 8,
   "id": "7e989252-4aa9-4567-b2ad-c7f953a8f5bb",
   "metadata": {
    "tags": []
   },
   "outputs": [
    {
     "data": {
      "text/plain": [
       "array([ 3.+0.j, -1.+0.j])"
      ]
     },
     "execution_count": 8,
     "metadata": {},
     "output_type": "execute_result"
    }
   ],
   "source": [
    "evals"
   ]
  },
  {
   "cell_type": "markdown",
   "id": "3559aee6-c81a-4d00-93d7-934105c004b5",
   "metadata": {},
   "source": [
    "If we know the eigenvalues are real (ie. when $A$ is symmetric) then use `np.real` to get the real part."
   ]
  },
  {
   "cell_type": "code",
   "execution_count": 9,
   "id": "2dec0811-8729-42c8-ac57-3bc14f8a5d39",
   "metadata": {
    "tags": []
   },
   "outputs": [
    {
     "data": {
      "text/plain": [
       "array([ 3., -1.])"
      ]
     },
     "execution_count": 9,
     "metadata": {},
     "output_type": "execute_result"
    }
   ],
   "source": [
    "evals = np.real(evals)\n",
    "evals"
   ]
  },
  {
   "cell_type": "markdown",
   "id": "9dcf0209-e54a-4814-9d9d-77ee7dddf32b",
   "metadata": {},
   "source": [
    "The function `la.eig` always returns the array of eigenvectors `evecs` as **unit** vectors with eigenvector $\\mathbf{v}_i$ in column $i$ for eigenvalue $\\lambda_i$ in `evals`."
   ]
  },
  {
   "cell_type": "code",
   "execution_count": 10,
   "id": "2532af49-d388-454b-886c-9d1379676324",
   "metadata": {
    "tags": []
   },
   "outputs": [
    {
     "data": {
      "text/plain": [
       "array([[ 0.70710678, -0.70710678],\n",
       "       [ 0.70710678,  0.70710678]])"
      ]
     },
     "execution_count": 10,
     "metadata": {},
     "output_type": "execute_result"
    }
   ],
   "source": [
    "evecs"
   ]
  },
  {
   "cell_type": "code",
   "execution_count": 11,
   "id": "6927207a-e7a5-42b5-985f-2d762060e092",
   "metadata": {
    "tags": []
   },
   "outputs": [
    {
     "data": {
      "text/plain": [
       "array([[ 1., -1.,  0.],\n",
       "       [-1.,  2., -1.],\n",
       "       [ 0., -1.,  1.]])"
      ]
     },
     "execution_count": 11,
     "metadata": {},
     "output_type": "execute_result"
    }
   ],
   "source": [
    "A = np.array([[1.,-1.,0.],[-1.,2.,-1],[0.,-1.,1.]])\n",
    "A"
   ]
  },
  {
   "cell_type": "code",
   "execution_count": 12,
   "id": "ca23449f-9ce3-42ab-9d7e-bf20a424595e",
   "metadata": {
    "tags": []
   },
   "outputs": [],
   "source": [
    "evals,evecs = la.eig(A)"
   ]
  },
  {
   "cell_type": "code",
   "execution_count": 13,
   "id": "d1bf4662-7d43-471c-bc0f-e09545e857d3",
   "metadata": {
    "tags": []
   },
   "outputs": [
    {
     "data": {
      "text/plain": [
       "array([ 3.,  1., -0.])"
      ]
     },
     "execution_count": 13,
     "metadata": {},
     "output_type": "execute_result"
    }
   ],
   "source": [
    "evals.real.round(15)"
   ]
  },
  {
   "cell_type": "code",
   "execution_count": 14,
   "id": "9dc67972-e3be-4948-b7b6-0d74400dd3cc",
   "metadata": {
    "tags": []
   },
   "outputs": [
    {
     "data": {
      "text/plain": [
       "array([ 3.,  1., -0.])"
      ]
     },
     "execution_count": 14,
     "metadata": {},
     "output_type": "execute_result"
    }
   ],
   "source": [
    "np.round(np.real(evals),15)"
   ]
  },
  {
   "cell_type": "code",
   "execution_count": 15,
   "id": "dde57d1e-869b-4ccd-ab3a-49da5296f93b",
   "metadata": {
    "tags": []
   },
   "outputs": [
    {
     "data": {
      "text/plain": [
       "array([[-4.08248290e-01, -7.07106781e-01,  5.77350269e-01],\n",
       "       [ 8.16496581e-01,  2.48915666e-16,  5.77350269e-01],\n",
       "       [-4.08248290e-01,  7.07106781e-01,  5.77350269e-01]])"
      ]
     },
     "execution_count": 15,
     "metadata": {},
     "output_type": "execute_result"
    }
   ],
   "source": [
    "evecs"
   ]
  }
 ],
 "metadata": {
  "kernelspec": {
   "display_name": "Python 3 (ipykernel)",
   "language": "python",
   "name": "python3"
  },
  "language_info": {
   "codemirror_mode": {
    "name": "ipython",
    "version": 3
   },
   "file_extension": ".py",
   "mimetype": "text/x-python",
   "name": "python",
   "nbconvert_exporter": "python",
   "pygments_lexer": "ipython3",
   "version": "3.10.12"
  }
 },
 "nbformat": 4,
 "nbformat_minor": 5
}
