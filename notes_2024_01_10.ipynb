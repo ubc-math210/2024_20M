{
 "cells": [
  {
   "cell_type": "markdown",
   "id": "d790945a-6977-491b-9a73-36c0741b3b45",
   "metadata": {},
   "source": [
    "# MATH 210 Introduction to Mathematical Computing\n",
    "\n",
    "**January 10, 2024**\n",
    "\n",
    "* LaTeX\n",
    "* Greek letters\n",
    "* Calculus symbols\n",
    "* Linear algebra symbols\n",
    "* Documentation and apps"
   ]
  },
  {
   "cell_type": "markdown",
   "id": "ce2ea495-d465-468a-8e8d-946504ce5a84",
   "metadata": {},
   "source": [
    "## LaTeX\n",
    "\n",
    "We write math symbols inline with LaTeX syntax with dollar signs `$ ... $`. For example, $f(x) = x^2 \\cos(x)$. Use double dollar signs for display mode (ie. show symbols in its own paragraph).\n",
    "\n",
    "$$\n",
    "\\int_a^b f(x) dx = F(b) - F(a)\n",
    "$$"
   ]
  },
  {
   "cell_type": "markdown",
   "id": "79a6fab9-a9ad-49b1-a684-10f431c2a50a",
   "metadata": {},
   "source": [
    "## Greek letters\n",
    "\n",
    "$\\alpha$, $\\beta$, $\\gamma$, $\\delta$, $\\epsilon$, $\\phi$, $\\varphi$, $\\omega$, $\\Omega$"
   ]
  },
  {
   "cell_type": "markdown",
   "id": "9c0838c6-5b46-4081-bfd8-68d222fdfc41",
   "metadata": {},
   "source": [
    "## Calculus Symbols\n",
    "\n",
    "$$\n",
    "f'(a) = \\lim_{x \\to a} \\frac{f(x) - f(a)}{x - a}\n",
    "$$\n",
    "\n",
    "$$\n",
    "\\int x \\cos(x^2) dx = \\frac{\\sin(x^2)}{2} + C\n",
    "$$\n",
    "\n",
    "$$\n",
    "\\int_a^b f(x)dx = \\lim_{N \\to \\infty} \\sum_{n=1}^N f(x_n^*) \\Delta x\n",
    "$$"
   ]
  },
  {
   "cell_type": "markdown",
   "id": "a5e4c5f7-f877-425d-a4e5-89445e4fdc22",
   "metadata": {},
   "source": [
    "## Linear Algebra Symbols\n",
    "\n",
    "$$\n",
    "\\det \\begin{bmatrix} a & b \\\\ c & d \\end{bmatrix} = ad - bc\n",
    "$$"
   ]
  },
  {
   "cell_type": "markdown",
   "id": "dbf4f3d0-52bb-42aa-b788-d7fc80e0c902",
   "metadata": {},
   "source": [
    "## Examples\n",
    "\n",
    "Look at Mathematical Python > Jupyter > LaTeX examples.\n",
    "\n",
    "Also, see [Table of Integrals, Series, and Products](https://en.wikipedia.org/wiki/Gradshteyn_and_Ryzhik).\n",
    "\n",
    "Formula 6.251 #1."
   ]
  },
  {
   "cell_type": "markdown",
   "id": "4e70b6b1-7f88-49cb-9164-8a66f279239a",
   "metadata": {},
   "source": [
    "$$\n",
    "\\int_0^\\infty \\mathrm{si} \\left( \\frac{1}{x} \\right)\n",
    "e^{- \\mu x} dx = \\frac{2}{\\mu} \\mathrm{kei} (2 \\sqrt{\\mu} )\n",
    "$$"
   ]
  }
 ],
 "metadata": {
  "kernelspec": {
   "display_name": "Python 3 (ipykernel)",
   "language": "python",
   "name": "python3"
  },
  "language_info": {
   "codemirror_mode": {
    "name": "ipython",
    "version": 3
   },
   "file_extension": ".py",
   "mimetype": "text/x-python",
   "name": "python",
   "nbconvert_exporter": "python",
   "pygments_lexer": "ipython3",
   "version": "3.11.6"
  }
 },
 "nbformat": 4,
 "nbformat_minor": 5
}
