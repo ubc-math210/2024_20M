{
 "cells": [
  {
   "cell_type": "markdown",
   "id": "5a0c49cc-19e7-471d-b23e-9562d9af0af3",
   "metadata": {},
   "source": [
    "# MATH 210 Introduction to Mathematical Computing\n",
    "\n",
    "**January 15, 2024**\n",
    "\n",
    "* Variables\n",
    "* Sequence Types\n",
    "* Builtin Functions for Sequences"
   ]
  },
  {
   "cell_type": "markdown",
   "id": "1933f047-38f2-41f6-9b0c-e465543d9fb0",
   "metadata": {},
   "source": [
    "## Variables\n",
    "\n",
    "The familiar variables $x$ and $y$ in mathematics allow us to write and modify expressions. In programming, we assign a value to a variable using the `=` operator and then we can write expressions with the variable name."
   ]
  },
  {
   "cell_type": "code",
   "execution_count": 2,
   "id": "d22d674e-7fe8-4ea0-9fd5-12489bcf3a0f",
   "metadata": {},
   "outputs": [],
   "source": [
    "x = 42"
   ]
  },
  {
   "cell_type": "markdown",
   "id": "d4f7e2fa-681a-415d-8132-f40e74771434",
   "metadata": {},
   "source": [
    "Use the function `print` to see the value assigned to a variable."
   ]
  },
  {
   "cell_type": "code",
   "execution_count": 3,
   "id": "e1b2e2b7-f470-4bc4-b6a2-c5aa22a72a0f",
   "metadata": {},
   "outputs": [
    {
     "name": "stdout",
     "output_type": "stream",
     "text": [
      "42\n"
     ]
    }
   ],
   "source": [
    "print(x)"
   ]
  },
  {
   "cell_type": "markdown",
   "id": "852f7883-4f1a-498a-95e1-b7f6c109489c",
   "metadata": {},
   "source": [
    "For example, let's compute the norm of a vector $(x,y)$:\n",
    "\n",
    "$$\n",
    "\\| (x,y) \\| = \\sqrt{x^2 + y^2}\n",
    "$$"
   ]
  },
  {
   "cell_type": "code",
   "execution_count": 4,
   "id": "6bfb52c5-29c1-4d9d-885d-d287c456ccb4",
   "metadata": {},
   "outputs": [
    {
     "name": "stdout",
     "output_type": "stream",
     "text": [
      "5.0\n"
     ]
    }
   ],
   "source": [
    "x = -3\n",
    "y = 4\n",
    "norm = (x**2 + y**2)**(1/2)\n",
    "print(norm)"
   ]
  },
  {
   "cell_type": "markdown",
   "id": "23af9e42-8e24-457b-9334-b025b3d4d41c",
   "metadata": {},
   "source": [
    "Write a script to compute the roots of $ax^2 + bx + c$."
   ]
  },
  {
   "cell_type": "code",
   "execution_count": 5,
   "id": "2749d12a-b20f-45ed-a347-5809539cb407",
   "metadata": {},
   "outputs": [
    {
     "name": "stdout",
     "output_type": "stream",
     "text": [
      "2.5\n",
      "-1.0\n"
     ]
    }
   ],
   "source": [
    "a = 2\n",
    "b = -3\n",
    "c = -5\n",
    "D = b**2 - 4*a*c # The discriminant of the quadratic formula\n",
    "x1 = (-b + D**0.5)/2/a\n",
    "x2 = (-b - D**0.5)/2/a\n",
    "print(x1)\n",
    "print(x2)"
   ]
  },
  {
   "cell_type": "markdown",
   "id": "3f0b458f-fb18-432c-a76a-bfc2677707c2",
   "metadata": {},
   "source": [
    "Note that we use `#` to write comments in our code. A comment is text that Python ignores.\n",
    "\n",
    "Note that when we assign a value to a variable we enter the variable on the left side."
   ]
  },
  {
   "cell_type": "code",
   "execution_count": 6,
   "id": "79031f20-af0a-4213-af1c-f8408ce0fa83",
   "metadata": {},
   "outputs": [
    {
     "ename": "SyntaxError",
     "evalue": "cannot assign to literal here. Maybe you meant '==' instead of '='? (245212987.py, line 1)",
     "output_type": "error",
     "traceback": [
      "\u001b[0;36m  Cell \u001b[0;32mIn[6], line 1\u001b[0;36m\u001b[0m\n\u001b[0;31m    2 = a\u001b[0m\n\u001b[0m    ^\u001b[0m\n\u001b[0;31mSyntaxError\u001b[0m\u001b[0;31m:\u001b[0m cannot assign to literal here. Maybe you meant '==' instead of '='?\n"
     ]
    }
   ],
   "source": [
    "2 = a"
   ]
  },
  {
   "cell_type": "markdown",
   "id": "1ea4c188-7ed3-4f28-bd23-3fa8716f489a",
   "metadata": {},
   "source": [
    "## Variable Names and Reserved Words\n",
    "\n",
    "A variable name can be any combination of letters, numbers and underscores `_`. But the name must begin with a letter or underscore."
   ]
  },
  {
   "cell_type": "code",
   "execution_count": 10,
   "id": "733595d9-a863-4f43-b160-a4b4587086d8",
   "metadata": {},
   "outputs": [],
   "source": [
    "x = 1"
   ]
  },
  {
   "cell_type": "code",
   "execution_count": 12,
   "id": "ef75a581-a5da-4cc5-892c-fe8638da9971",
   "metadata": {},
   "outputs": [
    {
     "data": {
      "text/plain": [
       "1"
      ]
     },
     "execution_count": 12,
     "metadata": {},
     "output_type": "execute_result"
    }
   ],
   "source": [
    "x"
   ]
  },
  {
   "cell_type": "code",
   "execution_count": 13,
   "id": "e46e5be8-7fb8-4edb-ac23-4699b56a6c6e",
   "metadata": {},
   "outputs": [
    {
     "ename": "SyntaxError",
     "evalue": "invalid decimal literal (873496648.py, line 1)",
     "output_type": "error",
     "traceback": [
      "\u001b[0;36m  Cell \u001b[0;32mIn[13], line 1\u001b[0;36m\u001b[0m\n\u001b[0;31m    1varname = 1\u001b[0m\n\u001b[0m    ^\u001b[0m\n\u001b[0;31mSyntaxError\u001b[0m\u001b[0;31m:\u001b[0m invalid decimal literal\n"
     ]
    }
   ],
   "source": [
    "1varname = 1"
   ]
  },
  {
   "cell_type": "markdown",
   "id": "bfb9dc19-3ce5-400a-9bf2-5337ea909074",
   "metadata": {},
   "source": [
    "It is good practice to use simple variable names such as `x`, `y`, `z`, `alpha`, `beta`, `gamma` or words with underscores like `distance_km`."
   ]
  },
  {
   "cell_type": "markdown",
   "id": "c8d44ba6-b4bb-4c2c-be91-c5ac15ebf7a7",
   "metadata": {},
   "source": [
    "There are some words that have special meaning in Python. We should avoid these words. See [reserved words](https://patrickwalls.github.io/mathematicalpython/python/variables/#reserved-words)."
   ]
  },
  {
   "cell_type": "markdown",
   "id": "5c7cb98c-d645-4c70-8e28-1cb64b4b68ee",
   "metadata": {},
   "source": [
    "## Sequence Types\n",
    "\n",
    "There are 3 main sequence types: `list`, `tuple` and `range`.\n",
    "\n",
    "Use square brackets `[ ... ]` to make a list. Separate values in the list by commas. Don't use `list` or `tuple` or `range` as a variable name!"
   ]
  },
  {
   "cell_type": "code",
   "execution_count": 14,
   "id": "80395246-4660-406f-bf7a-79400daf4b1f",
   "metadata": {},
   "outputs": [],
   "source": [
    "primes = [2,3,5,7,11,13,17,19]"
   ]
  },
  {
   "cell_type": "code",
   "execution_count": 15,
   "id": "84c0eac7-91be-420a-a4b3-dacebc03671f",
   "metadata": {},
   "outputs": [
    {
     "name": "stdout",
     "output_type": "stream",
     "text": [
      "[2, 3, 5, 7, 11, 13, 17, 19]\n"
     ]
    }
   ],
   "source": [
    "print(primes)"
   ]
  },
  {
   "cell_type": "code",
   "execution_count": 16,
   "id": "9ca79159-f02a-4867-a5f3-aed6ea26b8e2",
   "metadata": {},
   "outputs": [
    {
     "data": {
      "text/plain": [
       "list"
      ]
     },
     "execution_count": 16,
     "metadata": {},
     "output_type": "execute_result"
    }
   ],
   "source": [
    "type(primes)"
   ]
  },
  {
   "cell_type": "markdown",
   "id": "832166ac-6db3-4e4f-a356-71a3c03ee582",
   "metadata": {},
   "source": [
    "Use parentheses `( ... )` to make a tuple."
   ]
  },
  {
   "cell_type": "code",
   "execution_count": 17,
   "id": "ce9e32e7-fbe9-424c-90d0-3de1e45d38ed",
   "metadata": {},
   "outputs": [],
   "source": [
    "date = (2024,1,15)"
   ]
  },
  {
   "cell_type": "markdown",
   "id": "d9b9c0ef-de24-4f4f-a757-ac6dd6bbae59",
   "metadata": {},
   "source": [
    "Access entries in a list or tuple using index syntax. Note that Python sequences all start at index 0."
   ]
  },
  {
   "cell_type": "code",
   "execution_count": 18,
   "id": "13aa4b84-07e7-469c-a394-fee497322bda",
   "metadata": {},
   "outputs": [
    {
     "data": {
      "text/plain": [
       "19"
      ]
     },
     "execution_count": 18,
     "metadata": {},
     "output_type": "execute_result"
    }
   ],
   "source": [
    "primes[7]"
   ]
  },
  {
   "cell_type": "code",
   "execution_count": 19,
   "id": "bb79188b-8a4c-4277-a8c8-35184c400a42",
   "metadata": {},
   "outputs": [
    {
     "data": {
      "text/plain": [
       "1"
      ]
     },
     "execution_count": 19,
     "metadata": {},
     "output_type": "execute_result"
    }
   ],
   "source": [
    "date[1]"
   ]
  },
  {
   "cell_type": "markdown",
   "id": "7477b37b-6bd2-4bf8-b8fe-0c01ad2b7d0c",
   "metadata": {},
   "source": [
    "The main difference between lists and tuples is that we can change the entries in a list but not in a tuple."
   ]
  },
  {
   "cell_type": "code",
   "execution_count": 20,
   "id": "8491986e-e154-4630-92c7-6976626db564",
   "metadata": {},
   "outputs": [
    {
     "data": {
      "text/plain": [
       "[-1, 3, 5, 7, 11, 13, 17, 19]"
      ]
     },
     "execution_count": 20,
     "metadata": {},
     "output_type": "execute_result"
    }
   ],
   "source": [
    "primes[0] = -1\n",
    "primes"
   ]
  },
  {
   "cell_type": "code",
   "execution_count": 21,
   "id": "463a4aa6-dfe9-4e26-bbca-e9373189dfdb",
   "metadata": {},
   "outputs": [
    {
     "ename": "TypeError",
     "evalue": "'tuple' object does not support item assignment",
     "output_type": "error",
     "traceback": [
      "\u001b[0;31m---------------------------------------------------------------------------\u001b[0m",
      "\u001b[0;31mTypeError\u001b[0m                                 Traceback (most recent call last)",
      "Cell \u001b[0;32mIn[21], line 1\u001b[0m\n\u001b[0;32m----> 1\u001b[0m \u001b[43mdate\u001b[49m\u001b[43m[\u001b[49m\u001b[38;5;241;43m0\u001b[39;49m\u001b[43m]\u001b[49m \u001b[38;5;241m=\u001b[39m \u001b[38;5;241m1989\u001b[39m\n\u001b[1;32m      2\u001b[0m date\n",
      "\u001b[0;31mTypeError\u001b[0m: 'tuple' object does not support item assignment"
     ]
    }
   ],
   "source": [
    "date[0] = 1989\n",
    "date"
   ]
  },
  {
   "cell_type": "markdown",
   "id": "b2740519-21ce-44bb-aa3d-b8926d588f25",
   "metadata": {},
   "source": [
    "A range object represents a sequence of integers. The syntax is `range(a,b,step)`."
   ]
  },
  {
   "cell_type": "code",
   "execution_count": 22,
   "id": "63196f4b-1bbb-4c7c-8cb8-221f1da04305",
   "metadata": {},
   "outputs": [],
   "source": [
    "xvalues = range(0,10)"
   ]
  },
  {
   "cell_type": "code",
   "execution_count": 23,
   "id": "89d50c50-9db3-4713-9cf5-29c6a8b7030f",
   "metadata": {},
   "outputs": [
    {
     "name": "stdout",
     "output_type": "stream",
     "text": [
      "range(0, 10)\n"
     ]
    }
   ],
   "source": [
    "print(xvalues)"
   ]
  },
  {
   "cell_type": "markdown",
   "id": "bde1d0db-ff51-454d-b3e7-45dbe1b32d24",
   "metadata": {},
   "source": [
    "A `range` object does not store values. It only returns a value in the range when you ask for it. That makes it efficient for loops."
   ]
  },
  {
   "cell_type": "code",
   "execution_count": 24,
   "id": "f68d20c7-3ab7-42f8-9d98-c8c898a98331",
   "metadata": {},
   "outputs": [
    {
     "name": "stdout",
     "output_type": "stream",
     "text": [
      "0\n",
      "1\n",
      "2\n",
      "3\n",
      "4\n",
      "5\n",
      "6\n",
      "7\n",
      "8\n",
      "9\n"
     ]
    }
   ],
   "source": [
    "for x in xvalues:\n",
    "    print(x)"
   ]
  },
  {
   "cell_type": "markdown",
   "id": "4b5fcf5f-3d07-45f0-aab6-813e02344edb",
   "metadata": {},
   "source": [
    "Use the function `list` to convert a `range` object to a list."
   ]
  },
  {
   "cell_type": "code",
   "execution_count": 25,
   "id": "7cd23e6b-fef0-42aa-9475-664dfe47942d",
   "metadata": {},
   "outputs": [
    {
     "name": "stdout",
     "output_type": "stream",
     "text": [
      "range(0, 100, 4)\n"
     ]
    }
   ],
   "source": [
    "xrange = range(0,100,4)\n",
    "print(xrange)"
   ]
  },
  {
   "cell_type": "code",
   "execution_count": 26,
   "id": "d274b00f-6393-4a4d-a8db-25e16d3d75c7",
   "metadata": {},
   "outputs": [
    {
     "name": "stdout",
     "output_type": "stream",
     "text": [
      "[0, 4, 8, 12, 16, 20, 24, 28, 32, 36, 40, 44, 48, 52, 56, 60, 64, 68, 72, 76, 80, 84, 88, 92, 96]\n"
     ]
    }
   ],
   "source": [
    "xlist = list(xrange)\n",
    "print(xlist)"
   ]
  },
  {
   "cell_type": "markdown",
   "id": "2fb3ce17-6cf3-4036-a2ed-9b8ff6a86d93",
   "metadata": {},
   "source": [
    "We use `range` objects to create list of indices in a loop for iteration."
   ]
  },
  {
   "cell_type": "markdown",
   "id": "8045c7b3-55fb-4da1-989c-c35cf19ab541",
   "metadata": {},
   "source": [
    "## Builtin Functions for Sequences\n",
    "\n",
    "The function `sum` adds all the entries in a sequence."
   ]
  },
  {
   "cell_type": "code",
   "execution_count": 27,
   "id": "88f11978-0723-4826-ba53-ec5c9d6e1317",
   "metadata": {},
   "outputs": [
    {
     "name": "stdout",
     "output_type": "stream",
     "text": [
      "5050\n"
     ]
    }
   ],
   "source": [
    "N = 100\n",
    "numbers = range(1,N+1)\n",
    "s = sum(numbers)\n",
    "print(s)"
   ]
  },
  {
   "cell_type": "code",
   "execution_count": 28,
   "id": "01cf6985-eb24-44ea-9825-aeb062b6870d",
   "metadata": {},
   "outputs": [
    {
     "data": {
      "text/plain": [
       "5050.0"
      ]
     },
     "execution_count": 28,
     "metadata": {},
     "output_type": "execute_result"
    }
   ],
   "source": [
    "N*(N+1)/2"
   ]
  },
  {
   "cell_type": "code",
   "execution_count": 29,
   "id": "9f8f44eb-0f4c-4bee-a91b-ecc12617002c",
   "metadata": {},
   "outputs": [
    {
     "data": {
      "text/plain": [
       "[1, 2, 3, 4]"
      ]
     },
     "execution_count": 29,
     "metadata": {},
     "output_type": "execute_result"
    }
   ],
   "source": [
    "list(range(1,5))"
   ]
  },
  {
   "cell_type": "markdown",
   "id": "969aa6fe-9cfd-4993-8e9a-e516f0b25634",
   "metadata": {},
   "source": [
    "The length of `range(a,b)` is `b-a`."
   ]
  },
  {
   "cell_type": "code",
   "execution_count": 30,
   "id": "9443d3dc-246a-445f-92a6-63131c693cfe",
   "metadata": {},
   "outputs": [
    {
     "data": {
      "text/plain": [
       "100"
      ]
     },
     "execution_count": 30,
     "metadata": {},
     "output_type": "execute_result"
    }
   ],
   "source": [
    "max(numbers)"
   ]
  },
  {
   "cell_type": "code",
   "execution_count": 31,
   "id": "9af8e1cd-a036-41a4-a027-9cf038ac5043",
   "metadata": {},
   "outputs": [
    {
     "data": {
      "text/plain": [
       "1"
      ]
     },
     "execution_count": 31,
     "metadata": {},
     "output_type": "execute_result"
    }
   ],
   "source": [
    "min(numbers)"
   ]
  },
  {
   "cell_type": "code",
   "execution_count": 32,
   "id": "3b56e552-a3c4-4daa-9412-d31d4ec50b35",
   "metadata": {},
   "outputs": [
    {
     "data": {
      "text/plain": [
       "100"
      ]
     },
     "execution_count": 32,
     "metadata": {},
     "output_type": "execute_result"
    }
   ],
   "source": [
    "len(numbers)"
   ]
  }
 ],
 "metadata": {
  "kernelspec": {
   "display_name": "Python 3 (ipykernel)",
   "language": "python",
   "name": "python3"
  },
  "language_info": {
   "codemirror_mode": {
    "name": "ipython",
    "version": 3
   },
   "file_extension": ".py",
   "mimetype": "text/x-python",
   "name": "python",
   "nbconvert_exporter": "python",
   "pygments_lexer": "ipython3",
   "version": "3.11.6"
  }
 },
 "nbformat": 4,
 "nbformat_minor": 5
}
