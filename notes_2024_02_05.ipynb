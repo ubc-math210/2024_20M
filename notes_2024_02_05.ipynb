{
 "cells": [
  {
   "cell_type": "markdown",
   "id": "e7704857-52f2-4815-bf5b-b819c3438537",
   "metadata": {},
   "source": [
    "# MATH 210 Introduction to Mathematical Computing\n",
    "\n",
    "**February 5, 2024**"
   ]
  },
  {
   "cell_type": "markdown",
   "id": "8910bc41-a616-4b0c-b8ee-74d9a9861f31",
   "metadata": {},
   "source": [
    "Write a function called `bisection` which takes input parameters `f`, `a`, `b`,  and `N`, and returns the midpoint of the Nth interval after $N$ iterations of the bisection method."
   ]
  },
  {
   "cell_type": "code",
   "execution_count": 1,
   "id": "d8d97dfb-dd97-4a23-98ad-db7baa80613a",
   "metadata": {},
   "outputs": [],
   "source": [
    "def bisection(f,a,b,N):\n",
    "    an = a\n",
    "    bn = b\n",
    "    mn = (a + b)/2\n",
    "    for n in range(N):\n",
    "        if f(an)*f(mn) < 0:\n",
    "            bn = mn\n",
    "            mn = (an + bn)/2\n",
    "        elif f(mn)*f(bn) < 0:\n",
    "            an = mn\n",
    "            mn = (an + bn)/2\n",
    "        elif f(mn) == 0:\n",
    "            return mn\n",
    "    return mn"
   ]
  },
  {
   "cell_type": "code",
   "execution_count": 2,
   "id": "017ec644-ec64-4c6e-ad59-797d62a1db0f",
   "metadata": {},
   "outputs": [
    {
     "name": "stdout",
     "output_type": "stream",
     "text": [
      "1.5\n"
     ]
    }
   ],
   "source": [
    "f = lambda x: x**2 - 2\n",
    "a = 1; b = 2; N = 0;\n",
    "root = bisection(f,a,b,N)\n",
    "print(root) # 1.5"
   ]
  },
  {
   "cell_type": "code",
   "execution_count": 3,
   "id": "ceebd206-8551-4dc8-91ec-a4efbcd2e38e",
   "metadata": {},
   "outputs": [
    {
     "name": "stdout",
     "output_type": "stream",
     "text": [
      "1.25\n"
     ]
    }
   ],
   "source": [
    "f = lambda x: x**2 - 2\n",
    "a = 1; b = 2; N = 1;\n",
    "root = bisection(f,a,b,N)\n",
    "print(root) # 1.25"
   ]
  },
  {
   "cell_type": "code",
   "execution_count": 4,
   "id": "3f1a9aed-1a01-45f4-9014-f8a849fb7c80",
   "metadata": {},
   "outputs": [
    {
     "name": "stdout",
     "output_type": "stream",
     "text": [
      "1.375\n"
     ]
    }
   ],
   "source": [
    "f = lambda x: x**2 - 2\n",
    "a = 1; b = 2; N = 2;\n",
    "root = bisection(f,a,b,N)\n",
    "print(root) # (1.25 + 1.5)/2 = 1.375"
   ]
  },
  {
   "cell_type": "code",
   "execution_count": 5,
   "id": "6aa6f62d-40bf-4cf9-b281-7bf9d0ae5a77",
   "metadata": {},
   "outputs": [
    {
     "name": "stdout",
     "output_type": "stream",
     "text": [
      "1.414213562373095\n"
     ]
    }
   ],
   "source": [
    "f = lambda x: x**2 - 2\n",
    "a = 1; b = 2; N = 100;\n",
    "root = bisection(f,a,b,N)\n",
    "print(root) # Should return something close to 1.414..."
   ]
  },
  {
   "cell_type": "markdown",
   "id": "4e0e15af-cb3a-40c5-9a15-fd269800992b",
   "metadata": {},
   "source": [
    "Find values $a$ and $b$ and an integer $N$ which gurantees that $N$ iterations of the bisection method returns an approximation of a solution of the equation $x^x = 2$ with error less than 0.01."
   ]
  },
  {
   "cell_type": "markdown",
   "id": "74b5089f-8f49-4ec2-92ab-4858a198f7f9",
   "metadata": {},
   "source": [
    "Let $f(x) = x^x - 2$ and try $a = 1$ and $b = 2$."
   ]
  },
  {
   "cell_type": "code",
   "execution_count": 6,
   "id": "9ac38f4b-d0d7-4492-9d9f-341759749bd4",
   "metadata": {},
   "outputs": [],
   "source": [
    "f = lambda x: x**x - 2"
   ]
  },
  {
   "cell_type": "code",
   "execution_count": 7,
   "id": "b68bdb7f-8aef-49d1-988f-5affa659e03d",
   "metadata": {},
   "outputs": [
    {
     "data": {
      "text/plain": [
       "-1"
      ]
     },
     "execution_count": 7,
     "metadata": {},
     "output_type": "execute_result"
    }
   ],
   "source": [
    "f(1)"
   ]
  },
  {
   "cell_type": "code",
   "execution_count": 8,
   "id": "78de4027-e09e-4cac-adc3-0c71d2e77a78",
   "metadata": {},
   "outputs": [
    {
     "data": {
      "text/plain": [
       "2"
      ]
     },
     "execution_count": 8,
     "metadata": {},
     "output_type": "execute_result"
    }
   ],
   "source": [
    "f(2)"
   ]
  },
  {
   "cell_type": "markdown",
   "id": "49f1cef3-e421-419e-97a3-5fa74f982a51",
   "metadata": {},
   "source": [
    "The error formula states $|m_n - r| < \\frac{b-a}{2^{n+1}}$ therefore\n",
    "\n",
    "$$\n",
    "\\frac{2 - 1}{2^{N+1}} = 0.01 \\ \\Rightarrow \\ N \\approx \\frac{\\log(50)}{\\log(2)} = 5.64\n",
    "$$\n",
    "\n",
    "Choose $N = 6$."
   ]
  },
  {
   "cell_type": "code",
   "execution_count": 9,
   "id": "c62d7711-6296-4f62-b760-cf785e93aa01",
   "metadata": {},
   "outputs": [
    {
     "name": "stdout",
     "output_type": "stream",
     "text": [
      "1.5546875\n"
     ]
    }
   ],
   "source": [
    "f = lambda x: x**x - 2\n",
    "a = 1; b = 2; N = 6;\n",
    "root = bisection(f,a,b,N)\n",
    "print(root)"
   ]
  },
  {
   "cell_type": "code",
   "execution_count": 10,
   "id": "f10373e5-c69d-409c-8d34-4f0770eff4bd",
   "metadata": {},
   "outputs": [
    {
     "data": {
      "text/plain": [
       "1.9858440616852646"
      ]
     },
     "execution_count": 10,
     "metadata": {},
     "output_type": "execute_result"
    }
   ],
   "source": [
    "root**root"
   ]
  }
 ],
 "metadata": {
  "kernelspec": {
   "display_name": "Python 3 (ipykernel)",
   "language": "python",
   "name": "python3"
  },
  "language_info": {
   "codemirror_mode": {
    "name": "ipython",
    "version": 3
   },
   "file_extension": ".py",
   "mimetype": "text/x-python",
   "name": "python",
   "nbconvert_exporter": "python",
   "pygments_lexer": "ipython3",
   "version": "3.11.6"
  }
 },
 "nbformat": 4,
 "nbformat_minor": 5
}
