{
 "cells": [
  {
   "cell_type": "markdown",
   "id": "e700e096-c24d-4d37-bcf2-fe1fa25cf961",
   "metadata": {},
   "source": [
    "# MATH 210 Introduction to Mathematical Computing\n",
    "\n",
    "**February 7, 2024**"
   ]
  },
  {
   "cell_type": "markdown",
   "id": "3f76baa3-cee3-4552-9e34-f435fecfa6ba",
   "metadata": {},
   "source": [
    "Write a function called `secant` which takes input parameters `f`, `a`, `b`,  and `N`, and returns the x-intercept of the secant line of the Nth interval after $N$ iterations of the secant method."
   ]
  },
  {
   "cell_type": "code",
   "execution_count": 1,
   "id": "c1b7a761-0c5e-43cc-9f2a-f38c5cd73a44",
   "metadata": {},
   "outputs": [],
   "source": [
    "def secant(f,a,b,N):\n",
    "    an = a\n",
    "    bn = b\n",
    "    sn = an - f(an)*(bn - an)/(f(bn) - f(an))\n",
    "    for n in range(N):\n",
    "        if f(an)*f(sn) < 0:\n",
    "            bn = sn\n",
    "            sn = an - f(an)*(bn - an)/(f(bn) - f(an))\n",
    "        elif f(sn)*f(bn) < 0:\n",
    "            an = sn\n",
    "            sn = an - f(an)*(bn - an)/(f(bn) - f(an))\n",
    "        elif f(sn) == 0:\n",
    "            return sn\n",
    "    return sn"
   ]
  },
  {
   "cell_type": "code",
   "execution_count": 2,
   "id": "2269e09d-9e8f-4051-8a5d-5070e7e4a16a",
   "metadata": {},
   "outputs": [
    {
     "name": "stdout",
     "output_type": "stream",
     "text": [
      "1.414213562373095\n"
     ]
    }
   ],
   "source": [
    "f = lambda x: x**2 - 2\n",
    "a = 1; b = 2; N = 100;\n",
    "root = secant(f,a,b,N)\n",
    "print(root)"
   ]
  },
  {
   "cell_type": "markdown",
   "id": "1237e9c8-f96c-4a45-8fb0-29123557e733",
   "metadata": {},
   "source": [
    "Find values $a$ and $b$ and an integer $N$ which gurantees that $N$ iterations of the bisection method returns an approximation of a solution of the equation $x^x = 2$ with error less than 0.01."
   ]
  },
  {
   "cell_type": "markdown",
   "id": "a3f55ce3-0535-4748-980d-cda2de03afbc",
   "metadata": {},
   "source": [
    "Let $f(x) = x^x - 2$ and try $a = 1$ and $b = 2$."
   ]
  },
  {
   "cell_type": "code",
   "execution_count": 3,
   "id": "46a0fae7-55cc-4cf5-9b39-1776c76d9f07",
   "metadata": {},
   "outputs": [],
   "source": [
    "f = lambda x: x**x - 2"
   ]
  },
  {
   "cell_type": "code",
   "execution_count": 4,
   "id": "8a52ec1c-ac5b-4c00-b585-824a9e244416",
   "metadata": {},
   "outputs": [
    {
     "data": {
      "text/plain": [
       "-1"
      ]
     },
     "execution_count": 4,
     "metadata": {},
     "output_type": "execute_result"
    }
   ],
   "source": [
    "f(1)"
   ]
  },
  {
   "cell_type": "code",
   "execution_count": 5,
   "id": "946389d1-93f8-4ac5-9f67-f9ff423f4066",
   "metadata": {},
   "outputs": [
    {
     "data": {
      "text/plain": [
       "2"
      ]
     },
     "execution_count": 5,
     "metadata": {},
     "output_type": "execute_result"
    }
   ],
   "source": [
    "f(2)"
   ]
  },
  {
   "cell_type": "code",
   "execution_count": 6,
   "id": "cb1da967-c863-4d80-82a7-2ca52fe2480b",
   "metadata": {},
   "outputs": [
    {
     "data": {
      "text/plain": [
       "1.5595710609473319"
      ]
     },
     "execution_count": 6,
     "metadata": {},
     "output_type": "execute_result"
    }
   ],
   "source": [
    "secant(f,-1,2,10)"
   ]
  },
  {
   "cell_type": "markdown",
   "id": "db876897-ec15-4fba-be97-23d3d46fa53c",
   "metadata": {},
   "source": [
    "## Example"
   ]
  },
  {
   "cell_type": "markdown",
   "id": "c615bc51-af1d-4ef1-ae9a-3c5bfea0cea5",
   "metadata": {},
   "source": [
    "Approximate all roots of the equation $x^4 + 2x^3 - x^2 - 1 = 0$.\n",
    "\n",
    "Let $f(x) = x^4 + 2x^3 - x^2 - 1$. How many real roots does $f(x)$ have?\n",
    "\n",
    "Since $f(0) = -1$ and $f(1) = 1$, there is a root in $[0,1]$. Since $f(x)$ is degree 4 we know that it has either 0, 2 or 4 real roots. So it has either 2 or 4.\n",
    "\n",
    "Compute $f'(x) = 4x^3 + 6x^2 - 2x = x(4x^2 + 6x - 2)$. Then $f'(x) = 0$ for $x=0$ and \n",
    "\n",
    "$$\n",
    "x = \\frac{-6 \\pm \\sqrt{36 - 4(4)(-2)}}{2(4)} = \\frac{-3 \\pm \\sqrt{17}}{4} \\approx -1.75,0.25\n",
    "$$"
   ]
  },
  {
   "cell_type": "code",
   "execution_count": 7,
   "id": "c4f1510e-fc5e-4b68-a89e-e0951ca9e1d8",
   "metadata": {},
   "outputs": [],
   "source": [
    "f = lambda x: x**4 + 2*x**3 - x**2 - 1\n",
    "df = lambda x: 4*x**3 + 6*x**2 - 2*x"
   ]
  },
  {
   "cell_type": "code",
   "execution_count": 8,
   "id": "fe5f82a2-abb4-4d90-8f91-fd8c5d1b24d6",
   "metadata": {},
   "outputs": [
    {
     "data": {
      "text/plain": [
       "-1"
      ]
     },
     "execution_count": 8,
     "metadata": {},
     "output_type": "execute_result"
    }
   ],
   "source": [
    "f(0)"
   ]
  },
  {
   "cell_type": "code",
   "execution_count": 9,
   "id": "e202978f-9a18-41bf-a224-2b2d19e20d78",
   "metadata": {},
   "outputs": [
    {
     "data": {
      "text/plain": [
       "1"
      ]
     },
     "execution_count": 9,
     "metadata": {},
     "output_type": "execute_result"
    }
   ],
   "source": [
    "f(1)"
   ]
  },
  {
   "cell_type": "code",
   "execution_count": 10,
   "id": "af8d2d39-39fe-4632-bad5-65aeda1784a3",
   "metadata": {},
   "outputs": [
    {
     "data": {
      "text/plain": [
       "-1.7807764064044151"
      ]
     },
     "execution_count": 10,
     "metadata": {},
     "output_type": "execute_result"
    }
   ],
   "source": [
    "r1 = (-3 - 17**0.5)/4\n",
    "r1"
   ]
  },
  {
   "cell_type": "code",
   "execution_count": 12,
   "id": "d2a04dc2-800c-4afe-8928-35cbf87b4f0a",
   "metadata": {},
   "outputs": [
    {
     "data": {
      "text/plain": [
       "0.28077640640441515"
      ]
     },
     "execution_count": 12,
     "metadata": {},
     "output_type": "execute_result"
    }
   ],
   "source": [
    "r2 = (-3 + 17**0.5)/4\n",
    "r2"
   ]
  },
  {
   "cell_type": "markdown",
   "id": "6e58ae7c-b389-496b-b708-73e98883625c",
   "metadata": {},
   "source": [
    "The roots of $f'(x)$ are $x=r_1,0,r_2$."
   ]
  },
  {
   "cell_type": "code",
   "execution_count": 13,
   "id": "4b5c48cb-61fd-4580-9b80-cc1f158eb704",
   "metadata": {},
   "outputs": [
    {
     "data": {
      "text/plain": [
       "-4"
      ]
     },
     "execution_count": 13,
     "metadata": {},
     "output_type": "execute_result"
    }
   ],
   "source": [
    "df(-2)"
   ]
  },
  {
   "cell_type": "code",
   "execution_count": 14,
   "id": "128329f2-cf59-4eb1-850f-e59e2fde7d09",
   "metadata": {},
   "outputs": [
    {
     "data": {
      "text/plain": [
       "4"
      ]
     },
     "execution_count": 14,
     "metadata": {},
     "output_type": "execute_result"
    }
   ],
   "source": [
    "df(-1)"
   ]
  },
  {
   "cell_type": "code",
   "execution_count": 15,
   "id": "b6b7b9ac-d72f-408f-b0c2-4446f50d88cf",
   "metadata": {},
   "outputs": [
    {
     "data": {
      "text/plain": [
       "-0.136"
      ]
     },
     "execution_count": 15,
     "metadata": {},
     "output_type": "execute_result"
    }
   ],
   "source": [
    "df(0.1)"
   ]
  },
  {
   "cell_type": "code",
   "execution_count": 16,
   "id": "cdef7b92-0cc5-495a-bcba-68d8433302f1",
   "metadata": {},
   "outputs": [
    {
     "data": {
      "text/plain": [
       "8"
      ]
     },
     "execution_count": 16,
     "metadata": {},
     "output_type": "execute_result"
    }
   ],
   "source": [
    "df(1)"
   ]
  },
  {
   "cell_type": "markdown",
   "id": "7c6a25e8-b400-455f-a756-38ff79dc84a7",
   "metadata": {},
   "source": [
    "Therefore $f(x)$ is decreasing on $(-\\infty,r_1)$ and $(0,r_2)$, and $f(x)$ is increasing on $(r_1,0)$ and $(r_2,\\infty)$.\n",
    "\n",
    "Check the values at the critical point $x=r_1,0,r_2$."
   ]
  },
  {
   "cell_type": "code",
   "execution_count": 17,
   "id": "61253c41-5865-4a47-90a8-d02c7a8b0fb7",
   "metadata": {},
   "outputs": [
    {
     "data": {
      "text/plain": [
       "-5.409149863609382"
      ]
     },
     "execution_count": 17,
     "metadata": {},
     "output_type": "execute_result"
    }
   ],
   "source": [
    "f(r1)"
   ]
  },
  {
   "cell_type": "code",
   "execution_count": 18,
   "id": "21545cce-f17c-4c3d-ba77-abe9411f5d93",
   "metadata": {},
   "outputs": [
    {
     "data": {
      "text/plain": [
       "-1"
      ]
     },
     "execution_count": 18,
     "metadata": {},
     "output_type": "execute_result"
    }
   ],
   "source": [
    "f(0)"
   ]
  },
  {
   "cell_type": "code",
   "execution_count": 19,
   "id": "da2315af-f29d-4abb-99a4-b2c99dd9ddb8",
   "metadata": {},
   "outputs": [
    {
     "data": {
      "text/plain": [
       "-1.0283501363906178"
      ]
     },
     "execution_count": 19,
     "metadata": {},
     "output_type": "execute_result"
    }
   ],
   "source": [
    "f(r2)"
   ]
  },
  {
   "cell_type": "markdown",
   "id": "6d295542-343a-4e19-8d65-94aace4401fe",
   "metadata": {},
   "source": [
    "Since all the critical points are less than 0, the function $f(x)$ is less than 0 for all $x \\in [r_1,r_2]$. Since $f(x)$ is decreasing on $(\\infty,r_1)$, there is at most one root in that interval. Since $f(x)$ is increasing on $(r_2,\\infty)$, there is at most one root in that interval.\n",
    "\n",
    "In conclusion, there are 2 real roots."
   ]
  },
  {
   "cell_type": "code",
   "execution_count": 20,
   "id": "5febc3f9-9f47-43d3-b230-464c31514b55",
   "metadata": {},
   "outputs": [
    {
     "data": {
      "text/plain": [
       "17"
      ]
     },
     "execution_count": 20,
     "metadata": {},
     "output_type": "execute_result"
    }
   ],
   "source": [
    "f(-3)"
   ]
  },
  {
   "cell_type": "code",
   "execution_count": 21,
   "id": "44186dcf-6b2f-4801-8386-8130cf669f90",
   "metadata": {},
   "outputs": [
    {
     "data": {
      "text/plain": [
       "-5"
      ]
     },
     "execution_count": 21,
     "metadata": {},
     "output_type": "execute_result"
    }
   ],
   "source": [
    "f(-2)"
   ]
  },
  {
   "cell_type": "markdown",
   "id": "a1db4127-7750-43b3-b2f6-865fbb1443fd",
   "metadata": {},
   "source": [
    "There are 2 roots. The first is in interval $[-3,-2]$, the other is in $[0,1]$."
   ]
  },
  {
   "cell_type": "code",
   "execution_count": 22,
   "id": "78fb8d72-ac79-4714-9233-96d751f20876",
   "metadata": {},
   "outputs": [],
   "source": [
    "xn = -2.5\n",
    "N = 10\n",
    "for n in range(N):\n",
    "    xn = xn - f(xn)/df(xn)"
   ]
  },
  {
   "cell_type": "code",
   "execution_count": 23,
   "id": "76a843a6-bcd8-4626-bac3-038bb285427c",
   "metadata": {},
   "outputs": [
    {
     "data": {
      "text/plain": [
       "-2.470979379835601"
      ]
     },
     "execution_count": 23,
     "metadata": {},
     "output_type": "execute_result"
    }
   ],
   "source": [
    "xn"
   ]
  },
  {
   "cell_type": "code",
   "execution_count": 24,
   "id": "382ab4f4-159b-495d-8b34-fa1b4c2abf79",
   "metadata": {},
   "outputs": [],
   "source": [
    "xn = 0.5\n",
    "N = 10\n",
    "for n in range(N):\n",
    "    xn = xn - f(xn)/df(xn)"
   ]
  },
  {
   "cell_type": "code",
   "execution_count": 25,
   "id": "116fc212-f58d-41f9-add0-21b61707abe6",
   "metadata": {},
   "outputs": [
    {
     "data": {
      "text/plain": [
       "0.8444985475173424"
      ]
     },
     "execution_count": 25,
     "metadata": {},
     "output_type": "execute_result"
    }
   ],
   "source": [
    "xn"
   ]
  }
 ],
 "metadata": {
  "kernelspec": {
   "display_name": "Python 3 (ipykernel)",
   "language": "python",
   "name": "python3"
  },
  "language_info": {
   "codemirror_mode": {
    "name": "ipython",
    "version": 3
   },
   "file_extension": ".py",
   "mimetype": "text/x-python",
   "name": "python",
   "nbconvert_exporter": "python",
   "pygments_lexer": "ipython3",
   "version": "3.11.6"
  }
 },
 "nbformat": 4,
 "nbformat_minor": 5
}
