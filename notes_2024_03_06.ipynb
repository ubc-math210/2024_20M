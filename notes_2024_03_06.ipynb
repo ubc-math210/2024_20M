{
 "cells": [
  {
   "cell_type": "markdown",
   "id": "a923078e-226c-4828-bfa7-00c666502da2",
   "metadata": {},
   "source": [
    "# MATH 210 Introduction to Mathematical Computing\n",
    "\n",
    "**March 6, 2024**"
   ]
  },
  {
   "cell_type": "code",
   "execution_count": 1,
   "id": "dc496281-97f0-4b75-b080-d3663151a25a",
   "metadata": {
    "tags": []
   },
   "outputs": [],
   "source": [
    "import numpy as np\n",
    "import matplotlib.pyplot as plt"
   ]
  },
  {
   "cell_type": "markdown",
   "id": "c165a7d8-3cc3-471f-9be9-bdcfa3d0e98e",
   "metadata": {},
   "source": [
    "## Trapezoid Rule\n",
    "\n",
    "Find an $N$ wich gurantees $E_N^T(f) \\leq 0.001$ for\n",
    "\n",
    "$$\n",
    "\\int_0^{\\sqrt{\\pi/2}} \\sin(x^2) dx\n",
    "$$"
   ]
  },
  {
   "cell_type": "code",
   "execution_count": 2,
   "id": "8657f0be-e20e-4eb0-81e0-bf76bdc35e3f",
   "metadata": {
    "tags": []
   },
   "outputs": [
    {
     "data": {
      "text/plain": [
       "36.86361938735259"
      ]
     },
     "execution_count": 2,
     "metadata": {},
     "output_type": "execute_result"
    }
   ],
   "source": [
    "error = 0.001\n",
    "K2 = 2 + 2*np.pi\n",
    "b = np.pi/2\n",
    "a = 0\n",
    "((b - a)**(3/2)*K2/12/error)**(1/2)"
   ]
  },
  {
   "cell_type": "code",
   "execution_count": 3,
   "id": "453e18af-5953-4fd1-9eed-eae1101feb40",
   "metadata": {
    "tags": []
   },
   "outputs": [
    {
     "name": "stdout",
     "output_type": "stream",
     "text": [
      "0.5492764127484676\n"
     ]
    }
   ],
   "source": [
    "a = 0\n",
    "b = np.sqrt(np.pi/2)\n",
    "f = lambda x: np.sin(x**2)\n",
    "N = 37\n",
    "dx = (b - a)/N\n",
    "x = np.linspace(a,b,N+1)\n",
    "y = f(x)\n",
    "TN = np.sum(y[1:] + y[:-1])/2*dx\n",
    "print(TN)"
   ]
  },
  {
   "cell_type": "markdown",
   "id": "701c6a43-bb7e-4789-a1f2-884edb897441",
   "metadata": {},
   "source": [
    "There are NumPy/SciPy functions for numerical integration."
   ]
  },
  {
   "cell_type": "code",
   "execution_count": 4,
   "id": "240d5c94-17e9-4f80-b443-2e7ab1e5e010",
   "metadata": {
    "tags": []
   },
   "outputs": [
    {
     "name": "stdout",
     "output_type": "stream",
     "text": [
      "0.5492764127484675\n"
     ]
    }
   ],
   "source": [
    "T = np.trapz(y,x)\n",
    "print(T)"
   ]
  },
  {
   "cell_type": "markdown",
   "id": "bffefe50-0bd9-4819-901d-66455ae18c2a",
   "metadata": {},
   "source": [
    "Plot $f''(x) = 2\\cos(x^2) - 4x^2 \\sin(x^2)$ to observe the maximum value of $|f''(x)|$."
   ]
  },
  {
   "cell_type": "code",
   "execution_count": 5,
   "id": "d628418c-9f31-4af7-8ce7-90729412bb5b",
   "metadata": {
    "tags": []
   },
   "outputs": [
    {
     "data": {
      "image/png": "[encoded data removed]",
      "text/plain": [
       "<Figure size 640x480 with 1 Axes>"
      ]
     },
     "metadata": {},
     "output_type": "display_data"
    }
   ],
   "source": [
    "d2f = lambda x: 2*np.cos(x**2) - 4*x**2*np.sin(x**2)\n",
    "plt.plot(x,d2f(x))\n",
    "plt.show()"
   ]
  },
  {
   "cell_type": "markdown",
   "id": "cd9eadda-7548-410c-b611-9d0f4441e542",
   "metadata": {
    "tags": []
   },
   "source": [
    "The maxmimum occurs at the endpoint $x = \\sqrt{\\pi/2}$."
   ]
  }
 ],
 "metadata": {
  "kernelspec": {
   "display_name": "Python 3 (ipykernel)",
   "language": "python",
   "name": "python3"
  },
  "language_info": {
   "codemirror_mode": {
    "name": "ipython",
    "version": 3
   },
   "file_extension": ".py",
   "mimetype": "text/x-python",
   "name": "python",
   "nbconvert_exporter": "python",
   "pygments_lexer": "ipython3",
   "version": "3.10.12"
  }
 },
 "nbformat": 4,
 "nbformat_minor": 5
}
